{
 "cells": [
  {
   "cell_type": "markdown",
   "id": "f372d85d6e9f886c",
   "metadata": {},
   "source": [
    "# 1. Exploration initiale des données "
   ]
  },
  {
   "cell_type": "code",
   "execution_count": null,
   "id": "f0825504c5639612",
   "metadata": {
    "collapsed": false,
    "is_executing": true
   },
   "outputs": [],
   "source": [
    "pip install pycountry"
   ]
  },
  {
   "cell_type": "code",
   "execution_count": null,
   "id": "4550a11cd773ff9b",
   "metadata": {
    "collapsed": false,
    "is_executing": true
   },
   "outputs": [],
   "source": [
    "!pip install scikit-learn"
   ]
  },
  {
   "cell_type": "markdown",
   "id": "9dd5c79196c4c21a",
   "metadata": {},
   "source": [
    "## 1.1. Importation des bibliothèques nécessaires"
   ]
  },
  {
   "cell_type": "code",
   "execution_count": 1,
   "id": "da78f83ebb5b8ca1",
   "metadata": {
    "ExecuteTime": {
     "end_time": "2023-12-04T15:28:45.491942600Z",
     "start_time": "2023-12-04T15:28:45.153081900Z"
    }
   },
   "outputs": [],
   "source": [
    "import numpy as np\n",
    "import pandas as pd # Pandas librairy to get data from any sources, csv or others file type\n",
    "import matplotlib.pyplot as plt\n",
    "import seaborn as sns\n",
    "from sklearn.impute import KNNImputer\n",
    "from scipy import stats\n",
    "import pycountry"
   ]
  },
  {
   "cell_type": "markdown",
   "id": "14edb385a0aaabb0",
   "metadata": {
    "collapsed": false
   },
   "source": [
    "## 1.2 Paramétrages des methodes de bibliothèques (si nécessaire)\n",
    "\n",
    "- Aucun (pour l'instant)"
   ]
  },
  {
   "cell_type": "markdown",
   "id": "57a0a2b8166c8d59",
   "metadata": {},
   "source": [
    "## 1.3 Chargement des données \n",
    "Ici nous avons récupérer les données via le site d'Open Food Facts (https://static.openfoodfacts.org/) au format csv, que nous avons stocker dans le dossier associé \"Resources\"\n",
    "Instanciation dans la variable \"df\" pour dataframe\n",
    "___Attention le chargement des données est couteuse en ressources, assurez-vous d'avoir les ressources matérielles nécessaire pour exécuter la lecture de 8go de données (3 à 10 millions de lignes)___"
   ]
  },
  {
   "cell_type": "code",
   "execution_count": 2,
   "id": "e359dd36e04ecebd",
   "metadata": {
    "ExecuteTime": {
     "end_time": "2023-12-04T15:29:08.244837800Z",
     "start_time": "2023-12-04T15:28:48.120203500Z"
    }
   },
   "outputs": [
    {
     "name": "stderr",
     "output_type": "stream",
     "text": [
      "C:\\Users\\antoi\\AppData\\Local\\Temp\\ipykernel_29328\\4023167406.py:1: FutureWarning: The error_bad_lines argument has been deprecated and will be removed in a future version. Use on_bad_lines in the future.\n",
      "\n",
      "\n",
      "  df = pd.read_csv('./resources/fr.openfoodfacts.org.products.csv', sep='\\t', error_bad_lines=False, warn_bad_lines=True, engine='python')\n",
      "C:\\Users\\antoi\\AppData\\Local\\Temp\\ipykernel_29328\\4023167406.py:1: FutureWarning: The warn_bad_lines argument has been deprecated and will be removed in a future version. Use on_bad_lines in the future.\n",
      "\n",
      "\n",
      "  df = pd.read_csv('./resources/fr.openfoodfacts.org.products.csv', sep='\\t', error_bad_lines=False, warn_bad_lines=True, engine='python')\n",
      "Skipping line 35984: '\t' expected after '\"'\n",
      "Skipping line 153938: '\t' expected after '\"'\n",
      "Skipping line 153939: '\t' expected after '\"'\n",
      "Skipping line 153940: '\t' expected after '\"'\n",
      "Skipping line 169607: '\t' expected after '\"'\n"
     ]
    }
   ],
   "source": [
    "df = pd.read_csv('./resources/fr.openfoodfacts.org.products.csv', sep='\\t', error_bad_lines=False, warn_bad_lines=True, engine='python')"
   ]
  },
  {
   "cell_type": "markdown",
   "id": "7788cbac9201a283",
   "metadata": {},
   "source": [
    "## 1.4 Aperçu des premières lignes, types de données, statistiques descriptives"
   ]
  },
  {
   "cell_type": "markdown",
   "id": "addc62690c4ca693",
   "metadata": {
    "collapsed": false
   },
   "source": [
    "### 1.4.1 Visualiser les premières et dernières lignes de donnnées"
   ]
  },
  {
   "cell_type": "code",
   "execution_count": 3,
   "id": "4b3719b70d33dd65",
   "metadata": {
    "collapsed": false,
    "ExecuteTime": {
     "end_time": "2023-12-04T15:29:34.446999100Z",
     "start_time": "2023-12-04T15:29:34.400350500Z"
    }
   },
   "outputs": [
    {
     "name": "stdout",
     "output_type": "stream",
     "text": [
      "Dataframe (Values.count(), Columns.count()) :  (320767, 162)\n"
     ]
    }
   ],
   "source": [
    "print(f\"Dataframe (Values.count(), Columns.count()) : \", df.shape)"
   ]
  },
  {
   "cell_type": "markdown",
   "id": "637cdb67f65a0564",
   "metadata": {
    "collapsed": false
   },
   "source": [
    "Les premières lignes :"
   ]
  },
  {
   "cell_type": "code",
   "execution_count": 4,
   "id": "c5d37b0722f0415c",
   "metadata": {
    "ExecuteTime": {
     "end_time": "2023-12-04T15:29:36.103634600Z",
     "start_time": "2023-12-04T15:29:36.023339900Z"
    }
   },
   "outputs": [
    {
     "data": {
      "text/plain": "            code                                                url  \\\n0  0000000003087  http://world-fr.openfoodfacts.org/produit/0000...   \n1  0000000004530  http://world-fr.openfoodfacts.org/produit/0000...   \n2  0000000004559  http://world-fr.openfoodfacts.org/produit/0000...   \n3  0000000016087  http://world-fr.openfoodfacts.org/produit/0000...   \n4  0000000016094  http://world-fr.openfoodfacts.org/produit/0000...   \n\n                      creator   created_t      created_datetime  \\\n0  openfoodfacts-contributors  1474103866  2016-09-17T09:17:46Z   \n1             usda-ndb-import  1489069957  2017-03-09T14:32:37Z   \n2             usda-ndb-import  1489069957  2017-03-09T14:32:37Z   \n3             usda-ndb-import  1489055731  2017-03-09T10:35:31Z   \n4             usda-ndb-import  1489055653  2017-03-09T10:34:13Z   \n\n  last_modified_t last_modified_datetime                    product_name  \\\n0      1474103893   2016-09-17T09:18:13Z              Farine de blé noir   \n1      1489069957   2017-03-09T14:32:37Z  Banana Chips Sweetened (Whole)   \n2      1489069957   2017-03-09T14:32:37Z                         Peanuts   \n3      1489055731   2017-03-09T10:35:31Z          Organic Salted Nut Mix   \n4      1489055653   2017-03-09T10:34:13Z                 Organic Polenta   \n\n  generic_name quantity  ... ph_100g fruits-vegetables-nuts_100g  \\\n0          NaN      1kg  ...     NaN                         NaN   \n1          NaN      NaN  ...     NaN                         NaN   \n2          NaN      NaN  ...     NaN                         NaN   \n3          NaN      NaN  ...     NaN                         NaN   \n4          NaN      NaN  ...     NaN                         NaN   \n\n  collagen-meat-protein-ratio_100g cocoa_100g chlorophyl_100g  \\\n0                              NaN        NaN             NaN   \n1                              NaN        NaN             NaN   \n2                              NaN        NaN             NaN   \n3                              NaN        NaN             NaN   \n4                              NaN        NaN             NaN   \n\n  carbon-footprint_100g nutrition-score-fr_100g nutrition-score-uk_100g  \\\n0                   NaN                     NaN                     NaN   \n1                   NaN                    14.0                    14.0   \n2                   NaN                     0.0                     0.0   \n3                   NaN                    12.0                    12.0   \n4                   NaN                     NaN                     NaN   \n\n  glycemic-index_100g water-hardness_100g  \n0                 NaN                 NaN  \n1                 NaN                 NaN  \n2                 NaN                 NaN  \n3                 NaN                 NaN  \n4                 NaN                 NaN  \n\n[5 rows x 162 columns]",
      "text/html": "<div>\n<style scoped>\n    .dataframe tbody tr th:only-of-type {\n        vertical-align: middle;\n    }\n\n    .dataframe tbody tr th {\n        vertical-align: top;\n    }\n\n    .dataframe thead th {\n        text-align: right;\n    }\n</style>\n<table border=\"1\" class=\"dataframe\">\n  <thead>\n    <tr style=\"text-align: right;\">\n      <th></th>\n      <th>code</th>\n      <th>url</th>\n      <th>creator</th>\n      <th>created_t</th>\n      <th>created_datetime</th>\n      <th>last_modified_t</th>\n      <th>last_modified_datetime</th>\n      <th>product_name</th>\n      <th>generic_name</th>\n      <th>quantity</th>\n      <th>...</th>\n      <th>ph_100g</th>\n      <th>fruits-vegetables-nuts_100g</th>\n      <th>collagen-meat-protein-ratio_100g</th>\n      <th>cocoa_100g</th>\n      <th>chlorophyl_100g</th>\n      <th>carbon-footprint_100g</th>\n      <th>nutrition-score-fr_100g</th>\n      <th>nutrition-score-uk_100g</th>\n      <th>glycemic-index_100g</th>\n      <th>water-hardness_100g</th>\n    </tr>\n  </thead>\n  <tbody>\n    <tr>\n      <th>0</th>\n      <td>0000000003087</td>\n      <td>http://world-fr.openfoodfacts.org/produit/0000...</td>\n      <td>openfoodfacts-contributors</td>\n      <td>1474103866</td>\n      <td>2016-09-17T09:17:46Z</td>\n      <td>1474103893</td>\n      <td>2016-09-17T09:18:13Z</td>\n      <td>Farine de blé noir</td>\n      <td>NaN</td>\n      <td>1kg</td>\n      <td>...</td>\n      <td>NaN</td>\n      <td>NaN</td>\n      <td>NaN</td>\n      <td>NaN</td>\n      <td>NaN</td>\n      <td>NaN</td>\n      <td>NaN</td>\n      <td>NaN</td>\n      <td>NaN</td>\n      <td>NaN</td>\n    </tr>\n    <tr>\n      <th>1</th>\n      <td>0000000004530</td>\n      <td>http://world-fr.openfoodfacts.org/produit/0000...</td>\n      <td>usda-ndb-import</td>\n      <td>1489069957</td>\n      <td>2017-03-09T14:32:37Z</td>\n      <td>1489069957</td>\n      <td>2017-03-09T14:32:37Z</td>\n      <td>Banana Chips Sweetened (Whole)</td>\n      <td>NaN</td>\n      <td>NaN</td>\n      <td>...</td>\n      <td>NaN</td>\n      <td>NaN</td>\n      <td>NaN</td>\n      <td>NaN</td>\n      <td>NaN</td>\n      <td>NaN</td>\n      <td>14.0</td>\n      <td>14.0</td>\n      <td>NaN</td>\n      <td>NaN</td>\n    </tr>\n    <tr>\n      <th>2</th>\n      <td>0000000004559</td>\n      <td>http://world-fr.openfoodfacts.org/produit/0000...</td>\n      <td>usda-ndb-import</td>\n      <td>1489069957</td>\n      <td>2017-03-09T14:32:37Z</td>\n      <td>1489069957</td>\n      <td>2017-03-09T14:32:37Z</td>\n      <td>Peanuts</td>\n      <td>NaN</td>\n      <td>NaN</td>\n      <td>...</td>\n      <td>NaN</td>\n      <td>NaN</td>\n      <td>NaN</td>\n      <td>NaN</td>\n      <td>NaN</td>\n      <td>NaN</td>\n      <td>0.0</td>\n      <td>0.0</td>\n      <td>NaN</td>\n      <td>NaN</td>\n    </tr>\n    <tr>\n      <th>3</th>\n      <td>0000000016087</td>\n      <td>http://world-fr.openfoodfacts.org/produit/0000...</td>\n      <td>usda-ndb-import</td>\n      <td>1489055731</td>\n      <td>2017-03-09T10:35:31Z</td>\n      <td>1489055731</td>\n      <td>2017-03-09T10:35:31Z</td>\n      <td>Organic Salted Nut Mix</td>\n      <td>NaN</td>\n      <td>NaN</td>\n      <td>...</td>\n      <td>NaN</td>\n      <td>NaN</td>\n      <td>NaN</td>\n      <td>NaN</td>\n      <td>NaN</td>\n      <td>NaN</td>\n      <td>12.0</td>\n      <td>12.0</td>\n      <td>NaN</td>\n      <td>NaN</td>\n    </tr>\n    <tr>\n      <th>4</th>\n      <td>0000000016094</td>\n      <td>http://world-fr.openfoodfacts.org/produit/0000...</td>\n      <td>usda-ndb-import</td>\n      <td>1489055653</td>\n      <td>2017-03-09T10:34:13Z</td>\n      <td>1489055653</td>\n      <td>2017-03-09T10:34:13Z</td>\n      <td>Organic Polenta</td>\n      <td>NaN</td>\n      <td>NaN</td>\n      <td>...</td>\n      <td>NaN</td>\n      <td>NaN</td>\n      <td>NaN</td>\n      <td>NaN</td>\n      <td>NaN</td>\n      <td>NaN</td>\n      <td>NaN</td>\n      <td>NaN</td>\n      <td>NaN</td>\n      <td>NaN</td>\n    </tr>\n  </tbody>\n</table>\n<p>5 rows × 162 columns</p>\n</div>"
     },
     "execution_count": 4,
     "metadata": {},
     "output_type": "execute_result"
    }
   ],
   "source": [
    "df.head()"
   ]
  },
  {
   "cell_type": "markdown",
   "id": "7058856e20fd8eaa",
   "metadata": {
    "collapsed": false
   },
   "source": [
    "Les dernières lignes :"
   ]
  },
  {
   "cell_type": "code",
   "execution_count": 5,
   "id": "f198e6007792f6f8",
   "metadata": {
    "collapsed": false,
    "ExecuteTime": {
     "end_time": "2023-12-04T15:29:38.066651700Z",
     "start_time": "2023-12-04T15:29:37.984646900Z"
    }
   },
   "outputs": [
    {
     "data": {
      "text/plain": "                 code                                                url  \\\n320762  9948282780603  http://world-fr.openfoodfacts.org/produit/9948...   \n320763       99567453  http://world-fr.openfoodfacts.org/produit/9956...   \n320764  9970229501521  http://world-fr.openfoodfacts.org/produit/9970...   \n320765  9980282863788  http://world-fr.openfoodfacts.org/produit/9980...   \n320766   999990026839  http://world-fr.openfoodfacts.org/produit/9999...   \n\n                           creator   created_t      created_datetime  \\\n320762  openfoodfacts-contributors  1490631299  2017-03-27T16:14:59Z   \n320763             usda-ndb-import  1489059076  2017-03-09T11:31:16Z   \n320764                      tomato  1422099377  2015-01-24T11:36:17Z   \n320765  openfoodfacts-contributors  1492340089  2017-04-16T10:54:49Z   \n320766             usda-ndb-import  1489072709  2017-03-09T15:18:29Z   \n\n       last_modified_t last_modified_datetime  \\\n320762      1491244498   2017-04-03T18:34:58Z   \n320763      1491244499   2017-04-03T18:34:59Z   \n320764      1491244499   2017-04-03T18:34:59Z   \n320765      1492340089   2017-04-16T10:54:49Z   \n320766      1491244499   2017-04-03T18:34:59Z   \n\n                                             product_name  \\\n320762                                  Tomato & ricotta    \n320763  Mint Melange Tea A Blend Of Peppermint, Lemon ...   \n320764                                            乐吧泡菜味薯片   \n320765                           Tomates aux Vermicelles    \n320766                    Sugar Free Drink Mix, Peach Tea   \n\n                           generic_name quantity  ... ph_100g  \\\n320762                              NaN        1  ...     NaN   \n320763                              NaN      NaN  ...     NaN   \n320764  Leba pickle flavor potato chips     50 g  ...     NaN   \n320765                              NaN      67g  ...     NaN   \n320766                              NaN      NaN  ...     NaN   \n\n       fruits-vegetables-nuts_100g collagen-meat-protein-ratio_100g  \\\n320762                         NaN                              NaN   \n320763                         NaN                              NaN   \n320764                         NaN                              NaN   \n320765                         NaN                              NaN   \n320766                         NaN                              NaN   \n\n       cocoa_100g chlorophyl_100g carbon-footprint_100g  \\\n320762        NaN             NaN                   NaN   \n320763        NaN             NaN                   NaN   \n320764        NaN             NaN                   NaN   \n320765        NaN             NaN                   NaN   \n320766        NaN             NaN                   NaN   \n\n       nutrition-score-fr_100g nutrition-score-uk_100g glycemic-index_100g  \\\n320762                     NaN                     NaN                 NaN   \n320763                     0.0                     0.0                 NaN   \n320764                     NaN                     NaN                 NaN   \n320765                     NaN                     NaN                 NaN   \n320766                     NaN                     NaN                 NaN   \n\n       water-hardness_100g  \n320762                 NaN  \n320763                 NaN  \n320764                 NaN  \n320765                 NaN  \n320766                 NaN  \n\n[5 rows x 162 columns]",
      "text/html": "<div>\n<style scoped>\n    .dataframe tbody tr th:only-of-type {\n        vertical-align: middle;\n    }\n\n    .dataframe tbody tr th {\n        vertical-align: top;\n    }\n\n    .dataframe thead th {\n        text-align: right;\n    }\n</style>\n<table border=\"1\" class=\"dataframe\">\n  <thead>\n    <tr style=\"text-align: right;\">\n      <th></th>\n      <th>code</th>\n      <th>url</th>\n      <th>creator</th>\n      <th>created_t</th>\n      <th>created_datetime</th>\n      <th>last_modified_t</th>\n      <th>last_modified_datetime</th>\n      <th>product_name</th>\n      <th>generic_name</th>\n      <th>quantity</th>\n      <th>...</th>\n      <th>ph_100g</th>\n      <th>fruits-vegetables-nuts_100g</th>\n      <th>collagen-meat-protein-ratio_100g</th>\n      <th>cocoa_100g</th>\n      <th>chlorophyl_100g</th>\n      <th>carbon-footprint_100g</th>\n      <th>nutrition-score-fr_100g</th>\n      <th>nutrition-score-uk_100g</th>\n      <th>glycemic-index_100g</th>\n      <th>water-hardness_100g</th>\n    </tr>\n  </thead>\n  <tbody>\n    <tr>\n      <th>320762</th>\n      <td>9948282780603</td>\n      <td>http://world-fr.openfoodfacts.org/produit/9948...</td>\n      <td>openfoodfacts-contributors</td>\n      <td>1490631299</td>\n      <td>2017-03-27T16:14:59Z</td>\n      <td>1491244498</td>\n      <td>2017-04-03T18:34:58Z</td>\n      <td>Tomato &amp; ricotta</td>\n      <td>NaN</td>\n      <td>1</td>\n      <td>...</td>\n      <td>NaN</td>\n      <td>NaN</td>\n      <td>NaN</td>\n      <td>NaN</td>\n      <td>NaN</td>\n      <td>NaN</td>\n      <td>NaN</td>\n      <td>NaN</td>\n      <td>NaN</td>\n      <td>NaN</td>\n    </tr>\n    <tr>\n      <th>320763</th>\n      <td>99567453</td>\n      <td>http://world-fr.openfoodfacts.org/produit/9956...</td>\n      <td>usda-ndb-import</td>\n      <td>1489059076</td>\n      <td>2017-03-09T11:31:16Z</td>\n      <td>1491244499</td>\n      <td>2017-04-03T18:34:59Z</td>\n      <td>Mint Melange Tea A Blend Of Peppermint, Lemon ...</td>\n      <td>NaN</td>\n      <td>NaN</td>\n      <td>...</td>\n      <td>NaN</td>\n      <td>NaN</td>\n      <td>NaN</td>\n      <td>NaN</td>\n      <td>NaN</td>\n      <td>NaN</td>\n      <td>0.0</td>\n      <td>0.0</td>\n      <td>NaN</td>\n      <td>NaN</td>\n    </tr>\n    <tr>\n      <th>320764</th>\n      <td>9970229501521</td>\n      <td>http://world-fr.openfoodfacts.org/produit/9970...</td>\n      <td>tomato</td>\n      <td>1422099377</td>\n      <td>2015-01-24T11:36:17Z</td>\n      <td>1491244499</td>\n      <td>2017-04-03T18:34:59Z</td>\n      <td>乐吧泡菜味薯片</td>\n      <td>Leba pickle flavor potato chips</td>\n      <td>50 g</td>\n      <td>...</td>\n      <td>NaN</td>\n      <td>NaN</td>\n      <td>NaN</td>\n      <td>NaN</td>\n      <td>NaN</td>\n      <td>NaN</td>\n      <td>NaN</td>\n      <td>NaN</td>\n      <td>NaN</td>\n      <td>NaN</td>\n    </tr>\n    <tr>\n      <th>320765</th>\n      <td>9980282863788</td>\n      <td>http://world-fr.openfoodfacts.org/produit/9980...</td>\n      <td>openfoodfacts-contributors</td>\n      <td>1492340089</td>\n      <td>2017-04-16T10:54:49Z</td>\n      <td>1492340089</td>\n      <td>2017-04-16T10:54:49Z</td>\n      <td>Tomates aux Vermicelles</td>\n      <td>NaN</td>\n      <td>67g</td>\n      <td>...</td>\n      <td>NaN</td>\n      <td>NaN</td>\n      <td>NaN</td>\n      <td>NaN</td>\n      <td>NaN</td>\n      <td>NaN</td>\n      <td>NaN</td>\n      <td>NaN</td>\n      <td>NaN</td>\n      <td>NaN</td>\n    </tr>\n    <tr>\n      <th>320766</th>\n      <td>999990026839</td>\n      <td>http://world-fr.openfoodfacts.org/produit/9999...</td>\n      <td>usda-ndb-import</td>\n      <td>1489072709</td>\n      <td>2017-03-09T15:18:29Z</td>\n      <td>1491244499</td>\n      <td>2017-04-03T18:34:59Z</td>\n      <td>Sugar Free Drink Mix, Peach Tea</td>\n      <td>NaN</td>\n      <td>NaN</td>\n      <td>...</td>\n      <td>NaN</td>\n      <td>NaN</td>\n      <td>NaN</td>\n      <td>NaN</td>\n      <td>NaN</td>\n      <td>NaN</td>\n      <td>NaN</td>\n      <td>NaN</td>\n      <td>NaN</td>\n      <td>NaN</td>\n    </tr>\n  </tbody>\n</table>\n<p>5 rows × 162 columns</p>\n</div>"
     },
     "execution_count": 5,
     "metadata": {},
     "output_type": "execute_result"
    }
   ],
   "source": [
    "df.tail()"
   ]
  },
  {
   "cell_type": "markdown",
   "id": "888b04bfce9128a1",
   "metadata": {
    "collapsed": false
   },
   "source": [
    "### 1.4.2. Analyse des types de données"
   ]
  },
  {
   "cell_type": "markdown",
   "id": "ce53b2dd435f8342",
   "metadata": {
    "collapsed": false
   },
   "source": [
    "Liste des type de données pour chaque colonnes"
   ]
  },
  {
   "cell_type": "code",
   "execution_count": 6,
   "id": "1422ffa8e040feaa",
   "metadata": {
    "collapsed": false,
    "ExecuteTime": {
     "end_time": "2023-12-04T15:29:44.725554400Z",
     "start_time": "2023-12-04T15:29:44.680209100Z"
    }
   },
   "outputs": [
    {
     "data": {
      "text/plain": "code                        object\nurl                         object\ncreator                     object\ncreated_t                   object\ncreated_datetime            object\n                            ...   \ncarbon-footprint_100g      float64\nnutrition-score-fr_100g    float64\nnutrition-score-uk_100g    float64\nglycemic-index_100g        float64\nwater-hardness_100g        float64\nLength: 162, dtype: object"
     },
     "execution_count": 6,
     "metadata": {},
     "output_type": "execute_result"
    }
   ],
   "source": [
    "df.dtypes"
   ]
  },
  {
   "cell_type": "markdown",
   "source": [
    "### 1.4.3. Statistiques descriptives"
   ],
   "metadata": {
    "collapsed": false
   },
   "id": "46c4019b4b32c714"
  },
  {
   "cell_type": "code",
   "execution_count": 7,
   "id": "d420114e6463ed69",
   "metadata": {
    "ExecuteTime": {
     "end_time": "2023-12-04T15:29:47.421947500Z",
     "start_time": "2023-12-04T15:29:47.375144300Z"
    }
   },
   "outputs": [
    {
     "name": "stdout",
     "output_type": "stream",
     "text": [
      "<class 'pandas.core.frame.DataFrame'>\n",
      "RangeIndex: 320767 entries, 0 to 320766\n",
      "Columns: 162 entries, code to water-hardness_100g\n",
      "dtypes: float64(106), object(56)\n",
      "memory usage: 396.5+ MB\n"
     ]
    }
   ],
   "source": [
    "df.info()"
   ]
  },
  {
   "cell_type": "markdown",
   "id": "e0873ef743dc0ab9",
   "metadata": {},
   "source": [
    "#### 1.4.3.1. Résumé statistique"
   ]
  },
  {
   "cell_type": "code",
   "execution_count": 8,
   "id": "89d7ed23454af081",
   "metadata": {
    "ExecuteTime": {
     "end_time": "2023-12-04T15:29:49.733295400Z",
     "start_time": "2023-12-04T15:29:49.031024700Z"
    }
   },
   "outputs": [
    {
     "data": {
      "text/plain": "       no_nutriments    additives_n  ingredients_from_palm_oil_n  \\\ncount            0.0  248934.000000                248934.000000   \nmean             NaN       1.936047                     0.019660   \nstd              NaN       2.502036                     0.140526   \nmin              NaN       0.000000                     0.000000   \n25%              NaN       0.000000                     0.000000   \n50%              NaN       1.000000                     0.000000   \n75%              NaN       3.000000                     0.000000   \nmax              NaN      31.000000                     2.000000   \n\n       ingredients_from_palm_oil  ingredients_that_may_be_from_palm_oil_n  \\\ncount                        0.0                            248934.000000   \nmean                         NaN                                 0.055248   \nstd                          NaN                                 0.269210   \nmin                          NaN                                 0.000000   \n25%                          NaN                                 0.000000   \n50%                          NaN                                 0.000000   \n75%                          NaN                                 0.000000   \nmax                          NaN                                 6.000000   \n\n       ingredients_that_may_be_from_palm_oil  nutrition_grade_uk  \\\ncount                                    0.0                 0.0   \nmean                                     NaN                 NaN   \nstd                                      NaN                 NaN   \nmin                                      NaN                 NaN   \n25%                                      NaN                 NaN   \n50%                                      NaN                 NaN   \n75%                                      NaN                 NaN   \nmax                                      NaN                 NaN   \n\n        energy_100g  energy-from-fat_100g       fat_100g  ...    ph_100g  \\\ncount  2.611080e+05            857.000000  243886.000000  ...  49.000000   \nmean   1.141908e+03            585.501214      12.730394  ...   6.425698   \nstd    6.447215e+03            712.809943      17.578871  ...   2.047841   \nmin    0.000000e+00              0.000000       0.000000  ...   0.000000   \n25%    3.770000e+02             49.400000       0.000000  ...   6.300000   \n50%    1.100000e+03            300.000000       5.000000  ...   7.200000   \n75%    1.674000e+03            898.000000      20.000000  ...   7.400000   \nmax    3.251373e+06           3830.000000     714.290000  ...   8.400000   \n\n       fruits-vegetables-nuts_100g  collagen-meat-protein-ratio_100g  \\\ncount                  3036.000000                        165.000000   \nmean                     31.458587                         15.412121   \nstd                      31.967918                          3.753028   \nmin                       0.000000                          8.000000   \n25%                       0.000000                         12.000000   \n50%                      23.000000                         15.000000   \n75%                      51.000000                         15.000000   \nmax                     100.000000                         25.000000   \n\n       cocoa_100g  chlorophyl_100g  carbon-footprint_100g  \\\ncount  948.000000              0.0             268.000000   \nmean    49.547785              NaN             341.700764   \nstd     18.757932              NaN             425.211439   \nmin      6.000000              NaN               0.000000   \n25%     32.000000              NaN              98.750000   \n50%     50.000000              NaN             195.750000   \n75%     64.250000              NaN             383.200000   \nmax    100.000000              NaN            2842.000000   \n\n       nutrition-score-fr_100g  nutrition-score-uk_100g  glycemic-index_100g  \\\ncount            221206.000000            221206.000000                  0.0   \nmean                  9.165488                 9.058000                  NaN   \nstd                   9.055924                 9.183612                  NaN   \nmin                 -15.000000               -15.000000                  NaN   \n25%                   1.000000                 1.000000                  NaN   \n50%                  10.000000                 9.000000                  NaN   \n75%                  16.000000                16.000000                  NaN   \nmax                  40.000000                40.000000                  NaN   \n\n       water-hardness_100g  \ncount                  0.0  \nmean                   NaN  \nstd                    NaN  \nmin                    NaN  \n25%                    NaN  \n50%                    NaN  \n75%                    NaN  \nmax                    NaN  \n\n[8 rows x 106 columns]",
      "text/html": "<div>\n<style scoped>\n    .dataframe tbody tr th:only-of-type {\n        vertical-align: middle;\n    }\n\n    .dataframe tbody tr th {\n        vertical-align: top;\n    }\n\n    .dataframe thead th {\n        text-align: right;\n    }\n</style>\n<table border=\"1\" class=\"dataframe\">\n  <thead>\n    <tr style=\"text-align: right;\">\n      <th></th>\n      <th>no_nutriments</th>\n      <th>additives_n</th>\n      <th>ingredients_from_palm_oil_n</th>\n      <th>ingredients_from_palm_oil</th>\n      <th>ingredients_that_may_be_from_palm_oil_n</th>\n      <th>ingredients_that_may_be_from_palm_oil</th>\n      <th>nutrition_grade_uk</th>\n      <th>energy_100g</th>\n      <th>energy-from-fat_100g</th>\n      <th>fat_100g</th>\n      <th>...</th>\n      <th>ph_100g</th>\n      <th>fruits-vegetables-nuts_100g</th>\n      <th>collagen-meat-protein-ratio_100g</th>\n      <th>cocoa_100g</th>\n      <th>chlorophyl_100g</th>\n      <th>carbon-footprint_100g</th>\n      <th>nutrition-score-fr_100g</th>\n      <th>nutrition-score-uk_100g</th>\n      <th>glycemic-index_100g</th>\n      <th>water-hardness_100g</th>\n    </tr>\n  </thead>\n  <tbody>\n    <tr>\n      <th>count</th>\n      <td>0.0</td>\n      <td>248934.000000</td>\n      <td>248934.000000</td>\n      <td>0.0</td>\n      <td>248934.000000</td>\n      <td>0.0</td>\n      <td>0.0</td>\n      <td>2.611080e+05</td>\n      <td>857.000000</td>\n      <td>243886.000000</td>\n      <td>...</td>\n      <td>49.000000</td>\n      <td>3036.000000</td>\n      <td>165.000000</td>\n      <td>948.000000</td>\n      <td>0.0</td>\n      <td>268.000000</td>\n      <td>221206.000000</td>\n      <td>221206.000000</td>\n      <td>0.0</td>\n      <td>0.0</td>\n    </tr>\n    <tr>\n      <th>mean</th>\n      <td>NaN</td>\n      <td>1.936047</td>\n      <td>0.019660</td>\n      <td>NaN</td>\n      <td>0.055248</td>\n      <td>NaN</td>\n      <td>NaN</td>\n      <td>1.141908e+03</td>\n      <td>585.501214</td>\n      <td>12.730394</td>\n      <td>...</td>\n      <td>6.425698</td>\n      <td>31.458587</td>\n      <td>15.412121</td>\n      <td>49.547785</td>\n      <td>NaN</td>\n      <td>341.700764</td>\n      <td>9.165488</td>\n      <td>9.058000</td>\n      <td>NaN</td>\n      <td>NaN</td>\n    </tr>\n    <tr>\n      <th>std</th>\n      <td>NaN</td>\n      <td>2.502036</td>\n      <td>0.140526</td>\n      <td>NaN</td>\n      <td>0.269210</td>\n      <td>NaN</td>\n      <td>NaN</td>\n      <td>6.447215e+03</td>\n      <td>712.809943</td>\n      <td>17.578871</td>\n      <td>...</td>\n      <td>2.047841</td>\n      <td>31.967918</td>\n      <td>3.753028</td>\n      <td>18.757932</td>\n      <td>NaN</td>\n      <td>425.211439</td>\n      <td>9.055924</td>\n      <td>9.183612</td>\n      <td>NaN</td>\n      <td>NaN</td>\n    </tr>\n    <tr>\n      <th>min</th>\n      <td>NaN</td>\n      <td>0.000000</td>\n      <td>0.000000</td>\n      <td>NaN</td>\n      <td>0.000000</td>\n      <td>NaN</td>\n      <td>NaN</td>\n      <td>0.000000e+00</td>\n      <td>0.000000</td>\n      <td>0.000000</td>\n      <td>...</td>\n      <td>0.000000</td>\n      <td>0.000000</td>\n      <td>8.000000</td>\n      <td>6.000000</td>\n      <td>NaN</td>\n      <td>0.000000</td>\n      <td>-15.000000</td>\n      <td>-15.000000</td>\n      <td>NaN</td>\n      <td>NaN</td>\n    </tr>\n    <tr>\n      <th>25%</th>\n      <td>NaN</td>\n      <td>0.000000</td>\n      <td>0.000000</td>\n      <td>NaN</td>\n      <td>0.000000</td>\n      <td>NaN</td>\n      <td>NaN</td>\n      <td>3.770000e+02</td>\n      <td>49.400000</td>\n      <td>0.000000</td>\n      <td>...</td>\n      <td>6.300000</td>\n      <td>0.000000</td>\n      <td>12.000000</td>\n      <td>32.000000</td>\n      <td>NaN</td>\n      <td>98.750000</td>\n      <td>1.000000</td>\n      <td>1.000000</td>\n      <td>NaN</td>\n      <td>NaN</td>\n    </tr>\n    <tr>\n      <th>50%</th>\n      <td>NaN</td>\n      <td>1.000000</td>\n      <td>0.000000</td>\n      <td>NaN</td>\n      <td>0.000000</td>\n      <td>NaN</td>\n      <td>NaN</td>\n      <td>1.100000e+03</td>\n      <td>300.000000</td>\n      <td>5.000000</td>\n      <td>...</td>\n      <td>7.200000</td>\n      <td>23.000000</td>\n      <td>15.000000</td>\n      <td>50.000000</td>\n      <td>NaN</td>\n      <td>195.750000</td>\n      <td>10.000000</td>\n      <td>9.000000</td>\n      <td>NaN</td>\n      <td>NaN</td>\n    </tr>\n    <tr>\n      <th>75%</th>\n      <td>NaN</td>\n      <td>3.000000</td>\n      <td>0.000000</td>\n      <td>NaN</td>\n      <td>0.000000</td>\n      <td>NaN</td>\n      <td>NaN</td>\n      <td>1.674000e+03</td>\n      <td>898.000000</td>\n      <td>20.000000</td>\n      <td>...</td>\n      <td>7.400000</td>\n      <td>51.000000</td>\n      <td>15.000000</td>\n      <td>64.250000</td>\n      <td>NaN</td>\n      <td>383.200000</td>\n      <td>16.000000</td>\n      <td>16.000000</td>\n      <td>NaN</td>\n      <td>NaN</td>\n    </tr>\n    <tr>\n      <th>max</th>\n      <td>NaN</td>\n      <td>31.000000</td>\n      <td>2.000000</td>\n      <td>NaN</td>\n      <td>6.000000</td>\n      <td>NaN</td>\n      <td>NaN</td>\n      <td>3.251373e+06</td>\n      <td>3830.000000</td>\n      <td>714.290000</td>\n      <td>...</td>\n      <td>8.400000</td>\n      <td>100.000000</td>\n      <td>25.000000</td>\n      <td>100.000000</td>\n      <td>NaN</td>\n      <td>2842.000000</td>\n      <td>40.000000</td>\n      <td>40.000000</td>\n      <td>NaN</td>\n      <td>NaN</td>\n    </tr>\n  </tbody>\n</table>\n<p>8 rows × 106 columns</p>\n</div>"
     },
     "execution_count": 8,
     "metadata": {},
     "output_type": "execute_result"
    }
   ],
   "source": [
    "df.describe()"
   ]
  },
  {
   "cell_type": "code",
   "execution_count": 9,
   "id": "3c619f1801a113ef",
   "metadata": {
    "collapsed": false,
    "ExecuteTime": {
     "end_time": "2023-12-04T15:29:53.350460800Z",
     "start_time": "2023-12-04T15:29:50.727432600Z"
    }
   },
   "outputs": [
    {
     "data": {
      "text/plain": "                 code                                                url  \\\ncount          320744                                             320744   \nunique         320744                                             320744   \ntop     0000000003087  http://world-fr.openfoodfacts.org/produit/0000...   \nfreq                1                                                  1   \n\n                creator   created_t      created_datetime last_modified_t  \\\ncount            320765      320764                320758          320767   \nunique             3535      189567                189568          180495   \ntop     usda-ndb-import  1489077120  2017-03-09T10:37:09Z      1439141742   \nfreq             169863          20                    20              33   \n\n       last_modified_datetime product_name  \\\ncount                  320767       303005   \nunique                 180495       221342   \ntop      2015-08-09T17:35:42Z    Ice Cream   \nfreq                       33          410   \n\n                                             generic_name quantity  ...  \\\ncount                                               52795   104819  ...   \nunique                                              38584    13826  ...   \ntop     Pâtes alimentaires au blé dur de qualité supér...    500 g  ...   \nfreq                                                  201     4669  ...   \n\n       nutrition_grade_fr pnns_groups_1 pnns_groups_2  \\\ncount              221206         91513         94491   \nunique                  5            14            42   \ntop                     d       unknown       unknown   \nfreq                62760         22624         22624   \n\n                                                   states  \\\ncount                                              320721   \nunique                                               1021   \ntop     en:to-be-completed, en:nutrition-facts-complet...   \nfreq                                               168900   \n\n                                              states_tags  \\\ncount                                              320721   \nunique                                               1021   \ntop     en:to-be-completed,en:nutrition-facts-complete...   \nfreq                                               168900   \n\n                                                states_fr main_category  \\\ncount                                              320721         84366   \nunique                                               1021          3543   \ntop     A compléter,Informations nutritionnelles compl...  en:beverages   \nfreq                                               168900          6054   \n\n       main_category_fr                                          image_url  \\\ncount             84366                                              75836   \nunique             3543                                              75836   \ntop            Boissons  http://fr.openfoodfacts.org/images/products/00...   \nfreq               6054                                                  1   \n\n                                          image_small_url  \ncount                                               75836  \nunique                                              75836  \ntop     http://fr.openfoodfacts.org/images/products/00...  \nfreq                                                    1  \n\n[4 rows x 56 columns]",
      "text/html": "<div>\n<style scoped>\n    .dataframe tbody tr th:only-of-type {\n        vertical-align: middle;\n    }\n\n    .dataframe tbody tr th {\n        vertical-align: top;\n    }\n\n    .dataframe thead th {\n        text-align: right;\n    }\n</style>\n<table border=\"1\" class=\"dataframe\">\n  <thead>\n    <tr style=\"text-align: right;\">\n      <th></th>\n      <th>code</th>\n      <th>url</th>\n      <th>creator</th>\n      <th>created_t</th>\n      <th>created_datetime</th>\n      <th>last_modified_t</th>\n      <th>last_modified_datetime</th>\n      <th>product_name</th>\n      <th>generic_name</th>\n      <th>quantity</th>\n      <th>...</th>\n      <th>nutrition_grade_fr</th>\n      <th>pnns_groups_1</th>\n      <th>pnns_groups_2</th>\n      <th>states</th>\n      <th>states_tags</th>\n      <th>states_fr</th>\n      <th>main_category</th>\n      <th>main_category_fr</th>\n      <th>image_url</th>\n      <th>image_small_url</th>\n    </tr>\n  </thead>\n  <tbody>\n    <tr>\n      <th>count</th>\n      <td>320744</td>\n      <td>320744</td>\n      <td>320765</td>\n      <td>320764</td>\n      <td>320758</td>\n      <td>320767</td>\n      <td>320767</td>\n      <td>303005</td>\n      <td>52795</td>\n      <td>104819</td>\n      <td>...</td>\n      <td>221206</td>\n      <td>91513</td>\n      <td>94491</td>\n      <td>320721</td>\n      <td>320721</td>\n      <td>320721</td>\n      <td>84366</td>\n      <td>84366</td>\n      <td>75836</td>\n      <td>75836</td>\n    </tr>\n    <tr>\n      <th>unique</th>\n      <td>320744</td>\n      <td>320744</td>\n      <td>3535</td>\n      <td>189567</td>\n      <td>189568</td>\n      <td>180495</td>\n      <td>180495</td>\n      <td>221342</td>\n      <td>38584</td>\n      <td>13826</td>\n      <td>...</td>\n      <td>5</td>\n      <td>14</td>\n      <td>42</td>\n      <td>1021</td>\n      <td>1021</td>\n      <td>1021</td>\n      <td>3543</td>\n      <td>3543</td>\n      <td>75836</td>\n      <td>75836</td>\n    </tr>\n    <tr>\n      <th>top</th>\n      <td>0000000003087</td>\n      <td>http://world-fr.openfoodfacts.org/produit/0000...</td>\n      <td>usda-ndb-import</td>\n      <td>1489077120</td>\n      <td>2017-03-09T10:37:09Z</td>\n      <td>1439141742</td>\n      <td>2015-08-09T17:35:42Z</td>\n      <td>Ice Cream</td>\n      <td>Pâtes alimentaires au blé dur de qualité supér...</td>\n      <td>500 g</td>\n      <td>...</td>\n      <td>d</td>\n      <td>unknown</td>\n      <td>unknown</td>\n      <td>en:to-be-completed, en:nutrition-facts-complet...</td>\n      <td>en:to-be-completed,en:nutrition-facts-complete...</td>\n      <td>A compléter,Informations nutritionnelles compl...</td>\n      <td>en:beverages</td>\n      <td>Boissons</td>\n      <td>http://fr.openfoodfacts.org/images/products/00...</td>\n      <td>http://fr.openfoodfacts.org/images/products/00...</td>\n    </tr>\n    <tr>\n      <th>freq</th>\n      <td>1</td>\n      <td>1</td>\n      <td>169863</td>\n      <td>20</td>\n      <td>20</td>\n      <td>33</td>\n      <td>33</td>\n      <td>410</td>\n      <td>201</td>\n      <td>4669</td>\n      <td>...</td>\n      <td>62760</td>\n      <td>22624</td>\n      <td>22624</td>\n      <td>168900</td>\n      <td>168900</td>\n      <td>168900</td>\n      <td>6054</td>\n      <td>6054</td>\n      <td>1</td>\n      <td>1</td>\n    </tr>\n  </tbody>\n</table>\n<p>4 rows × 56 columns</p>\n</div>"
     },
     "execution_count": 9,
     "metadata": {},
     "output_type": "execute_result"
    }
   ],
   "source": [
    "df.describe(include=[np.object_, pd.Categorical])"
   ]
  },
  {
   "cell_type": "code",
   "execution_count": 10,
   "id": "8d64ffb9c30c4538",
   "metadata": {
    "ExecuteTime": {
     "end_time": "2023-12-04T15:29:54.352162700Z",
     "start_time": "2023-12-04T15:29:54.303856600Z"
    }
   },
   "outputs": [
    {
     "name": "stdout",
     "output_type": "stream",
     "text": [
      "<class 'pandas.core.frame.DataFrame'>\n",
      "RangeIndex: 320767 entries, 0 to 320766\n",
      "Data columns (total 162 columns):\n",
      " #    Column                                      Dtype  \n",
      "---   ------                                      -----  \n",
      " 0    code                                        object \n",
      " 1    url                                         object \n",
      " 2    creator                                     object \n",
      " 3    created_t                                   object \n",
      " 4    created_datetime                            object \n",
      " 5    last_modified_t                             object \n",
      " 6    last_modified_datetime                      object \n",
      " 7    product_name                                object \n",
      " 8    generic_name                                object \n",
      " 9    quantity                                    object \n",
      " 10   packaging                                   object \n",
      " 11   packaging_tags                              object \n",
      " 12   brands                                      object \n",
      " 13   brands_tags                                 object \n",
      " 14   categories                                  object \n",
      " 15   categories_tags                             object \n",
      " 16   categories_fr                               object \n",
      " 17   origins                                     object \n",
      " 18   origins_tags                                object \n",
      " 19   manufacturing_places                        object \n",
      " 20   manufacturing_places_tags                   object \n",
      " 21   labels                                      object \n",
      " 22   labels_tags                                 object \n",
      " 23   labels_fr                                   object \n",
      " 24   emb_codes                                   object \n",
      " 25   emb_codes_tags                              object \n",
      " 26   first_packaging_code_geo                    object \n",
      " 27   cities                                      object \n",
      " 28   cities_tags                                 object \n",
      " 29   purchase_places                             object \n",
      " 30   stores                                      object \n",
      " 31   countries                                   object \n",
      " 32   countries_tags                              object \n",
      " 33   countries_fr                                object \n",
      " 34   ingredients_text                            object \n",
      " 35   allergens                                   object \n",
      " 36   allergens_fr                                object \n",
      " 37   traces                                      object \n",
      " 38   traces_tags                                 object \n",
      " 39   traces_fr                                   object \n",
      " 40   serving_size                                object \n",
      " 41   no_nutriments                               float64\n",
      " 42   additives_n                                 float64\n",
      " 43   additives                                   object \n",
      " 44   additives_tags                              object \n",
      " 45   additives_fr                                object \n",
      " 46   ingredients_from_palm_oil_n                 float64\n",
      " 47   ingredients_from_palm_oil                   float64\n",
      " 48   ingredients_from_palm_oil_tags              object \n",
      " 49   ingredients_that_may_be_from_palm_oil_n     float64\n",
      " 50   ingredients_that_may_be_from_palm_oil       float64\n",
      " 51   ingredients_that_may_be_from_palm_oil_tags  object \n",
      " 52   nutrition_grade_uk                          float64\n",
      " 53   nutrition_grade_fr                          object \n",
      " 54   pnns_groups_1                               object \n",
      " 55   pnns_groups_2                               object \n",
      " 56   states                                      object \n",
      " 57   states_tags                                 object \n",
      " 58   states_fr                                   object \n",
      " 59   main_category                               object \n",
      " 60   main_category_fr                            object \n",
      " 61   image_url                                   object \n",
      " 62   image_small_url                             object \n",
      " 63   energy_100g                                 float64\n",
      " 64   energy-from-fat_100g                        float64\n",
      " 65   fat_100g                                    float64\n",
      " 66   saturated-fat_100g                          float64\n",
      " 67   butyric-acid_100g                           float64\n",
      " 68   caproic-acid_100g                           float64\n",
      " 69   caprylic-acid_100g                          float64\n",
      " 70   capric-acid_100g                            float64\n",
      " 71   lauric-acid_100g                            float64\n",
      " 72   myristic-acid_100g                          float64\n",
      " 73   palmitic-acid_100g                          float64\n",
      " 74   stearic-acid_100g                           float64\n",
      " 75   arachidic-acid_100g                         float64\n",
      " 76   behenic-acid_100g                           float64\n",
      " 77   lignoceric-acid_100g                        float64\n",
      " 78   cerotic-acid_100g                           float64\n",
      " 79   montanic-acid_100g                          float64\n",
      " 80   melissic-acid_100g                          float64\n",
      " 81   monounsaturated-fat_100g                    float64\n",
      " 82   polyunsaturated-fat_100g                    float64\n",
      " 83   omega-3-fat_100g                            float64\n",
      " 84   alpha-linolenic-acid_100g                   float64\n",
      " 85   eicosapentaenoic-acid_100g                  float64\n",
      " 86   docosahexaenoic-acid_100g                   float64\n",
      " 87   omega-6-fat_100g                            float64\n",
      " 88   linoleic-acid_100g                          float64\n",
      " 89   arachidonic-acid_100g                       float64\n",
      " 90   gamma-linolenic-acid_100g                   float64\n",
      " 91   dihomo-gamma-linolenic-acid_100g            float64\n",
      " 92   omega-9-fat_100g                            float64\n",
      " 93   oleic-acid_100g                             float64\n",
      " 94   elaidic-acid_100g                           float64\n",
      " 95   gondoic-acid_100g                           float64\n",
      " 96   mead-acid_100g                              float64\n",
      " 97   erucic-acid_100g                            float64\n",
      " 98   nervonic-acid_100g                          float64\n",
      " 99   trans-fat_100g                              float64\n",
      " 100  cholesterol_100g                            float64\n",
      " 101  carbohydrates_100g                          float64\n",
      " 102  sugars_100g                                 float64\n",
      " 103  sucrose_100g                                float64\n",
      " 104  glucose_100g                                float64\n",
      " 105  fructose_100g                               float64\n",
      " 106  lactose_100g                                float64\n",
      " 107  maltose_100g                                float64\n",
      " 108  maltodextrins_100g                          float64\n",
      " 109  starch_100g                                 float64\n",
      " 110  polyols_100g                                float64\n",
      " 111  fiber_100g                                  float64\n",
      " 112  proteins_100g                               float64\n",
      " 113  casein_100g                                 float64\n",
      " 114  serum-proteins_100g                         float64\n",
      " 115  nucleotides_100g                            float64\n",
      " 116  salt_100g                                   float64\n",
      " 117  sodium_100g                                 float64\n",
      " 118  alcohol_100g                                float64\n",
      " 119  vitamin-a_100g                              float64\n",
      " 120  beta-carotene_100g                          float64\n",
      " 121  vitamin-d_100g                              float64\n",
      " 122  vitamin-e_100g                              float64\n",
      " 123  vitamin-k_100g                              float64\n",
      " 124  vitamin-c_100g                              float64\n",
      " 125  vitamin-b1_100g                             float64\n",
      " 126  vitamin-b2_100g                             float64\n",
      " 127  vitamin-pp_100g                             float64\n",
      " 128  vitamin-b6_100g                             float64\n",
      " 129  vitamin-b9_100g                             float64\n",
      " 130  folates_100g                                float64\n",
      " 131  vitamin-b12_100g                            float64\n",
      " 132  biotin_100g                                 float64\n",
      " 133  pantothenic-acid_100g                       float64\n",
      " 134  silica_100g                                 float64\n",
      " 135  bicarbonate_100g                            float64\n",
      " 136  potassium_100g                              float64\n",
      " 137  chloride_100g                               float64\n",
      " 138  calcium_100g                                float64\n",
      " 139  phosphorus_100g                             float64\n",
      " 140  iron_100g                                   float64\n",
      " 141  magnesium_100g                              float64\n",
      " 142  zinc_100g                                   float64\n",
      " 143  copper_100g                                 float64\n",
      " 144  manganese_100g                              float64\n",
      " 145  fluoride_100g                               float64\n",
      " 146  selenium_100g                               float64\n",
      " 147  chromium_100g                               float64\n",
      " 148  molybdenum_100g                             float64\n",
      " 149  iodine_100g                                 float64\n",
      " 150  caffeine_100g                               float64\n",
      " 151  taurine_100g                                float64\n",
      " 152  ph_100g                                     float64\n",
      " 153  fruits-vegetables-nuts_100g                 float64\n",
      " 154  collagen-meat-protein-ratio_100g            float64\n",
      " 155  cocoa_100g                                  float64\n",
      " 156  chlorophyl_100g                             float64\n",
      " 157  carbon-footprint_100g                       float64\n",
      " 158  nutrition-score-fr_100g                     float64\n",
      " 159  nutrition-score-uk_100g                     float64\n",
      " 160  glycemic-index_100g                         float64\n",
      " 161  water-hardness_100g                         float64\n",
      "dtypes: float64(106), object(56)\n",
      "memory usage: 396.5+ MB\n"
     ]
    }
   ],
   "source": [
    "df.info(4)"
   ]
  },
  {
   "cell_type": "markdown",
   "id": "495a42a8020284c6",
   "metadata": {
    "collapsed": false
   },
   "source": [
    "#### 1.4.3.2. Fréquence et modes"
   ]
  },
  {
   "cell_type": "code",
   "execution_count": 11,
   "outputs": [
    {
     "data": {
      "text/plain": "                 code                                                url  \\\n0       0000000003087  http://world-fr.openfoodfacts.org/produit/0000...   \n1       0000000004530  http://world-fr.openfoodfacts.org/produit/0000...   \n2       0000000004559  http://world-fr.openfoodfacts.org/produit/0000...   \n3       0000000016087  http://world-fr.openfoodfacts.org/produit/0000...   \n4       0000000016094  http://world-fr.openfoodfacts.org/produit/0000...   \n...               ...                                                ...   \n320739  9948282780603  http://world-fr.openfoodfacts.org/produit/9948...   \n320740       99567453  http://world-fr.openfoodfacts.org/produit/9956...   \n320741  9970229501521  http://world-fr.openfoodfacts.org/produit/9970...   \n320742  9980282863788  http://world-fr.openfoodfacts.org/produit/9980...   \n320743   999990026839  http://world-fr.openfoodfacts.org/produit/9999...   \n\n                creator   created_t      created_datetime last_modified_t  \\\n0       usda-ndb-import  1489055829  2017-03-09T10:37:09Z      1439141742   \n1                   NaN  1489077120  2017-03-09T16:32:00Z             NaN   \n2                   NaN         NaN                   NaN             NaN   \n3                   NaN         NaN                   NaN             NaN   \n4                   NaN         NaN                   NaN             NaN   \n...                 ...         ...                   ...             ...   \n320739              NaN         NaN                   NaN             NaN   \n320740              NaN         NaN                   NaN             NaN   \n320741              NaN         NaN                   NaN             NaN   \n320742              NaN         NaN                   NaN             NaN   \n320743              NaN         NaN                   NaN             NaN   \n\n       last_modified_datetime product_name  \\\n0        2015-08-09T17:35:42Z    Ice Cream   \n1                         NaN          NaN   \n2                         NaN          NaN   \n3                         NaN          NaN   \n4                         NaN          NaN   \n...                       ...          ...   \n320739                    NaN          NaN   \n320740                    NaN          NaN   \n320741                    NaN          NaN   \n320742                    NaN          NaN   \n320743                    NaN          NaN   \n\n                                             generic_name quantity  ...  \\\n0       Pâtes alimentaires au blé dur de qualité supér...    500 g  ...   \n1                                                     NaN      NaN  ...   \n2                                                     NaN      NaN  ...   \n3                                                     NaN      NaN  ...   \n4                                                     NaN      NaN  ...   \n...                                                   ...      ...  ...   \n320739                                                NaN      NaN  ...   \n320740                                                NaN      NaN  ...   \n320741                                                NaN      NaN  ...   \n320742                                                NaN      NaN  ...   \n320743                                                NaN      NaN  ...   \n\n       ph_100g fruits-vegetables-nuts_100g collagen-meat-protein-ratio_100g  \\\n0          7.2                         0.0                             15.0   \n1          NaN                         NaN                              NaN   \n2          NaN                         NaN                              NaN   \n3          NaN                         NaN                              NaN   \n4          NaN                         NaN                              NaN   \n...        ...                         ...                              ...   \n320739     NaN                         NaN                              NaN   \n320740     NaN                         NaN                              NaN   \n320741     NaN                         NaN                              NaN   \n320742     NaN                         NaN                              NaN   \n320743     NaN                         NaN                              NaN   \n\n       cocoa_100g chlorophyl_100g carbon-footprint_100g  \\\n0            30.0             NaN                   0.0   \n1             NaN             NaN                   NaN   \n2             NaN             NaN                   NaN   \n3             NaN             NaN                   NaN   \n4             NaN             NaN                   NaN   \n...           ...             ...                   ...   \n320739        NaN             NaN                   NaN   \n320740        NaN             NaN                   NaN   \n320741        NaN             NaN                   NaN   \n320742        NaN             NaN                   NaN   \n320743        NaN             NaN                   NaN   \n\n       nutrition-score-fr_100g nutrition-score-uk_100g glycemic-index_100g  \\\n0                          0.0                     0.0                 NaN   \n1                          NaN                     NaN                 NaN   \n2                          NaN                     NaN                 NaN   \n3                          NaN                     NaN                 NaN   \n4                          NaN                     NaN                 NaN   \n...                        ...                     ...                 ...   \n320739                     NaN                     NaN                 NaN   \n320740                     NaN                     NaN                 NaN   \n320741                     NaN                     NaN                 NaN   \n320742                     NaN                     NaN                 NaN   \n320743                     NaN                     NaN                 NaN   \n\n       water-hardness_100g  \n0                      NaN  \n1                      NaN  \n2                      NaN  \n3                      NaN  \n4                      NaN  \n...                    ...  \n320739                 NaN  \n320740                 NaN  \n320741                 NaN  \n320742                 NaN  \n320743                 NaN  \n\n[320744 rows x 162 columns]",
      "text/html": "<div>\n<style scoped>\n    .dataframe tbody tr th:only-of-type {\n        vertical-align: middle;\n    }\n\n    .dataframe tbody tr th {\n        vertical-align: top;\n    }\n\n    .dataframe thead th {\n        text-align: right;\n    }\n</style>\n<table border=\"1\" class=\"dataframe\">\n  <thead>\n    <tr style=\"text-align: right;\">\n      <th></th>\n      <th>code</th>\n      <th>url</th>\n      <th>creator</th>\n      <th>created_t</th>\n      <th>created_datetime</th>\n      <th>last_modified_t</th>\n      <th>last_modified_datetime</th>\n      <th>product_name</th>\n      <th>generic_name</th>\n      <th>quantity</th>\n      <th>...</th>\n      <th>ph_100g</th>\n      <th>fruits-vegetables-nuts_100g</th>\n      <th>collagen-meat-protein-ratio_100g</th>\n      <th>cocoa_100g</th>\n      <th>chlorophyl_100g</th>\n      <th>carbon-footprint_100g</th>\n      <th>nutrition-score-fr_100g</th>\n      <th>nutrition-score-uk_100g</th>\n      <th>glycemic-index_100g</th>\n      <th>water-hardness_100g</th>\n    </tr>\n  </thead>\n  <tbody>\n    <tr>\n      <th>0</th>\n      <td>0000000003087</td>\n      <td>http://world-fr.openfoodfacts.org/produit/0000...</td>\n      <td>usda-ndb-import</td>\n      <td>1489055829</td>\n      <td>2017-03-09T10:37:09Z</td>\n      <td>1439141742</td>\n      <td>2015-08-09T17:35:42Z</td>\n      <td>Ice Cream</td>\n      <td>Pâtes alimentaires au blé dur de qualité supér...</td>\n      <td>500 g</td>\n      <td>...</td>\n      <td>7.2</td>\n      <td>0.0</td>\n      <td>15.0</td>\n      <td>30.0</td>\n      <td>NaN</td>\n      <td>0.0</td>\n      <td>0.0</td>\n      <td>0.0</td>\n      <td>NaN</td>\n      <td>NaN</td>\n    </tr>\n    <tr>\n      <th>1</th>\n      <td>0000000004530</td>\n      <td>http://world-fr.openfoodfacts.org/produit/0000...</td>\n      <td>NaN</td>\n      <td>1489077120</td>\n      <td>2017-03-09T16:32:00Z</td>\n      <td>NaN</td>\n      <td>NaN</td>\n      <td>NaN</td>\n      <td>NaN</td>\n      <td>NaN</td>\n      <td>...</td>\n      <td>NaN</td>\n      <td>NaN</td>\n      <td>NaN</td>\n      <td>NaN</td>\n      <td>NaN</td>\n      <td>NaN</td>\n      <td>NaN</td>\n      <td>NaN</td>\n      <td>NaN</td>\n      <td>NaN</td>\n    </tr>\n    <tr>\n      <th>2</th>\n      <td>0000000004559</td>\n      <td>http://world-fr.openfoodfacts.org/produit/0000...</td>\n      <td>NaN</td>\n      <td>NaN</td>\n      <td>NaN</td>\n      <td>NaN</td>\n      <td>NaN</td>\n      <td>NaN</td>\n      <td>NaN</td>\n      <td>NaN</td>\n      <td>...</td>\n      <td>NaN</td>\n      <td>NaN</td>\n      <td>NaN</td>\n      <td>NaN</td>\n      <td>NaN</td>\n      <td>NaN</td>\n      <td>NaN</td>\n      <td>NaN</td>\n      <td>NaN</td>\n      <td>NaN</td>\n    </tr>\n    <tr>\n      <th>3</th>\n      <td>0000000016087</td>\n      <td>http://world-fr.openfoodfacts.org/produit/0000...</td>\n      <td>NaN</td>\n      <td>NaN</td>\n      <td>NaN</td>\n      <td>NaN</td>\n      <td>NaN</td>\n      <td>NaN</td>\n      <td>NaN</td>\n      <td>NaN</td>\n      <td>...</td>\n      <td>NaN</td>\n      <td>NaN</td>\n      <td>NaN</td>\n      <td>NaN</td>\n      <td>NaN</td>\n      <td>NaN</td>\n      <td>NaN</td>\n      <td>NaN</td>\n      <td>NaN</td>\n      <td>NaN</td>\n    </tr>\n    <tr>\n      <th>4</th>\n      <td>0000000016094</td>\n      <td>http://world-fr.openfoodfacts.org/produit/0000...</td>\n      <td>NaN</td>\n      <td>NaN</td>\n      <td>NaN</td>\n      <td>NaN</td>\n      <td>NaN</td>\n      <td>NaN</td>\n      <td>NaN</td>\n      <td>NaN</td>\n      <td>...</td>\n      <td>NaN</td>\n      <td>NaN</td>\n      <td>NaN</td>\n      <td>NaN</td>\n      <td>NaN</td>\n      <td>NaN</td>\n      <td>NaN</td>\n      <td>NaN</td>\n      <td>NaN</td>\n      <td>NaN</td>\n    </tr>\n    <tr>\n      <th>...</th>\n      <td>...</td>\n      <td>...</td>\n      <td>...</td>\n      <td>...</td>\n      <td>...</td>\n      <td>...</td>\n      <td>...</td>\n      <td>...</td>\n      <td>...</td>\n      <td>...</td>\n      <td>...</td>\n      <td>...</td>\n      <td>...</td>\n      <td>...</td>\n      <td>...</td>\n      <td>...</td>\n      <td>...</td>\n      <td>...</td>\n      <td>...</td>\n      <td>...</td>\n      <td>...</td>\n    </tr>\n    <tr>\n      <th>320739</th>\n      <td>9948282780603</td>\n      <td>http://world-fr.openfoodfacts.org/produit/9948...</td>\n      <td>NaN</td>\n      <td>NaN</td>\n      <td>NaN</td>\n      <td>NaN</td>\n      <td>NaN</td>\n      <td>NaN</td>\n      <td>NaN</td>\n      <td>NaN</td>\n      <td>...</td>\n      <td>NaN</td>\n      <td>NaN</td>\n      <td>NaN</td>\n      <td>NaN</td>\n      <td>NaN</td>\n      <td>NaN</td>\n      <td>NaN</td>\n      <td>NaN</td>\n      <td>NaN</td>\n      <td>NaN</td>\n    </tr>\n    <tr>\n      <th>320740</th>\n      <td>99567453</td>\n      <td>http://world-fr.openfoodfacts.org/produit/9956...</td>\n      <td>NaN</td>\n      <td>NaN</td>\n      <td>NaN</td>\n      <td>NaN</td>\n      <td>NaN</td>\n      <td>NaN</td>\n      <td>NaN</td>\n      <td>NaN</td>\n      <td>...</td>\n      <td>NaN</td>\n      <td>NaN</td>\n      <td>NaN</td>\n      <td>NaN</td>\n      <td>NaN</td>\n      <td>NaN</td>\n      <td>NaN</td>\n      <td>NaN</td>\n      <td>NaN</td>\n      <td>NaN</td>\n    </tr>\n    <tr>\n      <th>320741</th>\n      <td>9970229501521</td>\n      <td>http://world-fr.openfoodfacts.org/produit/9970...</td>\n      <td>NaN</td>\n      <td>NaN</td>\n      <td>NaN</td>\n      <td>NaN</td>\n      <td>NaN</td>\n      <td>NaN</td>\n      <td>NaN</td>\n      <td>NaN</td>\n      <td>...</td>\n      <td>NaN</td>\n      <td>NaN</td>\n      <td>NaN</td>\n      <td>NaN</td>\n      <td>NaN</td>\n      <td>NaN</td>\n      <td>NaN</td>\n      <td>NaN</td>\n      <td>NaN</td>\n      <td>NaN</td>\n    </tr>\n    <tr>\n      <th>320742</th>\n      <td>9980282863788</td>\n      <td>http://world-fr.openfoodfacts.org/produit/9980...</td>\n      <td>NaN</td>\n      <td>NaN</td>\n      <td>NaN</td>\n      <td>NaN</td>\n      <td>NaN</td>\n      <td>NaN</td>\n      <td>NaN</td>\n      <td>NaN</td>\n      <td>...</td>\n      <td>NaN</td>\n      <td>NaN</td>\n      <td>NaN</td>\n      <td>NaN</td>\n      <td>NaN</td>\n      <td>NaN</td>\n      <td>NaN</td>\n      <td>NaN</td>\n      <td>NaN</td>\n      <td>NaN</td>\n    </tr>\n    <tr>\n      <th>320743</th>\n      <td>999990026839</td>\n      <td>http://world-fr.openfoodfacts.org/produit/9999...</td>\n      <td>NaN</td>\n      <td>NaN</td>\n      <td>NaN</td>\n      <td>NaN</td>\n      <td>NaN</td>\n      <td>NaN</td>\n      <td>NaN</td>\n      <td>NaN</td>\n      <td>...</td>\n      <td>NaN</td>\n      <td>NaN</td>\n      <td>NaN</td>\n      <td>NaN</td>\n      <td>NaN</td>\n      <td>NaN</td>\n      <td>NaN</td>\n      <td>NaN</td>\n      <td>NaN</td>\n      <td>NaN</td>\n    </tr>\n  </tbody>\n</table>\n<p>320744 rows × 162 columns</p>\n</div>"
     },
     "execution_count": 11,
     "metadata": {},
     "output_type": "execute_result"
    }
   ],
   "source": [
    "df.mode()"
   ],
   "metadata": {
    "collapsed": false,
    "ExecuteTime": {
     "end_time": "2023-12-04T15:29:59.798228400Z",
     "start_time": "2023-12-04T15:29:56.087133900Z"
    }
   },
   "id": "70a299667e253831"
  },
  {
   "cell_type": "markdown",
   "source": [
    "#### 1.4.3.3. Mesure de tendance centrale"
   ],
   "metadata": {
    "collapsed": false
   },
   "id": "b25e3b6c6f9ed96f"
  },
  {
   "cell_type": "code",
   "execution_count": null,
   "outputs": [],
   "source": [
    "df.mean()"
   ],
   "metadata": {
    "collapsed": false,
    "is_executing": true,
    "ExecuteTime": {
     "start_time": "2023-12-04T15:30:09.246687Z"
    }
   },
   "id": "1151b263ee4201ef"
  },
  {
   "cell_type": "code",
   "execution_count": null,
   "outputs": [],
   "source": [
    "df.median()"
   ],
   "metadata": {
    "collapsed": false,
    "is_executing": true
   },
   "id": "97764c6abe830ae4"
  },
  {
   "cell_type": "markdown",
   "source": [
    "#### 1.4.3.4. Mesure de dispersion"
   ],
   "metadata": {
    "collapsed": false
   },
   "id": "76eb5ceeba27d6b5"
  },
  {
   "cell_type": "code",
   "execution_count": null,
   "outputs": [],
   "source": [
    "df.var()"
   ],
   "metadata": {
    "collapsed": false,
    "is_executing": true
   },
   "id": "84348f6221a1e30"
  },
  {
   "cell_type": "code",
   "execution_count": null,
   "outputs": [],
   "source": [
    "df.std()"
   ],
   "metadata": {
    "collapsed": false,
    "is_executing": true
   },
   "id": "c60469ba155ed51d"
  },
  {
   "cell_type": "code",
   "execution_count": null,
   "outputs": [],
   "source": [
    "df.max()-df.min()"
   ],
   "metadata": {
    "collapsed": false,
    "is_executing": true
   },
   "id": "ad9b0535c97ed77f"
  },
  {
   "cell_type": "markdown",
   "source": [
    "#### 1.4.3.5. Mesure de forme de distribution"
   ],
   "metadata": {
    "collapsed": false
   },
   "id": "cde066c84b32b55b"
  },
  {
   "cell_type": "code",
   "execution_count": null,
   "outputs": [],
   "source": [
    "df.skew()"
   ],
   "metadata": {
    "collapsed": false,
    "is_executing": true
   },
   "id": "7419791c17b00c2c"
  },
  {
   "cell_type": "code",
   "execution_count": null,
   "outputs": [],
   "source": [
    "df.kurt()"
   ],
   "metadata": {
    "collapsed": false,
    "is_executing": true
   },
   "id": "fffa0fee0dcbcfbf"
  },
  {
   "cell_type": "markdown",
   "source": [
    "#### 1.4.3.6. Corrélations et tableaux croisés"
   ],
   "metadata": {
    "collapsed": false
   },
   "id": "118a2c323225e7b9"
  },
  {
   "cell_type": "code",
   "execution_count": null,
   "outputs": [],
   "source": [
    "df.corr()"
   ],
   "metadata": {
    "collapsed": false,
    "is_executing": true
   },
   "id": "5be2a68c90ddbfbe"
  },
  {
   "cell_type": "markdown",
   "source": [
    "#### 1.4.3.7. Graphiques et visualisations"
   ],
   "metadata": {
    "collapsed": false
   },
   "id": "312bf4bf4eddce9b"
  },
  {
   "cell_type": "code",
   "execution_count": null,
   "outputs": [],
   "source": [
    "df.hist(figsize=(10, 10))\n",
    "plt.show()"
   ],
   "metadata": {
    "collapsed": false,
    "is_executing": true
   },
   "id": "765aaf846f330948"
  },
  {
   "cell_type": "markdown",
   "id": "485e611cd7fdbfdd",
   "metadata": {},
   "source": [
    "## 1.5 Autre affichage , section de colonnes et découpage"
   ]
  },
  {
   "cell_type": "markdown",
   "id": "bc63149b20068ed1",
   "metadata": {
    "collapsed": false
   },
   "source": [
    "Dans la fonction ci-après nous division notre dataset en par les sections définis dans la documentation"
   ]
  },
  {
   "cell_type": "code",
   "execution_count": null,
   "id": "d493794b658a132d",
   "metadata": {
    "is_executing": true
   },
   "outputs": [],
   "source": [
    "def extract_sections_from_description(file_path):\n",
    "    sections = {}\n",
    "    current_section = None\n",
    "\n",
    "    with open(file_path, 'r', encoding='utf-8') as file:\n",
    "        lines = file.readlines()\n",
    "\n",
    "    for line in lines:\n",
    "        if line.startswith(\"#\"):\n",
    "            current_section = line.replace(\"#\", \"\").strip().replace(\" \", \"_\").replace(\":\", \"\").replace(\".\", \"\").lower()\n",
    "            sections[current_section] = []\n",
    "        elif current_section and \":\" in line:\n",
    "            field_name = line.strip().split(\" : \")[0].lower()\n",
    "            sections[current_section].append(field_name)\n",
    "\n",
    "    return sections\n",
    "\n",
    "    print(sections)\n",
    "\n",
    "# Extraire les sections et descriptions\n",
    "desc_file_path = \"./resources/data-fields.txt\"\n",
    "sections = extract_sections_from_description(desc_file_path)\n",
    "\n",
    "# Associer les données aux descriptions et diviser par section\n",
    "section_data = {}\n",
    "for section, columns in sections.items():\n",
    "    # Condition pour éviter les champs manquants de la section Misc. data\n",
    "    # if section != \"misc. data\":\n",
    "    # Utiliser une approche basée sur les sous-chaînes pour correspondre aux colonnes\n",
    "    # valid_columns = [col for col in df.columns if any(field.lower() in col.lower() for field in columns)]\n",
    "    # print(f\"valid_columns :: {df.columns}\")\n",
    "    valid_columns = [col for col in df.columns if any(str(field) == str(col) for field in columns)]\n",
    "    print(f\"valid_columns :: {valid_columns}\")\n",
    "    # if valid_columns:\n",
    "        # section_data[section] = df[valid_columns]\n",
    "\n",
    "        # Création d'une variable pour chaque section\n",
    "    section_var_name = section.strip().replace(\" \", \"_\").replace(\":\", \"\").replace(\".\", \"\").lower()\n",
    "    globals()[section_var_name] = df[valid_columns]\n",
    "    print(f\"Section en cours : {section_var_name}\")\n",
    "    # print(globals()[section_var_name].head())\n",
    "\n",
    "# Affichage des sections et de leurs données\n",
    "for section, df_section in section_data.items():\n",
    "    print(f\"\\nSection: {section}\")\n",
    "    # print(df_section.head())"
   ]
  },
  {
   "cell_type": "markdown",
   "id": "9358479d2347cf46",
   "metadata": {
    "collapsed": false
   },
   "source": [
    "Nous pouvons appeler chaque section dans la variable global en donnant en clef le nom de la section désirée"
   ]
  },
  {
   "cell_type": "code",
   "execution_count": null,
   "id": "7c20c7adc7d05195",
   "metadata": {
    "is_executing": true
   },
   "outputs": [],
   "source": [
    "globals()[\"general_information\"].head()"
   ]
  },
  {
   "cell_type": "code",
   "execution_count": null,
   "id": "6899f70b3420af8",
   "metadata": {
    "collapsed": false,
    "is_executing": true
   },
   "outputs": [],
   "source": [
    "globals()[\"tags\"].head()"
   ]
  },
  {
   "cell_type": "code",
   "execution_count": null,
   "id": "29f18dd621dd1e36",
   "metadata": {
    "collapsed": false,
    "is_executing": true
   },
   "outputs": [],
   "source": [
    "globals()[\"ingredients\"].head()"
   ]
  },
  {
   "cell_type": "code",
   "execution_count": null,
   "id": "b3e5ee039adec3fc",
   "metadata": {
    "collapsed": false,
    "is_executing": true
   },
   "outputs": [],
   "source": [
    "globals()[\"misc_data\"].head()"
   ]
  },
  {
   "cell_type": "code",
   "execution_count": null,
   "id": "d60f912a583076b",
   "metadata": {
    "collapsed": false,
    "is_executing": true
   },
   "outputs": [],
   "source": [
    "globals()[\"nutrition_facts\"].head()"
   ]
  },
  {
   "cell_type": "markdown",
   "id": "4a3c8875997ae7a6",
   "metadata": {
    "collapsed": false
   },
   "source": [
    "# 2. Préparation et Nettoyage des Données"
   ]
  },
  {
   "cell_type": "markdown",
   "id": "7c8fb21e1a6d4411",
   "metadata": {
    "collapsed": false
   },
   "source": [
    "## 2.1. Identification des colonnes avec données manquantes"
   ]
  },
  {
   "cell_type": "markdown",
   "id": "12b39b9216e073c4",
   "metadata": {},
   "source": [
    "Identification des colonnes avec plus de 50% de données manquantes"
   ]
  },
  {
   "cell_type": "code",
   "execution_count": null,
   "id": "cc7f2d89f08efa5f",
   "metadata": {
    "is_executing": true
   },
   "outputs": [],
   "source": [
    "missing_values = df.isnull().sum() / len(df) * 100"
   ]
  },
  {
   "cell_type": "markdown",
   "id": "9cc908fce7315579",
   "metadata": {
    "collapsed": false
   },
   "source": [
    "Affichage des colonnes avec plus de 50% de valeurs null"
   ]
  },
  {
   "cell_type": "code",
   "execution_count": null,
   "id": "6028da79a59bcab0",
   "metadata": {
    "collapsed": false,
    "is_executing": true
   },
   "outputs": [],
   "source": [
    "high_missing_values = missing_values[missing_values > 50]\n",
    "print(f\"Columns with more than 50% missing data :\\n {high_missing_values}\")"
   ]
  },
  {
   "cell_type": "markdown",
   "id": "4487b0841e99970",
   "metadata": {},
   "source": [
    "## 2.2 Suppression des colonnes avec plus de 50% de valeurs null"
   ]
  },
  {
   "cell_type": "code",
   "execution_count": null,
   "id": "f1975905cc04d040",
   "metadata": {
    "is_executing": true
   },
   "outputs": [],
   "source": [
    "columns_droped = high_missing_values.index;\n",
    "df = df.loc[:, df.isnull().mean() < .5]\n",
    "\n",
    "print(f\"Columns deleted : \\n{columns_droped}\")\n",
    "print(f\"Df length after deletion : {df.shape}\")"
   ]
  },
  {
   "cell_type": "code",
   "execution_count": null,
   "id": "fdd355edde0920e1",
   "metadata": {
    "is_executing": true
   },
   "outputs": [],
   "source": [
    "df.head()"
   ]
  },
  {
   "cell_type": "markdown",
   "id": "ad4281440679c7c2",
   "metadata": {
    "collapsed": false
   },
   "source": [
    "## 2.3 Évaluation de la pertinence des colonnes restantes"
   ]
  },
  {
   "cell_type": "markdown",
   "id": "8da3e730cc0b3452",
   "metadata": {
    "collapsed": false
   },
   "source": [
    "Dans cette partie nous allons décider quelles colonnes il est pertinent de garder pour notre analyse. Nous le faisons manuellement nous pourrions utiliser un modèle comme ChatGPT qui nous renverrais un taux de pertinence en fonction du sujet abordé."
   ]
  },
  {
   "cell_type": "code",
   "execution_count": null,
   "id": "8762f112b0d1b06f",
   "metadata": {
    "is_executing": true
   },
   "outputs": [],
   "source": [
    "df.columns.tolist()"
   ]
  },
  {
   "cell_type": "markdown",
   "id": "3a11aff22c53ab29",
   "metadata": {
    "collapsed": false
   },
   "source": [
    "'code', --TI -- Code produit : peut être important pour d'éventuelle relations\n",
    " 'product_name', -IMPORTANT \n",
    " 'brands',--TI\n",
    " 'countries_fr', - pi\n",
    " 'additives_n',\n",
    " 'nutriscore_grade', --TI\n",
    " 'main_category_fr', -- DELETE --TI\n",
    " 'energy-kcal_100g', -IMPORTANT \n",
    " 'energy_100g', -IMPORTANT \n",
    " 'fat_100g', -IMPORTANT \n",
    " 'saturated-fat_100g', -IMPORTANT \n",
    " 'carbohydrates_100g', -IMPORTANT \n",
    " 'sugars_100g', -IMPORTANT \n",
    " 'fiber_100g', -IMPORTANT \n",
    " 'proteins_100g', -IMPORTANT \n",
    " 'salt_100g', -IMPORTANT \n",
    " 'sodium_100g', -IMPORTANT \n",
    " 'fruits-vegetables-nuts-estimate-from-ingredients_100g'"
   ]
  },
  {
   "cell_type": "code",
   "execution_count": null,
   "id": "eac40ed734616db8",
   "metadata": {
    "is_executing": true
   },
   "outputs": [],
   "source": [
    "columns_to_keep = [\"code\",\"product_name\",\"brands\",\"countries_fr\",\"additives_n\",\"nutriscore_grade\",\"main_category_fr\",\"energy_100g\",\"fat_100g\",\"saturated-fat_100g\",\"carbohydrates_100g\",\"sugars_100g\",\"fiber_100g\",\"proteins_100g\",\"salt_100g\",\"sodium_100g\",\"fruits-vegetables-nuts-estimate-from-ingredients_100g\"]"
   ]
  },
  {
   "cell_type": "markdown",
   "source": [
    "## 2.4. Sélection et découpage des colonnes pertinentes"
   ],
   "metadata": {
    "collapsed": false
   },
   "id": "b1c330eaa3e2aed8"
  },
  {
   "cell_type": "markdown",
   "source": [
    "## 2.5 Nettoyage et filtrage des colonnes"
   ],
   "metadata": {
    "collapsed": false
   },
   "id": "3731daece2cb81bb"
  },
  {
   "cell_type": "markdown",
   "id": "8eccf2156d909682",
   "metadata": {
    "collapsed": false
   },
   "source": [
    "## 2.6. Suppression des colonnes non nécessaires pour l'analyse"
   ]
  },
  {
   "cell_type": "markdown",
   "id": "939a073209ba3982",
   "metadata": {
    "collapsed": false
   },
   "source": [
    "Dans cette partie nous allons supprimer de notre data frame les colonnes défini juste précédement comme \"non pertinantes\" pour notre analyse"
   ]
  },
  {
   "cell_type": "code",
   "execution_count": null,
   "id": "aa2621818a2ac241",
   "metadata": {
    "collapsed": false,
    "is_executing": true
   },
   "outputs": [],
   "source": [
    "df = df[columns_to_keep];\n",
    "\n",
    "print(f\"Final columns : \\n{df.columns}\")"
   ]
  },
  {
   "cell_type": "markdown",
   "id": "875ef42732248bfa",
   "metadata": {
    "collapsed": false
   },
   "source": [
    "# 3. Nettoyage Approfondi des Données"
   ]
  },
  {
   "cell_type": "markdown",
   "id": "35a338582b476f04",
   "metadata": {
    "collapsed": false
   },
   "source": [
    "## 3.1. Gestion des valeurs manquantes et doublons"
   ]
  },
  {
   "cell_type": "markdown",
   "id": "27ed2a0103a77567",
   "metadata": {
    "collapsed": false
   },
   "source": [
    "### 3.1.1. Suppression des lignes nulles pour des colonnes clés\n",
    "\n",
    "Car sans valeurs aucune valeurs ne peut y etre associé"
   ]
  },
  {
   "cell_type": "code",
   "execution_count": null,
   "id": "a46d9c1f3d0ecbca",
   "metadata": {
    "collapsed": false,
    "is_executing": true
   },
   "outputs": [],
   "source": [
    "print(f\"Data frame infos before deleting null values: {df.shape}\")\n",
    "\n",
    "df = df.dropna(subset=['product_name', 'code'])\n",
    "\n",
    "print(f\"Data frame infos after delete null values: {df.shape}\")"
   ]
  },
  {
   "cell_type": "markdown",
   "id": "174313789af201b3",
   "metadata": {
    "collapsed": false
   },
   "source": [
    "### 3.1.2. Suppression des doublons basés sur des identifiants uniques"
   ]
  },
  {
   "cell_type": "markdown",
   "id": "6ab86f0a189b9350",
   "metadata": {
    "collapsed": false
   },
   "source": [
    "Le code est l'identifiant unique d'un produit, un doublon de cette valeur indiquerais une erreur, une fausse observation (ici record)"
   ]
  },
  {
   "cell_type": "code",
   "execution_count": null,
   "id": "7be48ba1f5f47862",
   "metadata": {
    "collapsed": false,
    "is_executing": true
   },
   "outputs": [],
   "source": [
    "print(f\"Data frame infos before deleting duplicates of `code` : {df.shape}\")\n",
    "\n",
    "df = df.drop_duplicates(subset='code')\n",
    "\n",
    "print(f\"Data frame infos after delete duplicates of `code`: {df.shape}\")"
   ]
  },
  {
   "cell_type": "markdown",
   "id": "3a459ca667891087",
   "metadata": {
    "collapsed": false
   },
   "source": [
    "## 3.2 Traitement des valeurs aberrantes"
   ]
  },
  {
   "cell_type": "markdown",
   "id": "c93dfd12d6750581",
   "metadata": {
    "collapsed": false
   },
   "source": [
    "### 3.2.1. Gestion des NAN et valeurs aberrantes pour certaines mesures"
   ]
  },
  {
   "cell_type": "code",
   "execution_count": null,
   "id": "7b469c535b113fa1",
   "metadata": {
    "collapsed": false,
    "is_executing": true
   },
   "outputs": [],
   "source": [
    "# Getting finished by _100g columns....\n",
    "numeric_cols = df.columns[df.columns.str.contains('_100g')]\n",
    "for col in numeric_cols:\n",
    "    ## Numeric conversion...\n",
    "    df[col] = pd.to_numeric(df[col], errors='coerce')\n",
    "    # Replacement of extreme value by NaN value \n",
    "    df[col] = df[col].apply(lambda x: np.nan if x <= 0 or x > 100 else x)"
   ]
  },
  {
   "cell_type": "code",
   "execution_count": null,
   "id": "b4b78ec03d6ea94b",
   "metadata": {
    "collapsed": false,
    "is_executing": true
   },
   "outputs": [],
   "source": [
    "df.head()"
   ]
  },
  {
   "cell_type": "markdown",
   "id": "dbd610a0102ea53f",
   "metadata": {
    "collapsed": false
   },
   "source": [
    "### 3.2.2. Détection et traitement des outliers"
   ]
  },
  {
   "cell_type": "code",
   "execution_count": null,
   "id": "9cd082da231b65a",
   "metadata": {
    "collapsed": false,
    "is_executing": true
   },
   "outputs": [],
   "source": [
    "composants = df.columns[df.columns.str.endswith('salt_100g')]  # Colonnes de composants\n",
    "for col in composants:\n",
    "    if col != '_100g':  # Remplacer 'sel_100g' par la colonne réelle du sel\n",
    "        df[col] = np.where(df[col] >= 100, np.nan, df[col])"
   ]
  },
  {
   "cell_type": "code",
   "execution_count": null,
   "id": "b7f21ec8d68b6967",
   "metadata": {
    "collapsed": false,
    "is_executing": true
   },
   "outputs": [],
   "source": [
    "from scipy import stats\n",
    "z_scores = np.abs(stats.zscore(df[composants]))\n",
    "df[(z_scores < 3).all(axis=1)]"
   ]
  },
  {
   "cell_type": "code",
   "execution_count": null,
   "id": "6097e65e12ad4552",
   "metadata": {
    "collapsed": false,
    "is_executing": true
   },
   "outputs": [],
   "source": [
    "def handle_outliers(column):\n",
    "    Q1 = column.quantile(0.25)\n",
    "    Q3 = column.quantile(0.75)\n",
    "    Inter = Q3 - Q1\n",
    "    return column[~((column < (Q1 - 1.5 * Inter)) | (column > (Q3 + 1.5 * Inter)))]\n",
    "\n",
    "# Apply for every number columns\n",
    "for col in df.select_dtypes(include=['number']).columns:\n",
    "    df[col] = handle_outliers(df[col])\n",
    "    print(f\"Traitment ... : {df[col]}\")"
   ]
  },
  {
   "cell_type": "markdown",
   "id": "42cdf94772304d01",
   "metadata": {
    "collapsed": false
   },
   "source": [
    "## 3.3 Normalisation et transformation des données"
   ]
  },
  {
   "cell_type": "markdown",
   "id": "144a351e27f9c8d7",
   "metadata": {
    "collapsed": false
   },
   "source": [
    "### 3.3.1 Normalisation des données numériques"
   ]
  },
  {
   "cell_type": "code",
   "execution_count": null,
   "id": "250b3c7941fe4a34",
   "metadata": {
    "collapsed": false,
    "is_executing": true
   },
   "outputs": [],
   "source": [
    "from sklearn.preprocessing import MinMaxScaler\n",
    "scaler = MinMaxScaler()\n",
    "df[df.select_dtypes(include=['number']).columns] = scaler.fit_transform(df.select_dtypes(include=['number']))"
   ]
  },
  {
   "cell_type": "markdown",
   "id": "71f8a83cad03d96f",
   "metadata": {
    "collapsed": false
   },
   "source": [
    "### 3.3.2 Normalisation des données textuelles"
   ]
  },
  {
   "cell_type": "code",
   "execution_count": null,
   "id": "ee848de925ac8f29",
   "metadata": {
    "collapsed": false,
    "is_executing": true
   },
   "outputs": [],
   "source": [
    "normalize_text = lambda value: value if pd.isna(value) else value.strip().lower()"
   ]
  },
  {
   "cell_type": "code",
   "execution_count": null,
   "id": "43685413f955e61d",
   "metadata": {
    "collapsed": false,
    "is_executing": true
   },
   "outputs": [],
   "source": [
    "df[df.select_dtypes(include=['object']).columns] = df.select_dtypes(include=['object']).apply(lambda x: x.str.lower().str.strip())"
   ]
  },
  {
   "cell_type": "markdown",
   "id": "f9e7449309e4131e",
   "metadata": {
    "collapsed": false
   },
   "source": [
    "## 3.4. Validation de la cohérence des données"
   ]
  },
  {
   "cell_type": "markdown",
   "id": "4476e4eecfdd25f3",
   "metadata": {
    "collapsed": false
   },
   "source": [
    "### 3.4.1. Vérification des valeurs numériques"
   ]
  },
  {
   "cell_type": "code",
   "execution_count": null,
   "id": "c2f9c513bc67e014",
   "metadata": {
    "collapsed": false,
    "is_executing": true
   },
   "outputs": [],
   "source": [
    "energy_min, energy_max = 0, 900  # Basic range for 100g\n",
    "assert df['energy_100g'].dropna().between(energy_min, energy_max).all(), \"Out of order\""
   ]
  },
  {
   "cell_type": "code",
   "execution_count": null,
   "id": "a9c3d47fe5a7df08",
   "metadata": {
    "collapsed": false,
    "is_executing": true
   },
   "outputs": [],
   "source": [
    "nutrient_cols = ['energy_100g', 'fat_100g', 'saturated-fat_100g', 'carbohydrates_100g', 'sugars_100g', 'proteins_100g', 'salt_100g', 'sodium_100g']\n",
    "for col in nutrient_cols:\n",
    "    assert df[col].dropna().ge(0).all(), f\"Valeurs négatives détectées dans {col}\""
   ]
  },
  {
   "cell_type": "markdown",
   "id": "a53a66da8a353120",
   "metadata": {
    "collapsed": false
   },
   "source": [
    "### 3.4.2. Cohérence des données additives\n",
    "\n",
    "Verification si la valeur de 'additives_n' est réelle et logique"
   ]
  },
  {
   "cell_type": "code",
   "execution_count": null,
   "id": "65eaee8d0b3188c2",
   "metadata": {
    "collapsed": false,
    "is_executing": true
   },
   "outputs": [],
   "source": [
    "assert df['additives_n'].dropna().ge(0).all(), \"Valeurs négatives trouvées dans additives_n\""
   ]
  },
  {
   "cell_type": "markdown",
   "id": "1d1b82e3b7fc5fa9",
   "metadata": {
    "collapsed": false
   },
   "source": [
    "### 3.4.3. Vérification de la cohérence des grades de nutriscore\n",
    "\n",
    "Vérification si les valeurs sont cohérente (correspondent à A,B,C,D,E)"
   ]
  },
  {
   "cell_type": "code",
   "execution_count": null,
   "id": "c9731a37af1a0ba2",
   "metadata": {
    "collapsed": false,
    "is_executing": true
   },
   "outputs": [],
   "source": [
    "valid_grades = ['a', 'b', 'c', 'd', 'e']\n",
    "assert df['nutriscore_grade'].dropna().str.lower().isin(valid_grades).all(), \"Grades de nutriscore invalides détectés\""
   ]
  },
  {
   "cell_type": "markdown",
   "id": "aa5ccaf742665910",
   "metadata": {
    "collapsed": false
   },
   "source": [
    "### 3.4.4. Contrôle des estimations\n",
    "\n",
    "Verification des estimation : fruit, legumes et noix"
   ]
  },
  {
   "cell_type": "code",
   "execution_count": null,
   "id": "da8b066ed0c46ebe",
   "metadata": {
    "collapsed": false,
    "is_executing": true
   },
   "outputs": [],
   "source": [
    "assert df['fruits-vegetables-nuts-estimate-from-ingredients_100g'].dropna().between(0, 100).all(), \"Valeurs anormales dans l'estimation des fruits, légumes et noix\""
   ]
  },
  {
   "cell_type": "markdown",
   "id": "d696c01e46675ec3",
   "metadata": {
    "collapsed": false
   },
   "source": [
    "### 3.4.5. Vérification de la cohérence des noms de produits et marques"
   ]
  },
  {
   "cell_type": "code",
   "execution_count": null,
   "id": "f6191f9c5906512e",
   "metadata": {
    "collapsed": false,
    "is_executing": true
   },
   "outputs": [],
   "source": [
    "assert df['product_name'].apply(lambda x: isinstance(x, str)).all(), \"Incohérences dans product_name\"\n",
    "assert df['brands'].apply(lambda x: isinstance(x, str)).all(), \"Incohérences dans brands\""
   ]
  },
  {
   "cell_type": "markdown",
   "id": "cfcac98c241f6d7e",
   "metadata": {
    "collapsed": false
   },
   "source": [
    "### 3.4.6. Vérification des noms de pays"
   ]
  },
  {
   "cell_type": "code",
   "execution_count": null,
   "id": "dfa4aa08f274f1be",
   "metadata": {
    "collapsed": false,
    "is_executing": true
   },
   "outputs": [],
   "source": [
    "assert df['countries_fr'].apply(lambda x: isinstance(x, str)).all(), \"Incohérences dans countries_fr\""
   ]
  },
  {
   "cell_type": "code",
   "execution_count": null,
   "id": "4b6aa06f4bfbb94",
   "metadata": {
    "collapsed": false,
    "is_executing": true
   },
   "outputs": [],
   "source": [
    "list_countries = [country.name.lower() for country in pycountry.countries]\n",
    "\n",
    "def is_valid_country(country):\n",
    "    if isinstance(country, str):\n",
    "        return country.lower() in list_countries\n",
    "    else:\n",
    "        return False\n",
    "    \n",
    "df['countries_fr'] = df['countries_fr'].dropna()\n",
    "valid_countries = df['countries_fr'].apply(is_valid_country)\n",
    "\n",
    "assert valid_countries.all(), \"Des pays non valides ont été détectés !\""
   ]
  },
  {
   "cell_type": "markdown",
   "id": "97e287cc3f9d2465",
   "metadata": {
    "collapsed": false
   },
   "source": [
    "### 3.4.7. Validation des codes produits"
   ]
  },
  {
   "cell_type": "code",
   "execution_count": null,
   "id": "f79fcc7022f4837e",
   "metadata": {
    "collapsed": false,
    "is_executing": true
   },
   "outputs": [],
   "source": [
    "assert df['code'].astype(str).str.len().eq(13).all(), \"Codes produits de longueur incohérente\""
   ]
  },
  {
   "cell_type": "markdown",
   "id": "dd85ecb3f76d5971",
   "metadata": {
    "collapsed": false
   },
   "source": [
    "# 4. Imputation des Valeurs Manquantes"
   ]
  },
  {
   "cell_type": "markdown",
   "id": "33368b2442a345de",
   "metadata": {
    "collapsed": false
   },
   "source": [
    "## 4.1. Imputation par la médiane"
   ]
  },
  {
   "cell_type": "code",
   "execution_count": null,
   "id": "67b43011fe849c7a",
   "metadata": {
    "collapsed": false,
    "is_executing": true
   },
   "outputs": [],
   "source": [
    "for col in df.select_dtypes(include=['number']).columns:\n",
    "    df[col].fillna(df[col].median(), inplace=True)"
   ]
  },
  {
   "cell_type": "markdown",
   "id": "5f10b35bffe0bf41",
   "metadata": {
    "collapsed": false
   },
   "source": [
    "## 4.2. Imputation par la moyenne"
   ]
  },
  {
   "cell_type": "code",
   "execution_count": null,
   "id": "c421d5211788f34",
   "metadata": {
    "collapsed": false,
    "is_executing": true
   },
   "outputs": [],
   "source": [
    "for col in df.select_dtypes(include=['number']).columns:\n",
    "    df[col].fillna(df[col].mean(), inplace=True)"
   ]
  },
  {
   "cell_type": "markdown",
   "id": "4f77723626cb046d",
   "metadata": {
    "collapsed": false
   },
   "source": [
    "## 4.3. Imputation par KNN"
   ]
  },
  {
   "cell_type": "code",
   "execution_count": null,
   "id": "cdea21405e2201a9",
   "metadata": {
    "collapsed": false,
    "is_executing": true
   },
   "outputs": [],
   "source": [
    "from sklearn.impute import KNNImputer\n",
    "\n",
    "imputer = KNNImputer(n_neighbors=5)\n",
    "df[df.select_dtypes(include=['number']).columns] = imputer.fit_transform(df.select_dtypes(include=['number']))"
   ]
  },
  {
   "cell_type": "code",
   "execution_count": null,
   "id": "1035a5fe65fc1757",
   "metadata": {
    "collapsed": false,
    "is_executing": true
   },
   "outputs": [],
   "source": [
    "df.shape"
   ]
  },
  {
   "cell_type": "markdown",
   "id": "7e59e70b9f281c15",
   "metadata": {
    "collapsed": false
   },
   "source": [
    "# 5. Vérification Post-Imputation"
   ]
  },
  {
   "cell_type": "markdown",
   "id": "3227c68c1c7b3386",
   "metadata": {
    "collapsed": false
   },
   "source": [
    "## 5.1. Ré-évaluation des statistiques descriptives"
   ]
  },
  {
   "cell_type": "code",
   "execution_count": null,
   "id": "f0c2302bfac92d6e",
   "metadata": {
    "collapsed": false,
    "is_executing": true
   },
   "outputs": [],
   "source": [
    "df.describe()"
   ]
  },
  {
   "cell_type": "markdown",
   "id": "c891b4372f03aee7",
   "metadata": {
    "collapsed": false
   },
   "source": [
    "## 5.2. Vérification de la distribution des données imputées"
   ]
  },
  {
   "cell_type": "code",
   "execution_count": null,
   "id": "2e7a93da79cfb5a9",
   "metadata": {
    "collapsed": false,
    "is_executing": true
   },
   "outputs": [],
   "source": [
    "for col in df.select_dtypes(include=['number']).columns:\n",
    "    sns.histplot(df[col], kde=True)\n",
    "    plt.title(f\"Distribution après imputation pour {col}\")\n",
    "    plt.show()"
   ]
  },
  {
   "cell_type": "code",
   "execution_count": null,
   "outputs": [],
   "source": [
    "df.hist(figsize=(10, 10))\n",
    "plt.show()"
   ],
   "metadata": {
    "collapsed": false
   },
   "id": "8ebd870090e39477"
  },
  {
   "cell_type": "markdown",
   "id": "76fff9ea44152bd6",
   "metadata": {
    "collapsed": false
   },
   "source": [
    "# 6. Exportation des Données Nettoyées"
   ]
  },
  {
   "cell_type": "markdown",
   "source": [
    "## 6.1. Préparation du format de sortie"
   ],
   "metadata": {
    "collapsed": false
   },
   "id": "ea0849b13d3785f1"
  },
  {
   "cell_type": "markdown",
   "source": [
    "## 6.2. Exportation des données nettoyées pour une utilisation ultérieure"
   ],
   "metadata": {
    "collapsed": false
   },
   "id": "884433dd05b5dcb3"
  },
  {
   "cell_type": "code",
   "execution_count": null,
   "id": "27c04629388d0d",
   "metadata": {
    "collapsed": false,
    "is_executing": true
   },
   "outputs": [],
   "source": [
    "from datetime import datetime\n",
    "\n",
    "now = datetime.now()\n",
    "formatted_date = now.strftime(\"%Y%m%d_%H%M%S\")\n",
    "\n",
    "df.to_csv('./exports/cleaned_data'+formatted_date+'.csv', index=False)"
   ]
  }
 ],
 "metadata": {
  "kernelspec": {
   "display_name": "Python 3 (ipykernel)",
   "language": "python",
   "name": "python3"
  },
  "language_info": {
   "codemirror_mode": {
    "name": "ipython",
    "version": 3
   },
   "file_extension": ".py",
   "mimetype": "text/x-python",
   "name": "python",
   "nbconvert_exporter": "python",
   "pygments_lexer": "ipython3",
   "version": "3.10.9"
  }
 },
 "nbformat": 4,
 "nbformat_minor": 5
}
