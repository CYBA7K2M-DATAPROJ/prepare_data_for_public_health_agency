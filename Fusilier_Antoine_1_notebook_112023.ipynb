{
 "cells": [
  {
   "cell_type": "markdown",
   "id": "f8e86332530e445a",
   "metadata": {},
   "source": [
    "# Introduction \n",
    "\n",
    "## Présentation du contexte métier \n",
    "\n",
    "Avec l'essor des préoccupations alimentaires, tant en termes de santé que d'environnement, les consommateurs sont de plus en plus soucieux de connaître la provenance, la composition et l'impact de leurs achats alimentaires. Open Food Facts est une base de données collaborative sur les produits alimentaires du monde entier. Elle fournit des informations détaillées sur la composition nutritionnelle, les ingrédients, les allergènes, etc. Ces données sont essentielles pour de nombreuses parties prenantes :\n",
    "\n",
    "Consommateurs : cherchant à prendre des décisions d'achat éclairées.\n",
    "Entreprises : souhaitant améliorer leurs produits ou cibler des marchés spécifiques.\n",
    "Chercheurs : analysant les tendances alimentaires et leurs impacts sur la santé publique."
   ]
  },
  {
   "cell_type": "markdown",
   "id": "7182c828f36022cd",
   "metadata": {},
   "source": [
    "## Objectif de l'analyse"
   ]
  },
  {
   "cell_type": "markdown",
   "id": "110cf253577d0b13",
   "metadata": {},
   "source": [
    "1. Nettoyage des données : Étant une base de données collaborative, Open Food Facts peut contenir des erreurs, des doublons ou des informations manquantes. Notre premier objectif est de nettoyer et de préparer ces données pour une analyse approfondie.\n",
    "\n",
    "2. Caractérisation des produits : Analyser la composition nutritionnelle des produits, identifier les produits les plus sains et ceux qui pourraient présenter des risques pour la santé.\n",
    "\n",
    "3. Identification des tendances : Déceler des patterns ou des tendances parmi les produits, comme la prévalence d'ingrédients spécifiques ou les tendances nutritionnelles par pays ou par type de produit.\n",
    "\n",
    "4. Compliance RGPD : Même si nous travaillons avec des données sur des produits et non sur des individus, il est essentiel de veiller à ce que notre traitement des données soit conforme aux normes et régulations en vigueur."
   ]
  },
  {
   "cell_type": "markdown",
   "id": "f372d85d6e9f886c",
   "metadata": {},
   "source": [
    "# 1 Exploration initiale des données "
   ]
  },
  {
   "cell_type": "code",
   "execution_count": 52,
   "outputs": [
    {
     "name": "stdout",
     "output_type": "stream",
     "text": [
      "Requirement already satisfied: pycountry in c:\\users\\antoi\\anaconda3\\lib\\site-packages (22.3.5)\n",
      "Requirement already satisfied: setuptools in c:\\users\\antoi\\anaconda3\\lib\\site-packages (from pycountry) (65.6.3)\n",
      "Note: you may need to restart the kernel to use updated packages.\n"
     ]
    }
   ],
   "source": [
    "pip install pycountry"
   ],
   "metadata": {
    "collapsed": false,
    "ExecuteTime": {
     "end_time": "2023-11-20T14:24:45.443589300Z",
     "start_time": "2023-11-20T14:24:40.586269600Z"
    }
   },
   "id": "f0825504c5639612"
  },
  {
   "cell_type": "code",
   "execution_count": 53,
   "outputs": [
    {
     "name": "stdout",
     "output_type": "stream",
     "text": [
      "Requirement already satisfied: scikit-learn in c:\\users\\antoi\\anaconda3\\lib\\site-packages (1.2.1)\n",
      "Requirement already satisfied: joblib>=1.1.1 in c:\\users\\antoi\\anaconda3\\lib\\site-packages (from scikit-learn) (1.1.1)\n",
      "Requirement already satisfied: scipy>=1.3.2 in c:\\users\\antoi\\anaconda3\\lib\\site-packages (from scikit-learn) (1.10.0)\n",
      "Requirement already satisfied: numpy>=1.17.3 in c:\\users\\antoi\\anaconda3\\lib\\site-packages (from scikit-learn) (1.23.5)\n",
      "Requirement already satisfied: threadpoolctl>=2.0.0 in c:\\users\\antoi\\anaconda3\\lib\\site-packages (from scikit-learn) (2.2.0)\n"
     ]
    }
   ],
   "source": [
    "!pip install scikit-learn"
   ],
   "metadata": {
    "collapsed": false,
    "ExecuteTime": {
     "end_time": "2023-11-20T14:24:50.025724400Z",
     "start_time": "2023-11-20T14:24:45.440460400Z"
    }
   },
   "id": "4550a11cd773ff9b"
  },
  {
   "cell_type": "markdown",
   "id": "9dd5c79196c4c21a",
   "metadata": {},
   "source": [
    "## 1.1 Importation des bibliothèques nécessaires"
   ]
  },
  {
   "cell_type": "code",
   "execution_count": 2,
   "id": "da78f83ebb5b8ca1",
   "metadata": {
    "ExecuteTime": {
     "end_time": "2023-11-20T16:47:50.480352600Z",
     "start_time": "2023-11-20T16:47:49.781144300Z"
    }
   },
   "outputs": [],
   "source": [
    "import numpy as np\n",
    "import pandas as pd # Pandas librairy to get data from any sources, csv or others file type\n",
    "import matplotlib.pyplot as plt\n",
    "import seaborn as sns\n",
    "from sklearn.impute import KNNImputer\n",
    "from scipy import stats\n",
    "import pycountry"
   ]
  },
  {
   "cell_type": "markdown",
   "source": [
    "## 1.2 Paramétrages des methodes de bibliothèques (si nécessaire)\n",
    "\n",
    "- Aucun (pour l'instant)"
   ],
   "metadata": {
    "collapsed": false
   },
   "id": "14edb385a0aaabb0"
  },
  {
   "cell_type": "markdown",
   "id": "57a0a2b8166c8d59",
   "metadata": {},
   "source": [
    "## 1.3 Chargement des données \n",
    "Ici nous avons récupérer les données via le site d'Open Food Facts (https://static.openfoodfacts.org/) au format csv, que nous avons stocker dans le dossier associé \"Resources\"\n",
    "Instanciation dans la variable \"df\" pour dataframe\n",
    "___Attention le chargement des données est couteuse en ressources, assurez-vous d'avoir les ressources matérielles nécessaire pour exécuter la lecture de 8go de données (3 à 10 millions de lignes)___"
   ]
  },
  {
   "cell_type": "code",
   "execution_count": 3,
   "id": "e359dd36e04ecebd",
   "metadata": {
    "ExecuteTime": {
     "end_time": "2023-11-20T16:48:17.478851800Z",
     "start_time": "2023-11-20T16:47:53.934445100Z"
    }
   },
   "outputs": [
    {
     "name": "stderr",
     "output_type": "stream",
     "text": [
      "C:\\Users\\antoi\\AppData\\Local\\Temp\\ipykernel_4964\\4023167406.py:1: FutureWarning: The error_bad_lines argument has been deprecated and will be removed in a future version. Use on_bad_lines in the future.\n",
      "\n",
      "\n",
      "  df = pd.read_csv('./resources/fr.openfoodfacts.org.products.csv', sep='\\t', error_bad_lines=False, warn_bad_lines=True, engine='python')\n",
      "C:\\Users\\antoi\\AppData\\Local\\Temp\\ipykernel_4964\\4023167406.py:1: FutureWarning: The warn_bad_lines argument has been deprecated and will be removed in a future version. Use on_bad_lines in the future.\n",
      "\n",
      "\n",
      "  df = pd.read_csv('./resources/fr.openfoodfacts.org.products.csv', sep='\\t', error_bad_lines=False, warn_bad_lines=True, engine='python')\n",
      "Skipping line 35984: '\t' expected after '\"'\n",
      "Skipping line 153938: '\t' expected after '\"'\n",
      "Skipping line 153939: '\t' expected after '\"'\n",
      "Skipping line 153940: '\t' expected after '\"'\n",
      "Skipping line 169607: '\t' expected after '\"'\n"
     ]
    }
   ],
   "source": [
    "df = pd.read_csv('./resources/fr.openfoodfacts.org.products.csv', sep='\\t', error_bad_lines=False, warn_bad_lines=True, engine='python')"
   ]
  },
  {
   "cell_type": "markdown",
   "id": "7788cbac9201a283",
   "metadata": {},
   "source": [
    "## 1.4 Aperçu des premières lignes, types de données, statistiques descriptives"
   ]
  },
  {
   "cell_type": "markdown",
   "id": "18bee7d5fcc8678a",
   "metadata": {},
   "source": [
    "... premières lignes"
   ]
  },
  {
   "cell_type": "code",
   "execution_count": 4,
   "outputs": [
    {
     "data": {
      "text/plain": "(320767, 162)"
     },
     "execution_count": 4,
     "metadata": {},
     "output_type": "execute_result"
    }
   ],
   "source": [
    "df.shape"
   ],
   "metadata": {
    "collapsed": false,
    "ExecuteTime": {
     "end_time": "2023-11-20T16:48:29.898303900Z",
     "start_time": "2023-11-20T16:48:29.878272500Z"
    }
   },
   "id": "4b3719b70d33dd65"
  },
  {
   "cell_type": "code",
   "execution_count": 5,
   "id": "c5d37b0722f0415c",
   "metadata": {
    "ExecuteTime": {
     "end_time": "2023-11-20T16:48:37.157298100Z",
     "start_time": "2023-11-20T16:48:37.107270200Z"
    }
   },
   "outputs": [
    {
     "data": {
      "text/plain": "            code                                                url  \\\n0  0000000003087  http://world-fr.openfoodfacts.org/produit/0000...   \n1  0000000004530  http://world-fr.openfoodfacts.org/produit/0000...   \n2  0000000004559  http://world-fr.openfoodfacts.org/produit/0000...   \n3  0000000016087  http://world-fr.openfoodfacts.org/produit/0000...   \n4  0000000016094  http://world-fr.openfoodfacts.org/produit/0000...   \n\n                      creator   created_t      created_datetime  \\\n0  openfoodfacts-contributors  1474103866  2016-09-17T09:17:46Z   \n1             usda-ndb-import  1489069957  2017-03-09T14:32:37Z   \n2             usda-ndb-import  1489069957  2017-03-09T14:32:37Z   \n3             usda-ndb-import  1489055731  2017-03-09T10:35:31Z   \n4             usda-ndb-import  1489055653  2017-03-09T10:34:13Z   \n\n  last_modified_t last_modified_datetime                    product_name  \\\n0      1474103893   2016-09-17T09:18:13Z              Farine de blé noir   \n1      1489069957   2017-03-09T14:32:37Z  Banana Chips Sweetened (Whole)   \n2      1489069957   2017-03-09T14:32:37Z                         Peanuts   \n3      1489055731   2017-03-09T10:35:31Z          Organic Salted Nut Mix   \n4      1489055653   2017-03-09T10:34:13Z                 Organic Polenta   \n\n  generic_name quantity  ... ph_100g fruits-vegetables-nuts_100g  \\\n0          NaN      1kg  ...     NaN                         NaN   \n1          NaN      NaN  ...     NaN                         NaN   \n2          NaN      NaN  ...     NaN                         NaN   \n3          NaN      NaN  ...     NaN                         NaN   \n4          NaN      NaN  ...     NaN                         NaN   \n\n  collagen-meat-protein-ratio_100g cocoa_100g chlorophyl_100g  \\\n0                              NaN        NaN             NaN   \n1                              NaN        NaN             NaN   \n2                              NaN        NaN             NaN   \n3                              NaN        NaN             NaN   \n4                              NaN        NaN             NaN   \n\n  carbon-footprint_100g nutrition-score-fr_100g nutrition-score-uk_100g  \\\n0                   NaN                     NaN                     NaN   \n1                   NaN                    14.0                    14.0   \n2                   NaN                     0.0                     0.0   \n3                   NaN                    12.0                    12.0   \n4                   NaN                     NaN                     NaN   \n\n  glycemic-index_100g water-hardness_100g  \n0                 NaN                 NaN  \n1                 NaN                 NaN  \n2                 NaN                 NaN  \n3                 NaN                 NaN  \n4                 NaN                 NaN  \n\n[5 rows x 162 columns]",
      "text/html": "<div>\n<style scoped>\n    .dataframe tbody tr th:only-of-type {\n        vertical-align: middle;\n    }\n\n    .dataframe tbody tr th {\n        vertical-align: top;\n    }\n\n    .dataframe thead th {\n        text-align: right;\n    }\n</style>\n<table border=\"1\" class=\"dataframe\">\n  <thead>\n    <tr style=\"text-align: right;\">\n      <th></th>\n      <th>code</th>\n      <th>url</th>\n      <th>creator</th>\n      <th>created_t</th>\n      <th>created_datetime</th>\n      <th>last_modified_t</th>\n      <th>last_modified_datetime</th>\n      <th>product_name</th>\n      <th>generic_name</th>\n      <th>quantity</th>\n      <th>...</th>\n      <th>ph_100g</th>\n      <th>fruits-vegetables-nuts_100g</th>\n      <th>collagen-meat-protein-ratio_100g</th>\n      <th>cocoa_100g</th>\n      <th>chlorophyl_100g</th>\n      <th>carbon-footprint_100g</th>\n      <th>nutrition-score-fr_100g</th>\n      <th>nutrition-score-uk_100g</th>\n      <th>glycemic-index_100g</th>\n      <th>water-hardness_100g</th>\n    </tr>\n  </thead>\n  <tbody>\n    <tr>\n      <th>0</th>\n      <td>0000000003087</td>\n      <td>http://world-fr.openfoodfacts.org/produit/0000...</td>\n      <td>openfoodfacts-contributors</td>\n      <td>1474103866</td>\n      <td>2016-09-17T09:17:46Z</td>\n      <td>1474103893</td>\n      <td>2016-09-17T09:18:13Z</td>\n      <td>Farine de blé noir</td>\n      <td>NaN</td>\n      <td>1kg</td>\n      <td>...</td>\n      <td>NaN</td>\n      <td>NaN</td>\n      <td>NaN</td>\n      <td>NaN</td>\n      <td>NaN</td>\n      <td>NaN</td>\n      <td>NaN</td>\n      <td>NaN</td>\n      <td>NaN</td>\n      <td>NaN</td>\n    </tr>\n    <tr>\n      <th>1</th>\n      <td>0000000004530</td>\n      <td>http://world-fr.openfoodfacts.org/produit/0000...</td>\n      <td>usda-ndb-import</td>\n      <td>1489069957</td>\n      <td>2017-03-09T14:32:37Z</td>\n      <td>1489069957</td>\n      <td>2017-03-09T14:32:37Z</td>\n      <td>Banana Chips Sweetened (Whole)</td>\n      <td>NaN</td>\n      <td>NaN</td>\n      <td>...</td>\n      <td>NaN</td>\n      <td>NaN</td>\n      <td>NaN</td>\n      <td>NaN</td>\n      <td>NaN</td>\n      <td>NaN</td>\n      <td>14.0</td>\n      <td>14.0</td>\n      <td>NaN</td>\n      <td>NaN</td>\n    </tr>\n    <tr>\n      <th>2</th>\n      <td>0000000004559</td>\n      <td>http://world-fr.openfoodfacts.org/produit/0000...</td>\n      <td>usda-ndb-import</td>\n      <td>1489069957</td>\n      <td>2017-03-09T14:32:37Z</td>\n      <td>1489069957</td>\n      <td>2017-03-09T14:32:37Z</td>\n      <td>Peanuts</td>\n      <td>NaN</td>\n      <td>NaN</td>\n      <td>...</td>\n      <td>NaN</td>\n      <td>NaN</td>\n      <td>NaN</td>\n      <td>NaN</td>\n      <td>NaN</td>\n      <td>NaN</td>\n      <td>0.0</td>\n      <td>0.0</td>\n      <td>NaN</td>\n      <td>NaN</td>\n    </tr>\n    <tr>\n      <th>3</th>\n      <td>0000000016087</td>\n      <td>http://world-fr.openfoodfacts.org/produit/0000...</td>\n      <td>usda-ndb-import</td>\n      <td>1489055731</td>\n      <td>2017-03-09T10:35:31Z</td>\n      <td>1489055731</td>\n      <td>2017-03-09T10:35:31Z</td>\n      <td>Organic Salted Nut Mix</td>\n      <td>NaN</td>\n      <td>NaN</td>\n      <td>...</td>\n      <td>NaN</td>\n      <td>NaN</td>\n      <td>NaN</td>\n      <td>NaN</td>\n      <td>NaN</td>\n      <td>NaN</td>\n      <td>12.0</td>\n      <td>12.0</td>\n      <td>NaN</td>\n      <td>NaN</td>\n    </tr>\n    <tr>\n      <th>4</th>\n      <td>0000000016094</td>\n      <td>http://world-fr.openfoodfacts.org/produit/0000...</td>\n      <td>usda-ndb-import</td>\n      <td>1489055653</td>\n      <td>2017-03-09T10:34:13Z</td>\n      <td>1489055653</td>\n      <td>2017-03-09T10:34:13Z</td>\n      <td>Organic Polenta</td>\n      <td>NaN</td>\n      <td>NaN</td>\n      <td>...</td>\n      <td>NaN</td>\n      <td>NaN</td>\n      <td>NaN</td>\n      <td>NaN</td>\n      <td>NaN</td>\n      <td>NaN</td>\n      <td>NaN</td>\n      <td>NaN</td>\n      <td>NaN</td>\n      <td>NaN</td>\n    </tr>\n  </tbody>\n</table>\n<p>5 rows × 162 columns</p>\n</div>"
     },
     "execution_count": 5,
     "metadata": {},
     "output_type": "execute_result"
    }
   ],
   "source": [
    "df.head()"
   ]
  },
  {
   "cell_type": "markdown",
   "id": "fd27a3bddb4b23d",
   "metadata": {},
   "source": [
    "... types de données"
   ]
  },
  {
   "cell_type": "code",
   "execution_count": 6,
   "id": "d420114e6463ed69",
   "metadata": {
    "ExecuteTime": {
     "end_time": "2023-11-20T16:48:41.538564400Z",
     "start_time": "2023-11-20T16:48:41.439177600Z"
    }
   },
   "outputs": [
    {
     "name": "stdout",
     "output_type": "stream",
     "text": [
      "<class 'pandas.core.frame.DataFrame'>\n",
      "RangeIndex: 320767 entries, 0 to 320766\n",
      "Data columns (total 162 columns):\n",
      " #    Column                                      Dtype  \n",
      "---   ------                                      -----  \n",
      " 0    code                                        object \n",
      " 1    url                                         object \n",
      " 2    creator                                     object \n",
      " 3    created_t                                   object \n",
      " 4    created_datetime                            object \n",
      " 5    last_modified_t                             object \n",
      " 6    last_modified_datetime                      object \n",
      " 7    product_name                                object \n",
      " 8    generic_name                                object \n",
      " 9    quantity                                    object \n",
      " 10   packaging                                   object \n",
      " 11   packaging_tags                              object \n",
      " 12   brands                                      object \n",
      " 13   brands_tags                                 object \n",
      " 14   categories                                  object \n",
      " 15   categories_tags                             object \n",
      " 16   categories_fr                               object \n",
      " 17   origins                                     object \n",
      " 18   origins_tags                                object \n",
      " 19   manufacturing_places                        object \n",
      " 20   manufacturing_places_tags                   object \n",
      " 21   labels                                      object \n",
      " 22   labels_tags                                 object \n",
      " 23   labels_fr                                   object \n",
      " 24   emb_codes                                   object \n",
      " 25   emb_codes_tags                              object \n",
      " 26   first_packaging_code_geo                    object \n",
      " 27   cities                                      object \n",
      " 28   cities_tags                                 object \n",
      " 29   purchase_places                             object \n",
      " 30   stores                                      object \n",
      " 31   countries                                   object \n",
      " 32   countries_tags                              object \n",
      " 33   countries_fr                                object \n",
      " 34   ingredients_text                            object \n",
      " 35   allergens                                   object \n",
      " 36   allergens_fr                                object \n",
      " 37   traces                                      object \n",
      " 38   traces_tags                                 object \n",
      " 39   traces_fr                                   object \n",
      " 40   serving_size                                object \n",
      " 41   no_nutriments                               float64\n",
      " 42   additives_n                                 float64\n",
      " 43   additives                                   object \n",
      " 44   additives_tags                              object \n",
      " 45   additives_fr                                object \n",
      " 46   ingredients_from_palm_oil_n                 float64\n",
      " 47   ingredients_from_palm_oil                   float64\n",
      " 48   ingredients_from_palm_oil_tags              object \n",
      " 49   ingredients_that_may_be_from_palm_oil_n     float64\n",
      " 50   ingredients_that_may_be_from_palm_oil       float64\n",
      " 51   ingredients_that_may_be_from_palm_oil_tags  object \n",
      " 52   nutrition_grade_uk                          float64\n",
      " 53   nutrition_grade_fr                          object \n",
      " 54   pnns_groups_1                               object \n",
      " 55   pnns_groups_2                               object \n",
      " 56   states                                      object \n",
      " 57   states_tags                                 object \n",
      " 58   states_fr                                   object \n",
      " 59   main_category                               object \n",
      " 60   main_category_fr                            object \n",
      " 61   image_url                                   object \n",
      " 62   image_small_url                             object \n",
      " 63   energy_100g                                 float64\n",
      " 64   energy-from-fat_100g                        float64\n",
      " 65   fat_100g                                    float64\n",
      " 66   saturated-fat_100g                          float64\n",
      " 67   butyric-acid_100g                           float64\n",
      " 68   caproic-acid_100g                           float64\n",
      " 69   caprylic-acid_100g                          float64\n",
      " 70   capric-acid_100g                            float64\n",
      " 71   lauric-acid_100g                            float64\n",
      " 72   myristic-acid_100g                          float64\n",
      " 73   palmitic-acid_100g                          float64\n",
      " 74   stearic-acid_100g                           float64\n",
      " 75   arachidic-acid_100g                         float64\n",
      " 76   behenic-acid_100g                           float64\n",
      " 77   lignoceric-acid_100g                        float64\n",
      " 78   cerotic-acid_100g                           float64\n",
      " 79   montanic-acid_100g                          float64\n",
      " 80   melissic-acid_100g                          float64\n",
      " 81   monounsaturated-fat_100g                    float64\n",
      " 82   polyunsaturated-fat_100g                    float64\n",
      " 83   omega-3-fat_100g                            float64\n",
      " 84   alpha-linolenic-acid_100g                   float64\n",
      " 85   eicosapentaenoic-acid_100g                  float64\n",
      " 86   docosahexaenoic-acid_100g                   float64\n",
      " 87   omega-6-fat_100g                            float64\n",
      " 88   linoleic-acid_100g                          float64\n",
      " 89   arachidonic-acid_100g                       float64\n",
      " 90   gamma-linolenic-acid_100g                   float64\n",
      " 91   dihomo-gamma-linolenic-acid_100g            float64\n",
      " 92   omega-9-fat_100g                            float64\n",
      " 93   oleic-acid_100g                             float64\n",
      " 94   elaidic-acid_100g                           float64\n",
      " 95   gondoic-acid_100g                           float64\n",
      " 96   mead-acid_100g                              float64\n",
      " 97   erucic-acid_100g                            float64\n",
      " 98   nervonic-acid_100g                          float64\n",
      " 99   trans-fat_100g                              float64\n",
      " 100  cholesterol_100g                            float64\n",
      " 101  carbohydrates_100g                          float64\n",
      " 102  sugars_100g                                 float64\n",
      " 103  sucrose_100g                                float64\n",
      " 104  glucose_100g                                float64\n",
      " 105  fructose_100g                               float64\n",
      " 106  lactose_100g                                float64\n",
      " 107  maltose_100g                                float64\n",
      " 108  maltodextrins_100g                          float64\n",
      " 109  starch_100g                                 float64\n",
      " 110  polyols_100g                                float64\n",
      " 111  fiber_100g                                  float64\n",
      " 112  proteins_100g                               float64\n",
      " 113  casein_100g                                 float64\n",
      " 114  serum-proteins_100g                         float64\n",
      " 115  nucleotides_100g                            float64\n",
      " 116  salt_100g                                   float64\n",
      " 117  sodium_100g                                 float64\n",
      " 118  alcohol_100g                                float64\n",
      " 119  vitamin-a_100g                              float64\n",
      " 120  beta-carotene_100g                          float64\n",
      " 121  vitamin-d_100g                              float64\n",
      " 122  vitamin-e_100g                              float64\n",
      " 123  vitamin-k_100g                              float64\n",
      " 124  vitamin-c_100g                              float64\n",
      " 125  vitamin-b1_100g                             float64\n",
      " 126  vitamin-b2_100g                             float64\n",
      " 127  vitamin-pp_100g                             float64\n",
      " 128  vitamin-b6_100g                             float64\n",
      " 129  vitamin-b9_100g                             float64\n",
      " 130  folates_100g                                float64\n",
      " 131  vitamin-b12_100g                            float64\n",
      " 132  biotin_100g                                 float64\n",
      " 133  pantothenic-acid_100g                       float64\n",
      " 134  silica_100g                                 float64\n",
      " 135  bicarbonate_100g                            float64\n",
      " 136  potassium_100g                              float64\n",
      " 137  chloride_100g                               float64\n",
      " 138  calcium_100g                                float64\n",
      " 139  phosphorus_100g                             float64\n",
      " 140  iron_100g                                   float64\n",
      " 141  magnesium_100g                              float64\n",
      " 142  zinc_100g                                   float64\n",
      " 143  copper_100g                                 float64\n",
      " 144  manganese_100g                              float64\n",
      " 145  fluoride_100g                               float64\n",
      " 146  selenium_100g                               float64\n",
      " 147  chromium_100g                               float64\n",
      " 148  molybdenum_100g                             float64\n",
      " 149  iodine_100g                                 float64\n",
      " 150  caffeine_100g                               float64\n",
      " 151  taurine_100g                                float64\n",
      " 152  ph_100g                                     float64\n",
      " 153  fruits-vegetables-nuts_100g                 float64\n",
      " 154  collagen-meat-protein-ratio_100g            float64\n",
      " 155  cocoa_100g                                  float64\n",
      " 156  chlorophyl_100g                             float64\n",
      " 157  carbon-footprint_100g                       float64\n",
      " 158  nutrition-score-fr_100g                     float64\n",
      " 159  nutrition-score-uk_100g                     float64\n",
      " 160  glycemic-index_100g                         float64\n",
      " 161  water-hardness_100g                         float64\n",
      "dtypes: float64(106), object(56)\n",
      "memory usage: 396.5+ MB\n"
     ]
    }
   ],
   "source": [
    "df.info(5)"
   ]
  },
  {
   "cell_type": "markdown",
   "id": "e0873ef743dc0ab9",
   "metadata": {},
   "source": [
    "... statisitiques descriptives"
   ]
  },
  {
   "cell_type": "code",
   "execution_count": 14,
   "id": "89d7ed23454af081",
   "metadata": {
    "ExecuteTime": {
     "end_time": "2023-11-20T13:02:02.615015900Z",
     "start_time": "2023-11-20T13:02:02.355005600Z"
    }
   },
   "outputs": [
    {
     "data": {
      "text/plain": "          created_t  last_modified_t  cities  allergens_fr  serving_quantity  \\\ncount  5.408300e+04     5.408300e+04     0.0           0.0      30237.000000   \nmean   1.576348e+09     1.625623e+09     NaN           NaN         85.650241   \nstd    7.000869e+07     4.797288e+07     NaN           NaN        279.353107   \nmin    1.335538e+09     1.437408e+09     NaN           NaN          0.000000   \n25%    1.489094e+09     1.587597e+09     NaN           NaN         28.000000   \n50%    1.587659e+09     1.625799e+09     NaN           NaN         41.000000   \n75%    1.642061e+09     1.670820e+09     NaN           NaN        113.000000   \nmax    1.698604e+09     1.698632e+09     NaN           NaN      35371.000000   \n\n        additives_n  additives  nutriscore_score    nova_group  \\\ncount  31518.000000        0.0      25250.000000  29588.000000   \nmean       2.821277        NaN          9.425069      3.500642   \nstd        3.538897        NaN          8.834973      0.948660   \nmin        0.000000        NaN        -14.000000      1.000000   \n25%        0.000000        NaN          1.000000      3.000000   \n50%        2.000000        NaN         11.000000      4.000000   \n75%        4.000000        NaN         16.000000      4.000000   \nmax       33.000000        NaN         39.000000      4.000000   \n\n       ecoscore_score  ...  nutrition-score-uk_100g  glycemic-index_100g  \\\ncount     9739.000000  ...                      0.0                  0.0   \nmean        47.703768  ...                      NaN                  NaN   \nstd         21.992349  ...                      NaN                  NaN   \nmin        -20.000000  ...                      NaN                  NaN   \n25%         34.000000  ...                      NaN                  NaN   \n50%         43.000000  ...                      NaN                  NaN   \n75%         68.000000  ...                      NaN                  NaN   \nmax        125.000000  ...                      NaN                  NaN   \n\n       water-hardness_100g  choline_100g  phylloquinone_100g  \\\ncount                  0.0           0.0          132.000000   \nmean                   NaN           NaN            0.000148   \nstd                    NaN           NaN            0.000938   \nmin                    NaN           NaN            0.000000   \n25%                    NaN           NaN            0.000006   \n50%                    NaN           NaN            0.000017   \n75%                    NaN           NaN            0.000070   \nmax                    NaN           NaN            0.010738   \n\n       beta-glucan_100g  inositol_100g  carnitine_100g  sulphate_100g  \\\ncount               0.0            0.0             0.0       1.000000   \nmean                NaN            NaN             NaN       0.000031   \nstd                 NaN            NaN             NaN            NaN   \nmin                 NaN            NaN             NaN       0.000031   \n25%                 NaN            NaN             NaN       0.000031   \n50%                 NaN            NaN             NaN       0.000031   \n75%                 NaN            NaN             NaN       0.000031   \nmax                 NaN            NaN             NaN       0.000031   \n\n       nitrate_100g  \ncount      1.000000  \nmean       0.000003  \nstd             NaN  \nmin        0.000003  \n25%        0.000003  \n50%        0.000003  \n75%        0.000003  \nmax        0.000003  \n\n[8 rows x 132 columns]",
      "text/html": "<div>\n<style scoped>\n    .dataframe tbody tr th:only-of-type {\n        vertical-align: middle;\n    }\n\n    .dataframe tbody tr th {\n        vertical-align: top;\n    }\n\n    .dataframe thead th {\n        text-align: right;\n    }\n</style>\n<table border=\"1\" class=\"dataframe\">\n  <thead>\n    <tr style=\"text-align: right;\">\n      <th></th>\n      <th>created_t</th>\n      <th>last_modified_t</th>\n      <th>cities</th>\n      <th>allergens_fr</th>\n      <th>serving_quantity</th>\n      <th>additives_n</th>\n      <th>additives</th>\n      <th>nutriscore_score</th>\n      <th>nova_group</th>\n      <th>ecoscore_score</th>\n      <th>...</th>\n      <th>nutrition-score-uk_100g</th>\n      <th>glycemic-index_100g</th>\n      <th>water-hardness_100g</th>\n      <th>choline_100g</th>\n      <th>phylloquinone_100g</th>\n      <th>beta-glucan_100g</th>\n      <th>inositol_100g</th>\n      <th>carnitine_100g</th>\n      <th>sulphate_100g</th>\n      <th>nitrate_100g</th>\n    </tr>\n  </thead>\n  <tbody>\n    <tr>\n      <th>count</th>\n      <td>5.408300e+04</td>\n      <td>5.408300e+04</td>\n      <td>0.0</td>\n      <td>0.0</td>\n      <td>30237.000000</td>\n      <td>31518.000000</td>\n      <td>0.0</td>\n      <td>25250.000000</td>\n      <td>29588.000000</td>\n      <td>9739.000000</td>\n      <td>...</td>\n      <td>0.0</td>\n      <td>0.0</td>\n      <td>0.0</td>\n      <td>0.0</td>\n      <td>132.000000</td>\n      <td>0.0</td>\n      <td>0.0</td>\n      <td>0.0</td>\n      <td>1.000000</td>\n      <td>1.000000</td>\n    </tr>\n    <tr>\n      <th>mean</th>\n      <td>1.576348e+09</td>\n      <td>1.625623e+09</td>\n      <td>NaN</td>\n      <td>NaN</td>\n      <td>85.650241</td>\n      <td>2.821277</td>\n      <td>NaN</td>\n      <td>9.425069</td>\n      <td>3.500642</td>\n      <td>47.703768</td>\n      <td>...</td>\n      <td>NaN</td>\n      <td>NaN</td>\n      <td>NaN</td>\n      <td>NaN</td>\n      <td>0.000148</td>\n      <td>NaN</td>\n      <td>NaN</td>\n      <td>NaN</td>\n      <td>0.000031</td>\n      <td>0.000003</td>\n    </tr>\n    <tr>\n      <th>std</th>\n      <td>7.000869e+07</td>\n      <td>4.797288e+07</td>\n      <td>NaN</td>\n      <td>NaN</td>\n      <td>279.353107</td>\n      <td>3.538897</td>\n      <td>NaN</td>\n      <td>8.834973</td>\n      <td>0.948660</td>\n      <td>21.992349</td>\n      <td>...</td>\n      <td>NaN</td>\n      <td>NaN</td>\n      <td>NaN</td>\n      <td>NaN</td>\n      <td>0.000938</td>\n      <td>NaN</td>\n      <td>NaN</td>\n      <td>NaN</td>\n      <td>NaN</td>\n      <td>NaN</td>\n    </tr>\n    <tr>\n      <th>min</th>\n      <td>1.335538e+09</td>\n      <td>1.437408e+09</td>\n      <td>NaN</td>\n      <td>NaN</td>\n      <td>0.000000</td>\n      <td>0.000000</td>\n      <td>NaN</td>\n      <td>-14.000000</td>\n      <td>1.000000</td>\n      <td>-20.000000</td>\n      <td>...</td>\n      <td>NaN</td>\n      <td>NaN</td>\n      <td>NaN</td>\n      <td>NaN</td>\n      <td>0.000000</td>\n      <td>NaN</td>\n      <td>NaN</td>\n      <td>NaN</td>\n      <td>0.000031</td>\n      <td>0.000003</td>\n    </tr>\n    <tr>\n      <th>25%</th>\n      <td>1.489094e+09</td>\n      <td>1.587597e+09</td>\n      <td>NaN</td>\n      <td>NaN</td>\n      <td>28.000000</td>\n      <td>0.000000</td>\n      <td>NaN</td>\n      <td>1.000000</td>\n      <td>3.000000</td>\n      <td>34.000000</td>\n      <td>...</td>\n      <td>NaN</td>\n      <td>NaN</td>\n      <td>NaN</td>\n      <td>NaN</td>\n      <td>0.000006</td>\n      <td>NaN</td>\n      <td>NaN</td>\n      <td>NaN</td>\n      <td>0.000031</td>\n      <td>0.000003</td>\n    </tr>\n    <tr>\n      <th>50%</th>\n      <td>1.587659e+09</td>\n      <td>1.625799e+09</td>\n      <td>NaN</td>\n      <td>NaN</td>\n      <td>41.000000</td>\n      <td>2.000000</td>\n      <td>NaN</td>\n      <td>11.000000</td>\n      <td>4.000000</td>\n      <td>43.000000</td>\n      <td>...</td>\n      <td>NaN</td>\n      <td>NaN</td>\n      <td>NaN</td>\n      <td>NaN</td>\n      <td>0.000017</td>\n      <td>NaN</td>\n      <td>NaN</td>\n      <td>NaN</td>\n      <td>0.000031</td>\n      <td>0.000003</td>\n    </tr>\n    <tr>\n      <th>75%</th>\n      <td>1.642061e+09</td>\n      <td>1.670820e+09</td>\n      <td>NaN</td>\n      <td>NaN</td>\n      <td>113.000000</td>\n      <td>4.000000</td>\n      <td>NaN</td>\n      <td>16.000000</td>\n      <td>4.000000</td>\n      <td>68.000000</td>\n      <td>...</td>\n      <td>NaN</td>\n      <td>NaN</td>\n      <td>NaN</td>\n      <td>NaN</td>\n      <td>0.000070</td>\n      <td>NaN</td>\n      <td>NaN</td>\n      <td>NaN</td>\n      <td>0.000031</td>\n      <td>0.000003</td>\n    </tr>\n    <tr>\n      <th>max</th>\n      <td>1.698604e+09</td>\n      <td>1.698632e+09</td>\n      <td>NaN</td>\n      <td>NaN</td>\n      <td>35371.000000</td>\n      <td>33.000000</td>\n      <td>NaN</td>\n      <td>39.000000</td>\n      <td>4.000000</td>\n      <td>125.000000</td>\n      <td>...</td>\n      <td>NaN</td>\n      <td>NaN</td>\n      <td>NaN</td>\n      <td>NaN</td>\n      <td>0.010738</td>\n      <td>NaN</td>\n      <td>NaN</td>\n      <td>NaN</td>\n      <td>0.000031</td>\n      <td>0.000003</td>\n    </tr>\n  </tbody>\n</table>\n<p>8 rows × 132 columns</p>\n</div>"
     },
     "execution_count": 14,
     "metadata": {},
     "output_type": "execute_result"
    }
   ],
   "source": [
    "df.describe()"
   ]
  },
  {
   "cell_type": "code",
   "execution_count": 15,
   "id": "8d64ffb9c30c4538",
   "metadata": {
    "ExecuteTime": {
     "end_time": "2023-11-20T13:02:03.628060600Z",
     "start_time": "2023-11-20T13:02:03.594092500Z"
    }
   },
   "outputs": [
    {
     "name": "stdout",
     "output_type": "stream",
     "text": [
      "<class 'pandas.core.frame.DataFrame'>\n",
      "RangeIndex: 54083 entries, 0 to 54082\n",
      "Data columns (total 203 columns):\n",
      " #    Column                                                 Dtype  \n",
      "---   ------                                                 -----  \n",
      " 0    code                                                   object \n",
      " 1    url                                                    object \n",
      " 2    creator                                                object \n",
      " 3    created_t                                              int64  \n",
      " 4    created_datetime                                       object \n",
      " 5    last_modified_t                                        int64  \n",
      " 6    last_modified_datetime                                 object \n",
      " 7    last_modified_by                                       object \n",
      " 8    product_name                                           object \n",
      " 9    abbreviated_product_name                               object \n",
      " 10   generic_name                                           object \n",
      " 11   quantity                                               object \n",
      " 12   packaging                                              object \n",
      " 13   packaging_tags                                         object \n",
      " 14   packaging_fr                                           object \n",
      " 15   packaging_text                                         object \n",
      " 16   brands                                                 object \n",
      " 17   brands_tags                                            object \n",
      " 18   categories                                             object \n",
      " 19   categories_tags                                        object \n",
      " 20   categories_fr                                          object \n",
      " 21   origins                                                object \n",
      " 22   origins_tags                                           object \n",
      " 23   origins_fr                                             object \n",
      " 24   manufacturing_places                                   object \n",
      " 25   manufacturing_places_tags                              object \n",
      " 26   labels                                                 object \n",
      " 27   labels_tags                                            object \n",
      " 28   labels_fr                                              object \n",
      " 29   emb_codes                                              object \n",
      " 30   emb_codes_tags                                         object \n",
      " 31   first_packaging_code_geo                               object \n",
      " 32   cities                                                 float64\n",
      " 33   cities_tags                                            object \n",
      " 34   purchase_places                                        object \n",
      " 35   stores                                                 object \n",
      " 36   countries                                              object \n",
      " 37   countries_tags                                         object \n",
      " 38   countries_fr                                           object \n",
      " 39   ingredients_text                                       object \n",
      " 40   ingredients_tags                                       object \n",
      " 41   ingredients_analysis_tags                              object \n",
      " 42   allergens                                              object \n",
      " 43   allergens_fr                                           float64\n",
      " 44   traces                                                 object \n",
      " 45   traces_tags                                            object \n",
      " 46   traces_fr                                              object \n",
      " 47   serving_size                                           object \n",
      " 48   serving_quantity                                       float64\n",
      " 49   no_nutrition_data                                      object \n",
      " 50   additives_n                                            float64\n",
      " 51   additives                                              float64\n",
      " 52   additives_tags                                         object \n",
      " 53   additives_fr                                           object \n",
      " 54   nutriscore_score                                       float64\n",
      " 55   nutriscore_grade                                       object \n",
      " 56   nova_group                                             float64\n",
      " 57   pnns_groups_1                                          object \n",
      " 58   pnns_groups_2                                          object \n",
      " 59   food_groups                                            object \n",
      " 60   food_groups_tags                                       object \n",
      " 61   food_groups_fr                                         object \n",
      " 62   states                                                 object \n",
      " 63   states_tags                                            object \n",
      " 64   states_fr                                              object \n",
      " 65   brand_owner                                            object \n",
      " 66   ecoscore_score                                         float64\n",
      " 67   ecoscore_grade                                         object \n",
      " 68   nutrient_levels_tags                                   object \n",
      " 69   product_quantity                                       float64\n",
      " 70   owner                                                  object \n",
      " 71   data_quality_errors_tags                               object \n",
      " 72   unique_scans_n                                         float64\n",
      " 73   popularity_tags                                        object \n",
      " 74   completeness                                           float64\n",
      " 75   last_image_t                                           float64\n",
      " 76   last_image_datetime                                    object \n",
      " 77   main_category                                          object \n",
      " 78   main_category_fr                                       object \n",
      " 79   image_url                                              object \n",
      " 80   image_small_url                                        object \n",
      " 81   image_ingredients_url                                  object \n",
      " 82   image_ingredients_small_url                            object \n",
      " 83   image_nutrition_url                                    object \n",
      " 84   image_nutrition_small_url                              object \n",
      " 85   energy-kj_100g                                         float64\n",
      " 86   energy-kcal_100g                                       float64\n",
      " 87   energy_100g                                            float64\n",
      " 88   energy-from-fat_100g                                   float64\n",
      " 89   fat_100g                                               float64\n",
      " 90   saturated-fat_100g                                     float64\n",
      " 91   butyric-acid_100g                                      float64\n",
      " 92   caproic-acid_100g                                      float64\n",
      " 93   caprylic-acid_100g                                     float64\n",
      " 94   capric-acid_100g                                       float64\n",
      " 95   lauric-acid_100g                                       float64\n",
      " 96   myristic-acid_100g                                     float64\n",
      " 97   palmitic-acid_100g                                     float64\n",
      " 98   stearic-acid_100g                                      float64\n",
      " 99   arachidic-acid_100g                                    float64\n",
      " 100  behenic-acid_100g                                      float64\n",
      " 101  lignoceric-acid_100g                                   float64\n",
      " 102  cerotic-acid_100g                                      float64\n",
      " 103  montanic-acid_100g                                     float64\n",
      " 104  melissic-acid_100g                                     float64\n",
      " 105  unsaturated-fat_100g                                   float64\n",
      " 106  monounsaturated-fat_100g                               float64\n",
      " 107  polyunsaturated-fat_100g                               float64\n",
      " 108  omega-3-fat_100g                                       float64\n",
      " 109  alpha-linolenic-acid_100g                              float64\n",
      " 110  eicosapentaenoic-acid_100g                             float64\n",
      " 111  docosahexaenoic-acid_100g                              float64\n",
      " 112  omega-6-fat_100g                                       float64\n",
      " 113  linoleic-acid_100g                                     float64\n",
      " 114  arachidonic-acid_100g                                  float64\n",
      " 115  gamma-linolenic-acid_100g                              float64\n",
      " 116  dihomo-gamma-linolenic-acid_100g                       float64\n",
      " 117  omega-9-fat_100g                                       float64\n",
      " 118  oleic-acid_100g                                        float64\n",
      " 119  elaidic-acid_100g                                      float64\n",
      " 120  gondoic-acid_100g                                      float64\n",
      " 121  mead-acid_100g                                         float64\n",
      " 122  erucic-acid_100g                                       float64\n",
      " 123  nervonic-acid_100g                                     float64\n",
      " 124  trans-fat_100g                                         float64\n",
      " 125  cholesterol_100g                                       float64\n",
      " 126  carbohydrates_100g                                     float64\n",
      " 127  sugars_100g                                            float64\n",
      " 128  added-sugars_100g                                      float64\n",
      " 129  sucrose_100g                                           float64\n",
      " 130  glucose_100g                                           float64\n",
      " 131  fructose_100g                                          float64\n",
      " 132  lactose_100g                                           float64\n",
      " 133  maltose_100g                                           float64\n",
      " 134  maltodextrins_100g                                     float64\n",
      " 135  starch_100g                                            float64\n",
      " 136  polyols_100g                                           float64\n",
      " 137  erythritol_100g                                        float64\n",
      " 138  fiber_100g                                             float64\n",
      " 139  soluble-fiber_100g                                     float64\n",
      " 140  insoluble-fiber_100g                                   float64\n",
      " 141  proteins_100g                                          float64\n",
      " 142  casein_100g                                            float64\n",
      " 143  serum-proteins_100g                                    float64\n",
      " 144  nucleotides_100g                                       float64\n",
      " 145  salt_100g                                              float64\n",
      " 146  added-salt_100g                                        float64\n",
      " 147  sodium_100g                                            float64\n",
      " 148  alcohol_100g                                           float64\n",
      " 149  vitamin-a_100g                                         float64\n",
      " 150  beta-carotene_100g                                     float64\n",
      " 151  vitamin-d_100g                                         float64\n",
      " 152  vitamin-e_100g                                         float64\n",
      " 153  vitamin-k_100g                                         float64\n",
      " 154  vitamin-c_100g                                         float64\n",
      " 155  vitamin-b1_100g                                        float64\n",
      " 156  vitamin-b2_100g                                        float64\n",
      " 157  vitamin-pp_100g                                        float64\n",
      " 158  vitamin-b6_100g                                        float64\n",
      " 159  vitamin-b9_100g                                        float64\n",
      " 160  folates_100g                                           float64\n",
      " 161  vitamin-b12_100g                                       float64\n",
      " 162  biotin_100g                                            float64\n",
      " 163  pantothenic-acid_100g                                  float64\n",
      " 164  silica_100g                                            float64\n",
      " 165  bicarbonate_100g                                       float64\n",
      " 166  potassium_100g                                         float64\n",
      " 167  chloride_100g                                          float64\n",
      " 168  calcium_100g                                           float64\n",
      " 169  phosphorus_100g                                        float64\n",
      " 170  iron_100g                                              float64\n",
      " 171  magnesium_100g                                         float64\n",
      " 172  zinc_100g                                              float64\n",
      " 173  copper_100g                                            float64\n",
      " 174  manganese_100g                                         float64\n",
      " 175  fluoride_100g                                          float64\n",
      " 176  selenium_100g                                          float64\n",
      " 177  chromium_100g                                          float64\n",
      " 178  molybdenum_100g                                        float64\n",
      " 179  iodine_100g                                            float64\n",
      " 180  caffeine_100g                                          float64\n",
      " 181  taurine_100g                                           float64\n",
      " 182  ph_100g                                                float64\n",
      " 183  fruits-vegetables-nuts_100g                            float64\n",
      " 184  fruits-vegetables-nuts-dried_100g                      float64\n",
      " 185  fruits-vegetables-nuts-estimate_100g                   float64\n",
      " 186  fruits-vegetables-nuts-estimate-from-ingredients_100g  float64\n",
      " 187  collagen-meat-protein-ratio_100g                       float64\n",
      " 188  cocoa_100g                                             float64\n",
      " 189  chlorophyl_100g                                        float64\n",
      " 190  carbon-footprint_100g                                  float64\n",
      " 191  carbon-footprint-from-meat-or-fish_100g                float64\n",
      " 192  nutrition-score-fr_100g                                float64\n",
      " 193  nutrition-score-uk_100g                                float64\n",
      " 194  glycemic-index_100g                                    float64\n",
      " 195  water-hardness_100g                                    float64\n",
      " 196  choline_100g                                           float64\n",
      " 197  phylloquinone_100g                                     float64\n",
      " 198  beta-glucan_100g                                       float64\n",
      " 199  inositol_100g                                          float64\n",
      " 200  carnitine_100g                                         float64\n",
      " 201  sulphate_100g                                          float64\n",
      " 202  nitrate_100g                                           float64\n",
      "dtypes: float64(130), int64(2), object(71)\n",
      "memory usage: 83.8+ MB\n"
     ]
    }
   ],
   "source": [
    "df.info(4)"
   ]
  },
  {
   "cell_type": "markdown",
   "id": "485e611cd7fdbfdd",
   "metadata": {},
   "source": [
    "## 1.5 Autre affichage , section de colonnes et découpage"
   ]
  },
  {
   "cell_type": "markdown",
   "source": [
    "Dans la fonction ci-après nous division notre dataset en par les sections définis dans la documentation"
   ],
   "metadata": {
    "collapsed": false
   },
   "id": "bc63149b20068ed1"
  },
  {
   "cell_type": "code",
   "execution_count": 16,
   "id": "d493794b658a132d",
   "metadata": {
    "ExecuteTime": {
     "end_time": "2023-11-20T13:02:07.394883300Z",
     "start_time": "2023-11-20T13:02:07.338317200Z"
    }
   },
   "outputs": [
    {
     "name": "stdout",
     "output_type": "stream",
     "text": [
      "valid_columns :: ['code', 'url', 'creator', 'created_t', 'created_datetime', 'last_modified_t', 'product_name', 'generic_name', 'quantity']\n",
      "Section en cours : general_information\n",
      "valid_columns :: ['packaging', 'packaging_tags', 'brands', 'brands_tags', 'categories', 'categories_tags', 'categories_fr', 'origins', 'origins_tags', 'manufacturing_places', 'manufacturing_places_tags', 'labels', 'labels_tags', 'labels_fr', 'emb_codes', 'emb_codes_tags', 'first_packaging_code_geo', 'cities', 'cities_tags', 'purchase_places', 'stores', 'countries', 'countries_tags', 'countries_fr']\n",
      "Section en cours : tags\n",
      "valid_columns :: ['ingredients_text', 'traces', 'traces_tags']\n",
      "Section en cours : ingredients\n",
      "valid_columns :: ['serving_size', 'additives_n', 'additives', 'additives_tags', 'main_category', 'main_category_fr', 'image_url', 'image_small_url']\n",
      "Section en cours : misc_data\n",
      "valid_columns :: ['energy-kj_100g', 'energy-kcal_100g', 'energy_100g', 'fat_100g', 'saturated-fat_100g', 'butyric-acid_100g', 'caproic-acid_100g', 'caprylic-acid_100g', 'capric-acid_100g', 'lauric-acid_100g', 'myristic-acid_100g', 'palmitic-acid_100g', 'stearic-acid_100g', 'arachidic-acid_100g', 'behenic-acid_100g', 'lignoceric-acid_100g', 'cerotic-acid_100g', 'montanic-acid_100g', 'melissic-acid_100g', 'monounsaturated-fat_100g', 'polyunsaturated-fat_100g', 'omega-3-fat_100g', 'alpha-linolenic-acid_100g', 'eicosapentaenoic-acid_100g', 'docosahexaenoic-acid_100g', 'omega-6-fat_100g', 'linoleic-acid_100g', 'arachidonic-acid_100g', 'gamma-linolenic-acid_100g', 'dihomo-gamma-linolenic-acid_100g', 'omega-9-fat_100g', 'oleic-acid_100g', 'elaidic-acid_100g', 'gondoic-acid_100g', 'mead-acid_100g', 'erucic-acid_100g', 'nervonic-acid_100g', 'trans-fat_100g', 'cholesterol_100g', 'carbohydrates_100g', 'sugars_100g', 'sucrose_100g', 'glucose_100g', 'fructose_100g', 'lactose_100g', 'maltose_100g', 'maltodextrins_100g', 'starch_100g', 'polyols_100g', 'fiber_100g', 'proteins_100g', 'casein_100g', 'serum-proteins_100g', 'nucleotides_100g', 'sodium_100g', 'alcohol_100g', 'vitamin-a_100g', 'vitamin-d_100g', 'vitamin-e_100g', 'vitamin-k_100g', 'vitamin-c_100g', 'vitamin-b1_100g', 'vitamin-b2_100g', 'vitamin-pp_100g', 'vitamin-b6_100g', 'vitamin-b9_100g', 'vitamin-b12_100g', 'silica_100g', 'bicarbonate_100g', 'potassium_100g', 'chloride_100g', 'calcium_100g', 'phosphorus_100g', 'iron_100g', 'magnesium_100g', 'zinc_100g', 'copper_100g', 'manganese_100g', 'fluoride_100g', 'selenium_100g', 'chromium_100g', 'molybdenum_100g', 'iodine_100g', 'caffeine_100g', 'taurine_100g', 'ph_100g', 'fruits-vegetables-nuts_100g', 'carbon-footprint_100g', 'nutrition-score-fr_100g', 'nutrition-score-uk_100g']\n",
      "Section en cours : nutrition_facts\n"
     ]
    }
   ],
   "source": [
    "def extract_sections_from_description(file_path):\n",
    "    sections = {}\n",
    "    current_section = None\n",
    "\n",
    "    with open(file_path, 'r', encoding='utf-8') as file:\n",
    "        lines = file.readlines()\n",
    "\n",
    "    for line in lines:\n",
    "        if line.startswith(\"#\"):\n",
    "            current_section = line.replace(\"#\", \"\").strip().replace(\" \", \"_\").replace(\":\", \"\").replace(\".\", \"\").lower()\n",
    "            sections[current_section] = []\n",
    "        elif current_section and \":\" in line:\n",
    "            field_name = line.strip().split(\" : \")[0].lower()\n",
    "            sections[current_section].append(field_name)\n",
    "\n",
    "    return sections\n",
    "\n",
    "    print(sections)\n",
    "\n",
    "# Extraire les sections et descriptions\n",
    "desc_file_path = \"./resources/data-fields.txt\"\n",
    "sections = extract_sections_from_description(desc_file_path)\n",
    "\n",
    "# Associer les données aux descriptions et diviser par section\n",
    "section_data = {}\n",
    "for section, columns in sections.items():\n",
    "    # Condition pour éviter les champs manquants de la section Misc. data\n",
    "    # if section != \"misc. data\":\n",
    "    # Utiliser une approche basée sur les sous-chaînes pour correspondre aux colonnes\n",
    "    # valid_columns = [col for col in df.columns if any(field.lower() in col.lower() for field in columns)]\n",
    "    # print(f\"valid_columns :: {df.columns}\")\n",
    "    valid_columns = [col for col in df.columns if any(str(field) == str(col) for field in columns)]\n",
    "    print(f\"valid_columns :: {valid_columns}\")\n",
    "    # if valid_columns:\n",
    "        # section_data[section] = df[valid_columns]\n",
    "\n",
    "        # Création d'une variable pour chaque section\n",
    "    section_var_name = section.strip().replace(\" \", \"_\").replace(\":\", \"\").replace(\".\", \"\").lower()\n",
    "    globals()[section_var_name] = df[valid_columns]\n",
    "    print(f\"Section en cours : {section_var_name}\")\n",
    "    # print(globals()[section_var_name].head())\n",
    "\n",
    "# Affichage des sections et de leurs données\n",
    "for section, df_section in section_data.items():\n",
    "    print(f\"\\nSection: {section}\")\n",
    "    # print(df_section.head())"
   ]
  },
  {
   "cell_type": "markdown",
   "source": [
    "Nous pouvons appeler chaque section dans la variable global en donnant en clef le nom de la section désirée"
   ],
   "metadata": {
    "collapsed": false
   },
   "id": "9358479d2347cf46"
  },
  {
   "cell_type": "code",
   "execution_count": 17,
   "id": "7c20c7adc7d05195",
   "metadata": {
    "ExecuteTime": {
     "end_time": "2023-11-20T13:02:09.855070100Z",
     "start_time": "2023-11-20T13:02:09.819671700Z"
    }
   },
   "outputs": [
    {
     "data": {
      "text/plain": "   energy-kj_100g  energy-kcal_100g  energy_100g  fat_100g  \\\n0             NaN               NaN          NaN       NaN   \n1             NaN             165.0        690.0       2.0   \n2             NaN               NaN          NaN       1.4   \n3             NaN              57.0        238.0       0.2   \n4             NaN             375.0       1569.0       7.0   \n\n   saturated-fat_100g  butyric-acid_100g  caproic-acid_100g  \\\n0                 NaN                NaN                NaN   \n1                2.00                NaN                NaN   \n2                0.90                NaN                NaN   \n3                0.10                NaN                NaN   \n4                3.08                NaN                NaN   \n\n   caprylic-acid_100g  capric-acid_100g  lauric-acid_100g  ...  chromium_100g  \\\n0                 NaN               NaN               NaN  ...            NaN   \n1                 NaN               NaN               NaN  ...            NaN   \n2                 NaN               NaN               NaN  ...            NaN   \n3                 NaN               NaN               NaN  ...            NaN   \n4                 NaN               NaN               NaN  ...            NaN   \n\n   molybdenum_100g  iodine_100g  caffeine_100g  taurine_100g  ph_100g  \\\n0              NaN          NaN            NaN           NaN      NaN   \n1              NaN          NaN            NaN           NaN      NaN   \n2              NaN          NaN            NaN           NaN      NaN   \n3              NaN          NaN            NaN           NaN      NaN   \n4              NaN          NaN            NaN           NaN      NaN   \n\n   fruits-vegetables-nuts_100g  carbon-footprint_100g  \\\n0                          NaN                    NaN   \n1                          NaN                    NaN   \n2                          NaN                    NaN   \n3                          NaN                    NaN   \n4                          NaN                    NaN   \n\n   nutrition-score-fr_100g  nutrition-score-uk_100g  \n0                      NaN                      NaN  \n1                      NaN                      NaN  \n2                      NaN                      NaN  \n3                     -5.0                      NaN  \n4                      NaN                      NaN  \n\n[5 rows x 90 columns]",
      "text/html": "<div>\n<style scoped>\n    .dataframe tbody tr th:only-of-type {\n        vertical-align: middle;\n    }\n\n    .dataframe tbody tr th {\n        vertical-align: top;\n    }\n\n    .dataframe thead th {\n        text-align: right;\n    }\n</style>\n<table border=\"1\" class=\"dataframe\">\n  <thead>\n    <tr style=\"text-align: right;\">\n      <th></th>\n      <th>energy-kj_100g</th>\n      <th>energy-kcal_100g</th>\n      <th>energy_100g</th>\n      <th>fat_100g</th>\n      <th>saturated-fat_100g</th>\n      <th>butyric-acid_100g</th>\n      <th>caproic-acid_100g</th>\n      <th>caprylic-acid_100g</th>\n      <th>capric-acid_100g</th>\n      <th>lauric-acid_100g</th>\n      <th>...</th>\n      <th>chromium_100g</th>\n      <th>molybdenum_100g</th>\n      <th>iodine_100g</th>\n      <th>caffeine_100g</th>\n      <th>taurine_100g</th>\n      <th>ph_100g</th>\n      <th>fruits-vegetables-nuts_100g</th>\n      <th>carbon-footprint_100g</th>\n      <th>nutrition-score-fr_100g</th>\n      <th>nutrition-score-uk_100g</th>\n    </tr>\n  </thead>\n  <tbody>\n    <tr>\n      <th>0</th>\n      <td>NaN</td>\n      <td>NaN</td>\n      <td>NaN</td>\n      <td>NaN</td>\n      <td>NaN</td>\n      <td>NaN</td>\n      <td>NaN</td>\n      <td>NaN</td>\n      <td>NaN</td>\n      <td>NaN</td>\n      <td>...</td>\n      <td>NaN</td>\n      <td>NaN</td>\n      <td>NaN</td>\n      <td>NaN</td>\n      <td>NaN</td>\n      <td>NaN</td>\n      <td>NaN</td>\n      <td>NaN</td>\n      <td>NaN</td>\n      <td>NaN</td>\n    </tr>\n    <tr>\n      <th>1</th>\n      <td>NaN</td>\n      <td>165.0</td>\n      <td>690.0</td>\n      <td>2.0</td>\n      <td>2.00</td>\n      <td>NaN</td>\n      <td>NaN</td>\n      <td>NaN</td>\n      <td>NaN</td>\n      <td>NaN</td>\n      <td>...</td>\n      <td>NaN</td>\n      <td>NaN</td>\n      <td>NaN</td>\n      <td>NaN</td>\n      <td>NaN</td>\n      <td>NaN</td>\n      <td>NaN</td>\n      <td>NaN</td>\n      <td>NaN</td>\n      <td>NaN</td>\n    </tr>\n    <tr>\n      <th>2</th>\n      <td>NaN</td>\n      <td>NaN</td>\n      <td>NaN</td>\n      <td>1.4</td>\n      <td>0.90</td>\n      <td>NaN</td>\n      <td>NaN</td>\n      <td>NaN</td>\n      <td>NaN</td>\n      <td>NaN</td>\n      <td>...</td>\n      <td>NaN</td>\n      <td>NaN</td>\n      <td>NaN</td>\n      <td>NaN</td>\n      <td>NaN</td>\n      <td>NaN</td>\n      <td>NaN</td>\n      <td>NaN</td>\n      <td>NaN</td>\n      <td>NaN</td>\n    </tr>\n    <tr>\n      <th>3</th>\n      <td>NaN</td>\n      <td>57.0</td>\n      <td>238.0</td>\n      <td>0.2</td>\n      <td>0.10</td>\n      <td>NaN</td>\n      <td>NaN</td>\n      <td>NaN</td>\n      <td>NaN</td>\n      <td>NaN</td>\n      <td>...</td>\n      <td>NaN</td>\n      <td>NaN</td>\n      <td>NaN</td>\n      <td>NaN</td>\n      <td>NaN</td>\n      <td>NaN</td>\n      <td>NaN</td>\n      <td>NaN</td>\n      <td>-5.0</td>\n      <td>NaN</td>\n    </tr>\n    <tr>\n      <th>4</th>\n      <td>NaN</td>\n      <td>375.0</td>\n      <td>1569.0</td>\n      <td>7.0</td>\n      <td>3.08</td>\n      <td>NaN</td>\n      <td>NaN</td>\n      <td>NaN</td>\n      <td>NaN</td>\n      <td>NaN</td>\n      <td>...</td>\n      <td>NaN</td>\n      <td>NaN</td>\n      <td>NaN</td>\n      <td>NaN</td>\n      <td>NaN</td>\n      <td>NaN</td>\n      <td>NaN</td>\n      <td>NaN</td>\n      <td>NaN</td>\n      <td>NaN</td>\n    </tr>\n  </tbody>\n</table>\n<p>5 rows × 90 columns</p>\n</div>"
     },
     "execution_count": 17,
     "metadata": {},
     "output_type": "execute_result"
    }
   ],
   "source": [
    "globals()[\"nutrition_facts\"].head()"
   ]
  },
  {
   "cell_type": "markdown",
   "source": [
    "# 2 Nettoyage et filtrage des colonnes"
   ],
   "metadata": {
    "collapsed": false
   },
   "id": "4a3c8875997ae7a6"
  },
  {
   "cell_type": "markdown",
   "source": [
    "## 2.1 Identification des colonnes avec des données manquantes"
   ],
   "metadata": {
    "collapsed": false
   },
   "id": "7c8fb21e1a6d4411"
  },
  {
   "cell_type": "markdown",
   "id": "12b39b9216e073c4",
   "metadata": {},
   "source": [
    "Identification des colonnes avec plus de 50% de données manquantes"
   ]
  },
  {
   "cell_type": "code",
   "execution_count": 18,
   "id": "cc7f2d89f08efa5f",
   "metadata": {
    "ExecuteTime": {
     "end_time": "2023-11-20T13:02:57.094553600Z",
     "start_time": "2023-11-20T13:02:56.686361800Z"
    }
   },
   "outputs": [],
   "source": [
    "missing_values = df.isnull().sum() / len(df) * 100"
   ]
  },
  {
   "cell_type": "markdown",
   "source": [
    "Affichage des colonnes avec plus de 50% de valeurs null"
   ],
   "metadata": {
    "collapsed": false
   },
   "id": "9cc908fce7315579"
  },
  {
   "cell_type": "code",
   "execution_count": 19,
   "outputs": [
    {
     "name": "stdout",
     "output_type": "stream",
     "text": [
      "Columns with more than 50% missing data :\n",
      " abbreviated_product_name     99.998151\n",
      "generic_name                 98.591054\n",
      "quantity                     85.562931\n",
      "packaging                    95.808295\n",
      "packaging_tags               95.808295\n",
      "                               ...    \n",
      "beta-glucan_100g            100.000000\n",
      "inositol_100g               100.000000\n",
      "carnitine_100g              100.000000\n",
      "sulphate_100g                99.998151\n",
      "nitrate_100g                 99.998151\n",
      "Length: 153, dtype: float64\n"
     ]
    }
   ],
   "source": [
    "high_missing_values = missing_values[missing_values > 50]\n",
    "print(f\"Columns with more than 50% missing data :\\n {high_missing_values}\")"
   ],
   "metadata": {
    "collapsed": false,
    "ExecuteTime": {
     "end_time": "2023-11-20T13:02:59.158416Z",
     "start_time": "2023-11-20T13:02:59.130666700Z"
    }
   },
   "id": "6028da79a59bcab0"
  },
  {
   "cell_type": "markdown",
   "id": "4487b0841e99970",
   "metadata": {},
   "source": [
    "## 2.2 Suppression des colonnes avec plus de 50% de valeurs null"
   ]
  },
  {
   "cell_type": "code",
   "execution_count": 31,
   "id": "f1975905cc04d040",
   "metadata": {
    "ExecuteTime": {
     "end_time": "2023-11-20T13:16:56.403399400Z",
     "start_time": "2023-11-20T13:16:56.339855800Z"
    }
   },
   "outputs": [
    {
     "name": "stdout",
     "output_type": "stream",
     "text": [
      "Columns deleted : \n",
      "Index(['abbreviated_product_name', 'generic_name', 'quantity', 'packaging',\n",
      "       'packaging_tags', 'packaging_fr', 'packaging_text', 'origins',\n",
      "       'origins_tags', 'origins_fr',\n",
      "       ...\n",
      "       'nutrition-score-uk_100g', 'glycemic-index_100g', 'water-hardness_100g',\n",
      "       'choline_100g', 'phylloquinone_100g', 'beta-glucan_100g',\n",
      "       'inositol_100g', 'carnitine_100g', 'sulphate_100g', 'nitrate_100g'],\n",
      "      dtype='object', length=153)\n",
      "Df length after deletion : (52560, 15)\n"
     ]
    }
   ],
   "source": [
    "columns_droped = high_missing_values.index;\n",
    "df = df.loc[:, df.isnull().mean() < .5]\n",
    "\n",
    "print(f\"Columns deleted : \\n{columns_droped}\")\n",
    "print(f\"Df length after deletion : {df.shape}\")"
   ]
  },
  {
   "cell_type": "code",
   "execution_count": 32,
   "id": "fdd355edde0920e1",
   "metadata": {
    "ExecuteTime": {
     "end_time": "2023-11-20T13:16:57.743226600Z",
     "start_time": "2023-11-20T13:16:57.703448100Z"
    }
   },
   "outputs": [
    {
     "data": {
      "text/plain": "                     code      product_name   brands countries_fr  \\\n0       00000000000000225    jeunes pousses  endives       France   \n1  0000000000000207025004             Andrè      NaN    Allemagne   \n2    00000000000003429145           L.casei      NaN      Espagne   \n3    00000000000026772226              Skyr   Danone       France   \n4           0000000000017  Vitória crackers      NaN       France   \n\n   additives_n nutriscore_grade                        main_category_fr  \\\n0          NaN          unknown  Jeunes pousses d'épinards pour salades   \n1          NaN              NaN                                     NaN   \n2          0.0              NaN                                     NaN   \n3          NaN                a                     Fromages à la crème   \n4          NaN          unknown                                     NaN   \n\n   energy_100g  fat_100g  saturated-fat_100g  carbohydrates_100g  sugars_100g  \\\n0          NaN       NaN                 NaN                 NaN          NaN   \n1        690.0       2.0                2.00                65.0         12.6   \n2          NaN       1.4                0.90                 9.8          9.8   \n3        238.0       0.2                0.10                 3.9          3.9   \n4       1569.0       7.0                3.08                70.1         15.0   \n\n   proteins_100g  salt_100g  sodium_100g  \n0            NaN        NaN          NaN  \n1            1.5        NaN          NaN  \n2            2.7       0.10        0.040  \n3           10.0       0.09        0.036  \n4            7.8       1.40        0.560  ",
      "text/html": "<div>\n<style scoped>\n    .dataframe tbody tr th:only-of-type {\n        vertical-align: middle;\n    }\n\n    .dataframe tbody tr th {\n        vertical-align: top;\n    }\n\n    .dataframe thead th {\n        text-align: right;\n    }\n</style>\n<table border=\"1\" class=\"dataframe\">\n  <thead>\n    <tr style=\"text-align: right;\">\n      <th></th>\n      <th>code</th>\n      <th>product_name</th>\n      <th>brands</th>\n      <th>countries_fr</th>\n      <th>additives_n</th>\n      <th>nutriscore_grade</th>\n      <th>main_category_fr</th>\n      <th>energy_100g</th>\n      <th>fat_100g</th>\n      <th>saturated-fat_100g</th>\n      <th>carbohydrates_100g</th>\n      <th>sugars_100g</th>\n      <th>proteins_100g</th>\n      <th>salt_100g</th>\n      <th>sodium_100g</th>\n    </tr>\n  </thead>\n  <tbody>\n    <tr>\n      <th>0</th>\n      <td>00000000000000225</td>\n      <td>jeunes pousses</td>\n      <td>endives</td>\n      <td>France</td>\n      <td>NaN</td>\n      <td>unknown</td>\n      <td>Jeunes pousses d'épinards pour salades</td>\n      <td>NaN</td>\n      <td>NaN</td>\n      <td>NaN</td>\n      <td>NaN</td>\n      <td>NaN</td>\n      <td>NaN</td>\n      <td>NaN</td>\n      <td>NaN</td>\n    </tr>\n    <tr>\n      <th>1</th>\n      <td>0000000000000207025004</td>\n      <td>Andrè</td>\n      <td>NaN</td>\n      <td>Allemagne</td>\n      <td>NaN</td>\n      <td>NaN</td>\n      <td>NaN</td>\n      <td>690.0</td>\n      <td>2.0</td>\n      <td>2.00</td>\n      <td>65.0</td>\n      <td>12.6</td>\n      <td>1.5</td>\n      <td>NaN</td>\n      <td>NaN</td>\n    </tr>\n    <tr>\n      <th>2</th>\n      <td>00000000000003429145</td>\n      <td>L.casei</td>\n      <td>NaN</td>\n      <td>Espagne</td>\n      <td>0.0</td>\n      <td>NaN</td>\n      <td>NaN</td>\n      <td>NaN</td>\n      <td>1.4</td>\n      <td>0.90</td>\n      <td>9.8</td>\n      <td>9.8</td>\n      <td>2.7</td>\n      <td>0.10</td>\n      <td>0.040</td>\n    </tr>\n    <tr>\n      <th>3</th>\n      <td>00000000000026772226</td>\n      <td>Skyr</td>\n      <td>Danone</td>\n      <td>France</td>\n      <td>NaN</td>\n      <td>a</td>\n      <td>Fromages à la crème</td>\n      <td>238.0</td>\n      <td>0.2</td>\n      <td>0.10</td>\n      <td>3.9</td>\n      <td>3.9</td>\n      <td>10.0</td>\n      <td>0.09</td>\n      <td>0.036</td>\n    </tr>\n    <tr>\n      <th>4</th>\n      <td>0000000000017</td>\n      <td>Vitória crackers</td>\n      <td>NaN</td>\n      <td>France</td>\n      <td>NaN</td>\n      <td>unknown</td>\n      <td>NaN</td>\n      <td>1569.0</td>\n      <td>7.0</td>\n      <td>3.08</td>\n      <td>70.1</td>\n      <td>15.0</td>\n      <td>7.8</td>\n      <td>1.40</td>\n      <td>0.560</td>\n    </tr>\n  </tbody>\n</table>\n</div>"
     },
     "execution_count": 32,
     "metadata": {},
     "output_type": "execute_result"
    }
   ],
   "source": [
    "df.head()"
   ]
  },
  {
   "cell_type": "markdown",
   "source": [
    "## 2.3 Évaluation de la pertinence des colonnes restantes"
   ],
   "metadata": {
    "collapsed": false
   },
   "id": "ad4281440679c7c2"
  },
  {
   "cell_type": "markdown",
   "source": [
    "Dans cette partie nous allons décider quelles colonnes il est pertinent de garder pour notre analyse. Nous le faisons manuellement nous pourrions utiliser un modèle comme ChatGPT qui nous renverrais un taux de pertinence en fonction du sujet abordé."
   ],
   "metadata": {
    "collapsed": false
   },
   "id": "8da3e730cc0b3452"
  },
  {
   "cell_type": "code",
   "execution_count": 22,
   "id": "8762f112b0d1b06f",
   "metadata": {
    "ExecuteTime": {
     "end_time": "2023-11-20T13:03:08.361273400Z",
     "start_time": "2023-11-20T13:03:08.346427600Z"
    }
   },
   "outputs": [
    {
     "data": {
      "text/plain": "['code',\n 'url',\n 'creator',\n 'created_t',\n 'created_datetime',\n 'last_modified_t',\n 'last_modified_datetime',\n 'last_modified_by',\n 'product_name',\n 'brands',\n 'brands_tags',\n 'categories',\n 'categories_tags',\n 'categories_fr',\n 'countries',\n 'countries_tags',\n 'countries_fr',\n 'ingredients_text',\n 'ingredients_tags',\n 'ingredients_analysis_tags',\n 'serving_size',\n 'serving_quantity',\n 'additives_n',\n 'nutriscore_grade',\n 'nova_group',\n 'pnns_groups_1',\n 'pnns_groups_2',\n 'states',\n 'states_tags',\n 'states_fr',\n 'ecoscore_grade',\n 'nutrient_levels_tags',\n 'completeness',\n 'last_image_t',\n 'last_image_datetime',\n 'main_category',\n 'main_category_fr',\n 'image_url',\n 'image_small_url',\n 'energy-kcal_100g',\n 'energy_100g',\n 'fat_100g',\n 'saturated-fat_100g',\n 'carbohydrates_100g',\n 'sugars_100g',\n 'fiber_100g',\n 'proteins_100g',\n 'salt_100g',\n 'sodium_100g',\n 'fruits-vegetables-nuts-estimate-from-ingredients_100g']"
     },
     "execution_count": 22,
     "metadata": {},
     "output_type": "execute_result"
    }
   ],
   "source": [
    "df.columns.tolist()"
   ]
  },
  {
   "cell_type": "markdown",
   "id": "83f0440998af0e3f",
   "metadata": {},
   "source": [
    "'code', -- Code produit : peut être important pour d'éventuelle relations\n",
    " 'url', -- Url du produit : Pas intéressant \n",
    " 'creator', -- qui a créer les données, pas i\n",
    " 'created_t',-- DELETE \n",
    " 'created_datetime', - pi -- DELETE\n",
    " 'last_modified_t', - pi -- DELETE\n",
    " 'last_modified_datetime', - pi -- DELETE\n",
    " 'last_modified_by', - pi -- DELETE\n",
    " 'product_name', -IMPORTANT \n",
    " 'brands',\n",
    " 'brands_tags',\n",
    " 'categories', - pi \n",
    " 'categories_tags', - pi -- DELETE\n",
    " 'categories_fr', - pi -- DELETE\n",
    " 'countries',\n",
    " 'countries_tags', - pi -- DELETE\n",
    " 'countries_fr', - pi -- DELETE\n",
    " 'ingredients_text', \n",
    " 'ingredients_tags',\n",
    " 'ingredients_analysis_tags',\n",
    " 'serving_size',\n",
    " 'serving_quantity',\n",
    " 'additives_n',\n",
    " 'nutriscore_grade',\n",
    " 'nova_group',\n",
    " 'pnns_groups_1',\n",
    " 'pnns_groups_2',\n",
    " 'states', \n",
    " 'states_tags', -- DELETE\n",
    " 'states_fr', -- DELETE\n",
    " 'ecoscore_grade', \n",
    " 'nutrient_levels_tags',\n",
    " 'completeness',\n",
    " 'last_image_t', -- DELETE\n",
    " 'last_image_datetime', -- DELETE\n",
    " 'main_category', - pi -- DELETE\n",
    " 'main_category_fr', -- DELETE\n",
    " 'image_url', \n",
    " 'image_small_url',\n",
    " 'energy-kcal_100g', -IMPORTANT \n",
    " 'energy_100g', -IMPORTANT \n",
    " 'fat_100g', -IMPORTANT \n",
    " 'saturated-fat_100g', -IMPORTANT \n",
    " 'carbohydrates_100g', -IMPORTANT \n",
    " 'sugars_100g', -IMPORTANT \n",
    " 'fiber_100g', -IMPORTANT \n",
    " 'proteins_100g', -IMPORTANT \n",
    " 'salt_100g', -IMPORTANT \n",
    " 'sodium_100g', -IMPORTANT \n",
    " 'fruits-vegetables-nuts-estimate-from-ingredients_100g'"
   ]
  },
  {
   "cell_type": "markdown",
   "id": "8b06d62c75f288d6",
   "metadata": {},
   "source": [
    "Nettoyage doublons ou vide(Pas de nom, vide, etc..). Voir les imputations. "
   ]
  },
  {
   "cell_type": "markdown",
   "id": "aa3d2eee93748b3d",
   "metadata": {},
   "source": [
    "Suppression des colonnes inutiles"
   ]
  },
  {
   "cell_type": "markdown",
   "source": [
    "'code', --TI -- Code produit : peut être important pour d'éventuelle relations\n",
    " 'product_name', -IMPORTANT \n",
    " 'brands',--TI\n",
    " 'countries_fr', - pi\n",
    " 'additives_n',\n",
    " 'nutriscore_grade', --TI\n",
    " 'main_category_fr', -- DELETE --TI\n",
    " 'energy-kcal_100g', -IMPORTANT \n",
    " 'energy_100g', -IMPORTANT \n",
    " 'fat_100g', -IMPORTANT \n",
    " 'saturated-fat_100g', -IMPORTANT \n",
    " 'carbohydrates_100g', -IMPORTANT \n",
    " 'sugars_100g', -IMPORTANT \n",
    " 'fiber_100g', -IMPORTANT \n",
    " 'proteins_100g', -IMPORTANT \n",
    " 'salt_100g', -IMPORTANT \n",
    " 'sodium_100g', -IMPORTANT \n",
    " 'fruits-vegetables-nuts-estimate-from-ingredients_100g'"
   ],
   "metadata": {
    "collapsed": false
   },
   "id": "224060e7b313f2b2"
  },
  {
   "cell_type": "code",
   "execution_count": 23,
   "id": "eac40ed734616db8",
   "metadata": {
    "ExecuteTime": {
     "end_time": "2023-11-20T13:04:42.760845Z",
     "start_time": "2023-11-20T13:04:42.747793900Z"
    }
   },
   "outputs": [],
   "source": [
    "columns_to_keep = [\"code\",\"product_name\",\"brands\",\"countries_fr\",\"additives_n\",\"nutriscore_grade\",\"main_category_fr\",\"energy_100g\",\"fat_100g\",\"saturated-fat_100g\",\"carbohydrates_100g\",\"sugars_100g\",\"fiber_100g\",\"proteins_100g\",\"salt_100g\",\"sodium_100g\",\"fruits-vegetables-nuts-estimate-from-ingredients_100g\"]"
   ]
  },
  {
   "cell_type": "markdown",
   "source": [
    "## 2.4 Suppression des colonnnes qui ne sont pas nécessaire pour l'analyse "
   ],
   "metadata": {
    "collapsed": false
   },
   "id": "8eccf2156d909682"
  },
  {
   "cell_type": "markdown",
   "source": [
    "Dans cette partie nous allons supprimer de notre data frame les colonnes défini juste précédement comme \"non pertinantes\" pour notre analyse"
   ],
   "metadata": {
    "collapsed": false
   },
   "id": "939a073209ba3982"
  },
  {
   "cell_type": "code",
   "execution_count": 25,
   "outputs": [
    {
     "name": "stdout",
     "output_type": "stream",
     "text": [
      "Final columns : \n",
      "Index(['code', 'product_name', 'brands', 'countries_fr', 'additives_n',\n",
      "       'nutriscore_grade', 'main_category_fr', 'energy_100g', 'fat_100g',\n",
      "       'saturated-fat_100g', 'carbohydrates_100g', 'sugars_100g', 'fiber_100g',\n",
      "       'proteins_100g', 'salt_100g', 'sodium_100g',\n",
      "       'fruits-vegetables-nuts-estimate-from-ingredients_100g'],\n",
      "      dtype='object')\n"
     ]
    }
   ],
   "source": [
    "df = df[columns_to_keep];\n",
    "\n",
    "print(f\"Final columns : \\n{df.columns}\")"
   ],
   "metadata": {
    "collapsed": false,
    "ExecuteTime": {
     "end_time": "2023-11-20T13:06:07.770445200Z",
     "start_time": "2023-11-20T13:06:07.754700600Z"
    }
   },
   "id": "aa2621818a2ac241"
  },
  {
   "cell_type": "markdown",
   "source": [
    "# 3 Nettoyage approfondi des données."
   ],
   "metadata": {
    "collapsed": false
   },
   "id": "875ef42732248bfa"
  },
  {
   "cell_type": "markdown",
   "source": [
    "## 3.1 Gestion des valeurs manquantes et doublons dans les colonnes restantes"
   ],
   "metadata": {
    "collapsed": false
   },
   "id": "35a338582b476f04"
  },
  {
   "cell_type": "markdown",
   "source": [
    "### 3.1.1 Suppression des lignes null pour les colonnes `product_name` et `code`\n",
    "\n",
    "Car sans valeurs aucune valeurs ne peut y etre associé"
   ],
   "metadata": {
    "collapsed": false
   },
   "id": "27ed2a0103a77567"
  },
  {
   "cell_type": "code",
   "execution_count": 27,
   "outputs": [
    {
     "name": "stdout",
     "output_type": "stream",
     "text": [
      "Data frame infos before deleting : (52560, 17)\n",
      "Data frame infos after delete : (52560, 17)\n"
     ]
    }
   ],
   "source": [
    "print(f\"Data frame infos before deleting null values: {df.shape}\")\n",
    "\n",
    "df = df.dropna(subset=['product_name', 'code'])\n",
    "\n",
    "print(f\"Data frame infos after delete null values: {df.shape}\")"
   ],
   "metadata": {
    "collapsed": false,
    "ExecuteTime": {
     "end_time": "2023-11-20T13:08:36.867492700Z",
     "start_time": "2023-11-20T13:08:36.805278300Z"
    }
   },
   "id": "a46d9c1f3d0ecbca"
  },
  {
   "cell_type": "markdown",
   "source": [
    "### 3.1.2 Suppression des doublons basés sur `code`"
   ],
   "metadata": {
    "collapsed": false
   },
   "id": "174313789af201b3"
  },
  {
   "cell_type": "markdown",
   "source": [
    "Le code est l'identifiant unique d'un produit, un doublon de cette valeur indiquerais une erreur, une fausse observation (ici record)"
   ],
   "metadata": {
    "collapsed": false
   },
   "id": "6ab86f0a189b9350"
  },
  {
   "cell_type": "code",
   "execution_count": 28,
   "outputs": [
    {
     "name": "stdout",
     "output_type": "stream",
     "text": [
      "Data frame infos before deleting duplicates of `code` : (52560, 17)\n",
      "Data frame infos after delete duplicates of `code`: (52560, 17)\n"
     ]
    }
   ],
   "source": [
    "print(f\"Data frame infos before deleting duplicates of `code` : {df.shape}\")\n",
    "\n",
    "df = df.drop_duplicates(subset='code')\n",
    "\n",
    "print(f\"Data frame infos after delete duplicates of `code`: {df.shape}\")"
   ],
   "metadata": {
    "collapsed": false,
    "ExecuteTime": {
     "end_time": "2023-11-20T13:10:25.460941500Z",
     "start_time": "2023-11-20T13:10:25.397684500Z"
    }
   },
   "id": "7be48ba1f5f47862"
  },
  {
   "cell_type": "markdown",
   "source": [
    "## 3.2 Traitement des valeurs aberrantes"
   ],
   "metadata": {
    "collapsed": false
   },
   "id": "3a459ca667891087"
  },
  {
   "cell_type": "markdown",
   "source": [
    "### 3.2.1 Traitement des valeurs NAN et abérrantes des colonnes \"_100g\""
   ],
   "metadata": {
    "collapsed": false
   },
   "id": "c93dfd12d6750581"
  },
  {
   "cell_type": "code",
   "execution_count": 29,
   "outputs": [],
   "source": [
    "# Getting finished by _100g columns....\n",
    "numeric_cols = df.columns[df.columns.str.contains('_100g')]\n",
    "for col in numeric_cols:\n",
    "    ## Numeric conversion...\n",
    "    df[col] = pd.to_numeric(df[col], errors='coerce')\n",
    "    # Replacement of extreme value by NaN value \n",
    "    df[col] = df[col].apply(lambda x: np.nan if x <= 0 or x > 4000 else x)"
   ],
   "metadata": {
    "collapsed": false,
    "ExecuteTime": {
     "end_time": "2023-11-20T13:13:47.325722500Z",
     "start_time": "2023-11-20T13:13:47.191266100Z"
    }
   },
   "id": "7b469c535b113fa1"
  },
  {
   "cell_type": "code",
   "execution_count": 30,
   "outputs": [
    {
     "data": {
      "text/plain": "                     code      product_name   brands countries_fr  \\\n0       00000000000000225    jeunes pousses  endives       France   \n1  0000000000000207025004             Andrè      NaN    Allemagne   \n2    00000000000003429145           L.casei      NaN      Espagne   \n3    00000000000026772226              Skyr   Danone       France   \n4           0000000000017  Vitória crackers      NaN       France   \n\n   additives_n nutriscore_grade                        main_category_fr  \\\n0          NaN          unknown  Jeunes pousses d'épinards pour salades   \n1          NaN              NaN                                     NaN   \n2          0.0              NaN                                     NaN   \n3          NaN                a                     Fromages à la crème   \n4          NaN          unknown                                     NaN   \n\n   energy_100g  fat_100g  saturated-fat_100g  carbohydrates_100g  sugars_100g  \\\n0          NaN       NaN                 NaN                 NaN          NaN   \n1        690.0       2.0                2.00                65.0         12.6   \n2          NaN       1.4                0.90                 9.8          9.8   \n3        238.0       0.2                0.10                 3.9          3.9   \n4       1569.0       7.0                3.08                70.1         15.0   \n\n   fiber_100g  proteins_100g  salt_100g  sodium_100g  \\\n0         NaN            NaN        NaN          NaN   \n1         3.0            1.5        NaN          NaN   \n2         NaN            2.7       0.10        0.040   \n3         NaN           10.0       0.09        0.036   \n4         NaN            7.8       1.40        0.560   \n\n   fruits-vegetables-nuts-estimate-from-ingredients_100g  \n0                                                NaN      \n1                                                NaN      \n2                                                NaN      \n3                                                NaN      \n4                                                NaN      ",
      "text/html": "<div>\n<style scoped>\n    .dataframe tbody tr th:only-of-type {\n        vertical-align: middle;\n    }\n\n    .dataframe tbody tr th {\n        vertical-align: top;\n    }\n\n    .dataframe thead th {\n        text-align: right;\n    }\n</style>\n<table border=\"1\" class=\"dataframe\">\n  <thead>\n    <tr style=\"text-align: right;\">\n      <th></th>\n      <th>code</th>\n      <th>product_name</th>\n      <th>brands</th>\n      <th>countries_fr</th>\n      <th>additives_n</th>\n      <th>nutriscore_grade</th>\n      <th>main_category_fr</th>\n      <th>energy_100g</th>\n      <th>fat_100g</th>\n      <th>saturated-fat_100g</th>\n      <th>carbohydrates_100g</th>\n      <th>sugars_100g</th>\n      <th>fiber_100g</th>\n      <th>proteins_100g</th>\n      <th>salt_100g</th>\n      <th>sodium_100g</th>\n      <th>fruits-vegetables-nuts-estimate-from-ingredients_100g</th>\n    </tr>\n  </thead>\n  <tbody>\n    <tr>\n      <th>0</th>\n      <td>00000000000000225</td>\n      <td>jeunes pousses</td>\n      <td>endives</td>\n      <td>France</td>\n      <td>NaN</td>\n      <td>unknown</td>\n      <td>Jeunes pousses d'épinards pour salades</td>\n      <td>NaN</td>\n      <td>NaN</td>\n      <td>NaN</td>\n      <td>NaN</td>\n      <td>NaN</td>\n      <td>NaN</td>\n      <td>NaN</td>\n      <td>NaN</td>\n      <td>NaN</td>\n      <td>NaN</td>\n    </tr>\n    <tr>\n      <th>1</th>\n      <td>0000000000000207025004</td>\n      <td>Andrè</td>\n      <td>NaN</td>\n      <td>Allemagne</td>\n      <td>NaN</td>\n      <td>NaN</td>\n      <td>NaN</td>\n      <td>690.0</td>\n      <td>2.0</td>\n      <td>2.00</td>\n      <td>65.0</td>\n      <td>12.6</td>\n      <td>3.0</td>\n      <td>1.5</td>\n      <td>NaN</td>\n      <td>NaN</td>\n      <td>NaN</td>\n    </tr>\n    <tr>\n      <th>2</th>\n      <td>00000000000003429145</td>\n      <td>L.casei</td>\n      <td>NaN</td>\n      <td>Espagne</td>\n      <td>0.0</td>\n      <td>NaN</td>\n      <td>NaN</td>\n      <td>NaN</td>\n      <td>1.4</td>\n      <td>0.90</td>\n      <td>9.8</td>\n      <td>9.8</td>\n      <td>NaN</td>\n      <td>2.7</td>\n      <td>0.10</td>\n      <td>0.040</td>\n      <td>NaN</td>\n    </tr>\n    <tr>\n      <th>3</th>\n      <td>00000000000026772226</td>\n      <td>Skyr</td>\n      <td>Danone</td>\n      <td>France</td>\n      <td>NaN</td>\n      <td>a</td>\n      <td>Fromages à la crème</td>\n      <td>238.0</td>\n      <td>0.2</td>\n      <td>0.10</td>\n      <td>3.9</td>\n      <td>3.9</td>\n      <td>NaN</td>\n      <td>10.0</td>\n      <td>0.09</td>\n      <td>0.036</td>\n      <td>NaN</td>\n    </tr>\n    <tr>\n      <th>4</th>\n      <td>0000000000017</td>\n      <td>Vitória crackers</td>\n      <td>NaN</td>\n      <td>France</td>\n      <td>NaN</td>\n      <td>unknown</td>\n      <td>NaN</td>\n      <td>1569.0</td>\n      <td>7.0</td>\n      <td>3.08</td>\n      <td>70.1</td>\n      <td>15.0</td>\n      <td>NaN</td>\n      <td>7.8</td>\n      <td>1.40</td>\n      <td>0.560</td>\n      <td>NaN</td>\n    </tr>\n  </tbody>\n</table>\n</div>"
     },
     "execution_count": 30,
     "metadata": {},
     "output_type": "execute_result"
    }
   ],
   "source": [
    "df.head()"
   ],
   "metadata": {
    "collapsed": false,
    "ExecuteTime": {
     "end_time": "2023-11-20T13:14:17.420402300Z",
     "start_time": "2023-11-20T13:14:17.398201500Z"
    }
   },
   "id": "b4b78ec03d6ea94b"
  },
  {
   "cell_type": "markdown",
   "source": [
    "### 3.2.2 Détection et traitement des outliers"
   ],
   "metadata": {
    "collapsed": false
   },
   "id": "dbd610a0102ea53f"
  },
  {
   "cell_type": "code",
   "execution_count": 36,
   "outputs": [
    {
     "name": "stdout",
     "output_type": "stream",
     "text": [
      "Traitment ... : 0        NaN\n",
      "1        NaN\n",
      "2        0.0\n",
      "3        NaN\n",
      "4        NaN\n",
      "        ... \n",
      "54078    1.0\n",
      "54079    1.0\n",
      "54080    1.0\n",
      "54081    1.0\n",
      "54082    NaN\n",
      "Name: additives_n, Length: 52560, dtype: float64\n",
      "Traitment ... : 0           NaN\n",
      "1         690.0\n",
      "2           NaN\n",
      "3         238.0\n",
      "4        1569.0\n",
      "          ...  \n",
      "54078     708.0\n",
      "54079     699.0\n",
      "54080     697.0\n",
      "54081     678.0\n",
      "54082       NaN\n",
      "Name: energy_100g, Length: 52560, dtype: float64\n",
      "Traitment ... : 0        NaN\n",
      "1        2.0\n",
      "2        1.4\n",
      "3        0.2\n",
      "4        7.0\n",
      "        ... \n",
      "54078    NaN\n",
      "54079    NaN\n",
      "54080    NaN\n",
      "54081    NaN\n",
      "54082    NaN\n",
      "Name: fat_100g, Length: 52560, dtype: float64\n",
      "Traitment ... : 0         NaN\n",
      "1        2.00\n",
      "2        0.90\n",
      "3        0.10\n",
      "4        3.08\n",
      "         ... \n",
      "54078     NaN\n",
      "54079     NaN\n",
      "54080     NaN\n",
      "54081     NaN\n",
      "54082     NaN\n",
      "Name: saturated-fat_100g, Length: 52560, dtype: float64\n",
      "Traitment ... : 0            NaN\n",
      "1        65.0000\n",
      "2         9.8000\n",
      "3         3.9000\n",
      "4        70.1000\n",
      "          ...   \n",
      "54078    38.9000\n",
      "54079    36.1000\n",
      "54080    41.6667\n",
      "54081    40.5000\n",
      "54082        NaN\n",
      "Name: carbohydrates_100g, Length: 52560, dtype: float64\n",
      "Traitment ... : 0            NaN\n",
      "1        12.6000\n",
      "2         9.8000\n",
      "3         3.9000\n",
      "4        15.0000\n",
      "          ...   \n",
      "54078    33.3000\n",
      "54079    30.6000\n",
      "54080    36.1111\n",
      "54081    37.8000\n",
      "54082        NaN\n",
      "Name: sugars_100g, Length: 52560, dtype: float64\n",
      "Traitment ... : 0         NaN\n",
      "1         1.5\n",
      "2         2.7\n",
      "3        10.0\n",
      "4         7.8\n",
      "         ... \n",
      "54078     NaN\n",
      "54079     NaN\n",
      "54080     NaN\n",
      "54081     NaN\n",
      "54082     NaN\n",
      "Name: proteins_100g, Length: 52560, dtype: float64\n",
      "Traitment ... : 0             NaN\n",
      "1             NaN\n",
      "2        0.100000\n",
      "3        0.090000\n",
      "4        1.400000\n",
      "           ...   \n",
      "54078    0.972000\n",
      "54079    2.200000\n",
      "54080    2.291667\n",
      "54081    2.300000\n",
      "54082         NaN\n",
      "Name: salt_100g, Length: 52560, dtype: float64\n",
      "Traitment ... : 0             NaN\n",
      "1             NaN\n",
      "2        0.040000\n",
      "3        0.036000\n",
      "4        0.560000\n",
      "           ...   \n",
      "54078    0.389000\n",
      "54079    0.880000\n",
      "54080    0.916667\n",
      "54081    0.919000\n",
      "54082         NaN\n",
      "Name: sodium_100g, Length: 52560, dtype: float64\n"
     ]
    }
   ],
   "source": [
    "def handle_outliers(column):\n",
    "    Q1 = column.quantile(0.25)\n",
    "    Q3 = column.quantile(0.75)\n",
    "    Inter = Q3 - Q1\n",
    "    return column[~((column < (Q1 - 1.5 * Inter)) | (column > (Q3 + 1.5 * Inter)))]\n",
    "\n",
    "# Apply for every number columns\n",
    "for col in df.select_dtypes(include=['number']).columns:\n",
    "    df[col] = handle_outliers(df[col])\n",
    "    print(f\"Traitment ... : {df[col]}\")"
   ],
   "metadata": {
    "collapsed": false,
    "ExecuteTime": {
     "end_time": "2023-11-20T14:02:21.863931900Z",
     "start_time": "2023-11-20T14:02:21.785695100Z"
    }
   },
   "id": "6097e65e12ad4552"
  },
  {
   "cell_type": "markdown",
   "source": [
    "## 3.3 Normalisation et transformation des données"
   ],
   "metadata": {
    "collapsed": false
   },
   "id": "42cdf94772304d01"
  },
  {
   "cell_type": "markdown",
   "source": [
    "### 3.3.1 Normalisation des données numériques"
   ],
   "metadata": {
    "collapsed": false
   },
   "id": "144a351e27f9c8d7"
  },
  {
   "cell_type": "code",
   "execution_count": 37,
   "outputs": [],
   "source": [
    "from sklearn.preprocessing import MinMaxScaler\n",
    "scaler = MinMaxScaler()\n",
    "df[df.select_dtypes(include=['number']).columns] = scaler.fit_transform(df.select_dtypes(include=['number']))"
   ],
   "metadata": {
    "collapsed": false,
    "ExecuteTime": {
     "end_time": "2023-11-20T14:05:06.324993700Z",
     "start_time": "2023-11-20T14:05:06.289141500Z"
    }
   },
   "id": "250b3c7941fe4a34"
  },
  {
   "cell_type": "markdown",
   "source": [
    "### 3.3.2 Normalisation des données textuelles"
   ],
   "metadata": {
    "collapsed": false
   },
   "id": "71f8a83cad03d96f"
  },
  {
   "cell_type": "code",
   "execution_count": null,
   "outputs": [],
   "source": [
    "normalize_text = lambda value: value if pd.isna(value) else value.strip().lower()"
   ],
   "metadata": {
    "collapsed": false
   },
   "id": "ee848de925ac8f29"
  },
  {
   "cell_type": "code",
   "execution_count": 38,
   "outputs": [],
   "source": [
    "df[df.select_dtypes(include=['object']).columns] = df.select_dtypes(include=['object']).apply(lambda x: x.str.lower().str.strip())"
   ],
   "metadata": {
    "collapsed": false,
    "ExecuteTime": {
     "end_time": "2023-11-20T14:05:45.240504Z",
     "start_time": "2023-11-20T14:05:45.081514600Z"
    }
   },
   "id": "43685413f955e61d"
  },
  {
   "cell_type": "markdown",
   "source": [
    "## 3.4 Validation de la cohérence des données"
   ],
   "metadata": {
    "collapsed": false
   },
   "id": "f9e7449309e4131e"
  },
  {
   "cell_type": "markdown",
   "source": [
    "### 3.4.1 Verification des valeurs numériques"
   ],
   "metadata": {
    "collapsed": false
   },
   "id": "4476e4eecfdd25f3"
  },
  {
   "cell_type": "code",
   "execution_count": 40,
   "outputs": [],
   "source": [
    "energy_min, energy_max = 0, 900  # Basic range for 100g\n",
    "assert df['energy_100g'].dropna().between(energy_min, energy_max).all(), \"Out of order\""
   ],
   "metadata": {
    "collapsed": false,
    "ExecuteTime": {
     "end_time": "2023-11-20T14:08:40.811668800Z",
     "start_time": "2023-11-20T14:08:40.784570700Z"
    }
   },
   "id": "c2f9c513bc67e014"
  },
  {
   "cell_type": "code",
   "execution_count": 42,
   "outputs": [],
   "source": [
    "nutrient_cols = ['energy_100g', 'fat_100g', 'saturated-fat_100g', 'carbohydrates_100g', 'sugars_100g', 'proteins_100g', 'salt_100g', 'sodium_100g']\n",
    "for col in nutrient_cols:\n",
    "    assert df[col].dropna().ge(0).all(), f\"Valeurs négatives détectées dans {col}\""
   ],
   "metadata": {
    "collapsed": false,
    "ExecuteTime": {
     "end_time": "2023-11-20T14:12:30.217609600Z",
     "start_time": "2023-11-20T14:12:30.193857500Z"
    }
   },
   "id": "a9c3d47fe5a7df08"
  },
  {
   "cell_type": "markdown",
   "source": [
    "### 3.4.2 Validation de l'additif \n",
    "\n",
    "Verification si la valeur de 'additives_n' est réelle et logique"
   ],
   "metadata": {
    "collapsed": false
   },
   "id": "a53a66da8a353120"
  },
  {
   "cell_type": "code",
   "execution_count": null,
   "outputs": [],
   "source": [
    "assert df['additives_n'].dropna().ge(0).all(), \"Valeurs négatives trouvées dans additives_n\""
   ],
   "metadata": {
    "collapsed": false
   },
   "id": "65eaee8d0b3188c2"
  },
  {
   "cell_type": "markdown",
   "source": [
    "### 3.4.3 Cohérence des grade de nutriscore\n",
    "\n",
    "Vérification si les valeurs sont cohérente (correspondent à A,B,C,D,E)"
   ],
   "metadata": {
    "collapsed": false
   },
   "id": "1d1b82e3b7fc5fa9"
  },
  {
   "cell_type": "code",
   "execution_count": 43,
   "outputs": [
    {
     "ename": "AssertionError",
     "evalue": "Grades de nutriscore invalides détectés",
     "output_type": "error",
     "traceback": [
      "\u001B[1;31m---------------------------------------------------------------------------\u001B[0m",
      "\u001B[1;31mAssertionError\u001B[0m                            Traceback (most recent call last)",
      "Cell \u001B[1;32mIn[43], line 2\u001B[0m\n\u001B[0;32m      1\u001B[0m valid_grades \u001B[38;5;241m=\u001B[39m [\u001B[38;5;124m'\u001B[39m\u001B[38;5;124ma\u001B[39m\u001B[38;5;124m'\u001B[39m, \u001B[38;5;124m'\u001B[39m\u001B[38;5;124mb\u001B[39m\u001B[38;5;124m'\u001B[39m, \u001B[38;5;124m'\u001B[39m\u001B[38;5;124mc\u001B[39m\u001B[38;5;124m'\u001B[39m, \u001B[38;5;124m'\u001B[39m\u001B[38;5;124md\u001B[39m\u001B[38;5;124m'\u001B[39m, \u001B[38;5;124m'\u001B[39m\u001B[38;5;124me\u001B[39m\u001B[38;5;124m'\u001B[39m]\n\u001B[1;32m----> 2\u001B[0m \u001B[38;5;28;01massert\u001B[39;00m df[\u001B[38;5;124m'\u001B[39m\u001B[38;5;124mnutriscore_grade\u001B[39m\u001B[38;5;124m'\u001B[39m]\u001B[38;5;241m.\u001B[39mdropna()\u001B[38;5;241m.\u001B[39mstr\u001B[38;5;241m.\u001B[39mlower()\u001B[38;5;241m.\u001B[39misin(valid_grades)\u001B[38;5;241m.\u001B[39mall(), \u001B[38;5;124m\"\u001B[39m\u001B[38;5;124mGrades de nutriscore invalides détectés\u001B[39m\u001B[38;5;124m\"\u001B[39m\n",
      "\u001B[1;31mAssertionError\u001B[0m: Grades de nutriscore invalides détectés"
     ]
    }
   ],
   "source": [
    "valid_grades = ['a', 'b', 'c', 'd', 'e']\n",
    "assert df['nutriscore_grade'].dropna().str.lower().isin(valid_grades).all(), \"Grades de nutriscore invalides détectés\""
   ],
   "metadata": {
    "collapsed": false,
    "ExecuteTime": {
     "end_time": "2023-11-20T14:16:49.024070400Z",
     "start_time": "2023-11-20T14:16:48.978378900Z"
    }
   },
   "id": "c9731a37af1a0ba2"
  },
  {
   "cell_type": "markdown",
   "source": [
    "### 3.4.5 Vérification des valeurs anormales pour les estimations\n",
    "\n",
    "Verification des estimation : fruit, legumes et noix"
   ],
   "metadata": {
    "collapsed": false
   },
   "id": "aa5ccaf742665910"
  },
  {
   "cell_type": "code",
   "execution_count": 45,
   "outputs": [
    {
     "ename": "KeyError",
     "evalue": "'fruits-vegetables-nuts-estimate-from-ingredients_100g'",
     "output_type": "error",
     "traceback": [
      "\u001B[1;31m---------------------------------------------------------------------------\u001B[0m",
      "\u001B[1;31mKeyError\u001B[0m                                  Traceback (most recent call last)",
      "File \u001B[1;32m~\\anaconda3\\lib\\site-packages\\pandas\\core\\indexes\\base.py:3802\u001B[0m, in \u001B[0;36mIndex.get_loc\u001B[1;34m(self, key, method, tolerance)\u001B[0m\n\u001B[0;32m   3801\u001B[0m \u001B[38;5;28;01mtry\u001B[39;00m:\n\u001B[1;32m-> 3802\u001B[0m     \u001B[38;5;28;01mreturn\u001B[39;00m \u001B[38;5;28;43mself\u001B[39;49m\u001B[38;5;241;43m.\u001B[39;49m\u001B[43m_engine\u001B[49m\u001B[38;5;241;43m.\u001B[39;49m\u001B[43mget_loc\u001B[49m\u001B[43m(\u001B[49m\u001B[43mcasted_key\u001B[49m\u001B[43m)\u001B[49m\n\u001B[0;32m   3803\u001B[0m \u001B[38;5;28;01mexcept\u001B[39;00m \u001B[38;5;167;01mKeyError\u001B[39;00m \u001B[38;5;28;01mas\u001B[39;00m err:\n",
      "File \u001B[1;32m~\\anaconda3\\lib\\site-packages\\pandas\\_libs\\index.pyx:138\u001B[0m, in \u001B[0;36mpandas._libs.index.IndexEngine.get_loc\u001B[1;34m()\u001B[0m\n",
      "File \u001B[1;32m~\\anaconda3\\lib\\site-packages\\pandas\\_libs\\index.pyx:165\u001B[0m, in \u001B[0;36mpandas._libs.index.IndexEngine.get_loc\u001B[1;34m()\u001B[0m\n",
      "File \u001B[1;32mpandas\\_libs\\hashtable_class_helper.pxi:5745\u001B[0m, in \u001B[0;36mpandas._libs.hashtable.PyObjectHashTable.get_item\u001B[1;34m()\u001B[0m\n",
      "File \u001B[1;32mpandas\\_libs\\hashtable_class_helper.pxi:5753\u001B[0m, in \u001B[0;36mpandas._libs.hashtable.PyObjectHashTable.get_item\u001B[1;34m()\u001B[0m\n",
      "\u001B[1;31mKeyError\u001B[0m: 'fruits-vegetables-nuts-estimate-from-ingredients_100g'",
      "\nThe above exception was the direct cause of the following exception:\n",
      "\u001B[1;31mKeyError\u001B[0m                                  Traceback (most recent call last)",
      "Cell \u001B[1;32mIn[45], line 1\u001B[0m\n\u001B[1;32m----> 1\u001B[0m \u001B[38;5;28;01massert\u001B[39;00m \u001B[43mdf\u001B[49m\u001B[43m[\u001B[49m\u001B[38;5;124;43m'\u001B[39;49m\u001B[38;5;124;43mfruits-vegetables-nuts-estimate-from-ingredients_100g\u001B[39;49m\u001B[38;5;124;43m'\u001B[39;49m\u001B[43m]\u001B[49m\u001B[38;5;241m.\u001B[39mdropna()\u001B[38;5;241m.\u001B[39mbetween(\u001B[38;5;241m0\u001B[39m, \u001B[38;5;241m100\u001B[39m)\u001B[38;5;241m.\u001B[39mall(), \u001B[38;5;124m\"\u001B[39m\u001B[38;5;124mValeurs anormales dans l\u001B[39m\u001B[38;5;124m'\u001B[39m\u001B[38;5;124mestimation des fruits, légumes et noix\u001B[39m\u001B[38;5;124m\"\u001B[39m\n",
      "File \u001B[1;32m~\\anaconda3\\lib\\site-packages\\pandas\\core\\frame.py:3807\u001B[0m, in \u001B[0;36mDataFrame.__getitem__\u001B[1;34m(self, key)\u001B[0m\n\u001B[0;32m   3805\u001B[0m \u001B[38;5;28;01mif\u001B[39;00m \u001B[38;5;28mself\u001B[39m\u001B[38;5;241m.\u001B[39mcolumns\u001B[38;5;241m.\u001B[39mnlevels \u001B[38;5;241m>\u001B[39m \u001B[38;5;241m1\u001B[39m:\n\u001B[0;32m   3806\u001B[0m     \u001B[38;5;28;01mreturn\u001B[39;00m \u001B[38;5;28mself\u001B[39m\u001B[38;5;241m.\u001B[39m_getitem_multilevel(key)\n\u001B[1;32m-> 3807\u001B[0m indexer \u001B[38;5;241m=\u001B[39m \u001B[38;5;28;43mself\u001B[39;49m\u001B[38;5;241;43m.\u001B[39;49m\u001B[43mcolumns\u001B[49m\u001B[38;5;241;43m.\u001B[39;49m\u001B[43mget_loc\u001B[49m\u001B[43m(\u001B[49m\u001B[43mkey\u001B[49m\u001B[43m)\u001B[49m\n\u001B[0;32m   3808\u001B[0m \u001B[38;5;28;01mif\u001B[39;00m is_integer(indexer):\n\u001B[0;32m   3809\u001B[0m     indexer \u001B[38;5;241m=\u001B[39m [indexer]\n",
      "File \u001B[1;32m~\\anaconda3\\lib\\site-packages\\pandas\\core\\indexes\\base.py:3804\u001B[0m, in \u001B[0;36mIndex.get_loc\u001B[1;34m(self, key, method, tolerance)\u001B[0m\n\u001B[0;32m   3802\u001B[0m     \u001B[38;5;28;01mreturn\u001B[39;00m \u001B[38;5;28mself\u001B[39m\u001B[38;5;241m.\u001B[39m_engine\u001B[38;5;241m.\u001B[39mget_loc(casted_key)\n\u001B[0;32m   3803\u001B[0m \u001B[38;5;28;01mexcept\u001B[39;00m \u001B[38;5;167;01mKeyError\u001B[39;00m \u001B[38;5;28;01mas\u001B[39;00m err:\n\u001B[1;32m-> 3804\u001B[0m     \u001B[38;5;28;01mraise\u001B[39;00m \u001B[38;5;167;01mKeyError\u001B[39;00m(key) \u001B[38;5;28;01mfrom\u001B[39;00m \u001B[38;5;21;01merr\u001B[39;00m\n\u001B[0;32m   3805\u001B[0m \u001B[38;5;28;01mexcept\u001B[39;00m \u001B[38;5;167;01mTypeError\u001B[39;00m:\n\u001B[0;32m   3806\u001B[0m     \u001B[38;5;66;03m# If we have a listlike key, _check_indexing_error will raise\u001B[39;00m\n\u001B[0;32m   3807\u001B[0m     \u001B[38;5;66;03m#  InvalidIndexError. Otherwise we fall through and re-raise\u001B[39;00m\n\u001B[0;32m   3808\u001B[0m     \u001B[38;5;66;03m#  the TypeError.\u001B[39;00m\n\u001B[0;32m   3809\u001B[0m     \u001B[38;5;28mself\u001B[39m\u001B[38;5;241m.\u001B[39m_check_indexing_error(key)\n",
      "\u001B[1;31mKeyError\u001B[0m: 'fruits-vegetables-nuts-estimate-from-ingredients_100g'"
     ]
    }
   ],
   "source": [
    "assert df['fruits-vegetables-nuts-estimate-from-ingredients_100g'].dropna().between(0, 100).all(), \"Valeurs anormales dans l'estimation des fruits, légumes et noix\""
   ],
   "metadata": {
    "collapsed": false,
    "ExecuteTime": {
     "end_time": "2023-11-20T14:19:58.405333800Z",
     "start_time": "2023-11-20T14:19:58.353908400Z"
    }
   },
   "id": "da8b066ed0c46ebe"
  },
  {
   "cell_type": "markdown",
   "source": [
    "### 3.4.6 Verifification des nom du produit et de la marque"
   ],
   "metadata": {
    "collapsed": false
   },
   "id": "d696c01e46675ec3"
  },
  {
   "cell_type": "code",
   "execution_count": 46,
   "outputs": [
    {
     "ename": "AssertionError",
     "evalue": "Incohérences dans brands",
     "output_type": "error",
     "traceback": [
      "\u001B[1;31m---------------------------------------------------------------------------\u001B[0m",
      "\u001B[1;31mAssertionError\u001B[0m                            Traceback (most recent call last)",
      "Cell \u001B[1;32mIn[46], line 2\u001B[0m\n\u001B[0;32m      1\u001B[0m \u001B[38;5;28;01massert\u001B[39;00m df[\u001B[38;5;124m'\u001B[39m\u001B[38;5;124mproduct_name\u001B[39m\u001B[38;5;124m'\u001B[39m]\u001B[38;5;241m.\u001B[39mapply(\u001B[38;5;28;01mlambda\u001B[39;00m x: \u001B[38;5;28misinstance\u001B[39m(x, \u001B[38;5;28mstr\u001B[39m))\u001B[38;5;241m.\u001B[39mall(), \u001B[38;5;124m\"\u001B[39m\u001B[38;5;124mIncohérences dans product_name\u001B[39m\u001B[38;5;124m\"\u001B[39m\n\u001B[1;32m----> 2\u001B[0m \u001B[38;5;28;01massert\u001B[39;00m df[\u001B[38;5;124m'\u001B[39m\u001B[38;5;124mbrands\u001B[39m\u001B[38;5;124m'\u001B[39m]\u001B[38;5;241m.\u001B[39mapply(\u001B[38;5;28;01mlambda\u001B[39;00m x: \u001B[38;5;28misinstance\u001B[39m(x, \u001B[38;5;28mstr\u001B[39m))\u001B[38;5;241m.\u001B[39mall(), \u001B[38;5;124m\"\u001B[39m\u001B[38;5;124mIncohérences dans brands\u001B[39m\u001B[38;5;124m\"\u001B[39m\n",
      "\u001B[1;31mAssertionError\u001B[0m: Incohérences dans brands"
     ]
    }
   ],
   "source": [
    "assert df['product_name'].apply(lambda x: isinstance(x, str)).all(), \"Incohérences dans product_name\"\n",
    "assert df['brands'].apply(lambda x: isinstance(x, str)).all(), \"Incohérences dans brands\""
   ],
   "metadata": {
    "collapsed": false,
    "ExecuteTime": {
     "end_time": "2023-11-20T14:21:19.591837800Z",
     "start_time": "2023-11-20T14:21:19.537845400Z"
    }
   },
   "id": "f6191f9c5906512e"
  },
  {
   "cell_type": "markdown",
   "source": [
    "### 3.4.7 Verification des noms des pays"
   ],
   "metadata": {
    "collapsed": false
   },
   "id": "cfcac98c241f6d7e"
  },
  {
   "cell_type": "code",
   "execution_count": 47,
   "outputs": [
    {
     "ename": "AssertionError",
     "evalue": "Incohérences dans countries_fr",
     "output_type": "error",
     "traceback": [
      "\u001B[1;31m---------------------------------------------------------------------------\u001B[0m",
      "\u001B[1;31mAssertionError\u001B[0m                            Traceback (most recent call last)",
      "Cell \u001B[1;32mIn[47], line 1\u001B[0m\n\u001B[1;32m----> 1\u001B[0m \u001B[38;5;28;01massert\u001B[39;00m df[\u001B[38;5;124m'\u001B[39m\u001B[38;5;124mcountries_fr\u001B[39m\u001B[38;5;124m'\u001B[39m]\u001B[38;5;241m.\u001B[39mapply(\u001B[38;5;28;01mlambda\u001B[39;00m x: \u001B[38;5;28misinstance\u001B[39m(x, \u001B[38;5;28mstr\u001B[39m))\u001B[38;5;241m.\u001B[39mall(), \u001B[38;5;124m\"\u001B[39m\u001B[38;5;124mIncohérences dans countries_fr\u001B[39m\u001B[38;5;124m\"\u001B[39m\n",
      "\u001B[1;31mAssertionError\u001B[0m: Incohérences dans countries_fr"
     ]
    }
   ],
   "source": [
    "assert df['countries_fr'].apply(lambda x: isinstance(x, str)).all(), \"Incohérences dans countries_fr\""
   ],
   "metadata": {
    "collapsed": false,
    "ExecuteTime": {
     "end_time": "2023-11-20T14:22:57.854062100Z",
     "start_time": "2023-11-20T14:22:57.793971200Z"
    }
   },
   "id": "dfa4aa08f274f1be"
  },
  {
   "cell_type": "code",
   "execution_count": 59,
   "outputs": [
    {
     "ename": "AssertionError",
     "evalue": "Des pays non valides ont été détectés !",
     "output_type": "error",
     "traceback": [
      "\u001B[1;31m---------------------------------------------------------------------------\u001B[0m",
      "\u001B[1;31mAssertionError\u001B[0m                            Traceback (most recent call last)",
      "Cell \u001B[1;32mIn[59], line 12\u001B[0m\n\u001B[0;32m      9\u001B[0m df[\u001B[38;5;124m'\u001B[39m\u001B[38;5;124mcountries_fr\u001B[39m\u001B[38;5;124m'\u001B[39m] \u001B[38;5;241m=\u001B[39m df[\u001B[38;5;124m'\u001B[39m\u001B[38;5;124mcountries_fr\u001B[39m\u001B[38;5;124m'\u001B[39m]\u001B[38;5;241m.\u001B[39mdropna()\n\u001B[0;32m     10\u001B[0m valid_countries \u001B[38;5;241m=\u001B[39m df[\u001B[38;5;124m'\u001B[39m\u001B[38;5;124mcountries_fr\u001B[39m\u001B[38;5;124m'\u001B[39m]\u001B[38;5;241m.\u001B[39mapply(is_valid_country)\n\u001B[1;32m---> 12\u001B[0m \u001B[38;5;28;01massert\u001B[39;00m valid_countries\u001B[38;5;241m.\u001B[39mall(), \u001B[38;5;124m\"\u001B[39m\u001B[38;5;124mDes pays non valides ont été détectés !\u001B[39m\u001B[38;5;124m\"\u001B[39m\n",
      "\u001B[1;31mAssertionError\u001B[0m: Des pays non valides ont été détectés !"
     ]
    }
   ],
   "source": [
    "list_countries = [country.name.lower() for country in pycountry.countries]\n",
    "\n",
    "def is_valid_country(country):\n",
    "    if isinstance(country, str):\n",
    "        return country.lower() in list_countries\n",
    "    else:\n",
    "        return False\n",
    "    \n",
    "df['countries_fr'] = df['countries_fr'].dropna()\n",
    "valid_countries = df['countries_fr'].apply(is_valid_country)\n",
    "\n",
    "assert valid_countries.all(), \"Des pays non valides ont été détectés !\""
   ],
   "metadata": {
    "collapsed": false,
    "ExecuteTime": {
     "end_time": "2023-11-20T14:27:23.427878400Z",
     "start_time": "2023-11-20T14:27:23.255601900Z"
    }
   },
   "id": "4b6aa06f4bfbb94"
  },
  {
   "cell_type": "markdown",
   "source": [
    "### 3.4.8 Validation des codes produits"
   ],
   "metadata": {
    "collapsed": false
   },
   "id": "97e287cc3f9d2465"
  },
  {
   "cell_type": "code",
   "execution_count": 60,
   "outputs": [
    {
     "ename": "AssertionError",
     "evalue": "Codes produits de longueur incohérente",
     "output_type": "error",
     "traceback": [
      "\u001B[1;31m---------------------------------------------------------------------------\u001B[0m",
      "\u001B[1;31mAssertionError\u001B[0m                            Traceback (most recent call last)",
      "Cell \u001B[1;32mIn[60], line 1\u001B[0m\n\u001B[1;32m----> 1\u001B[0m \u001B[38;5;28;01massert\u001B[39;00m df[\u001B[38;5;124m'\u001B[39m\u001B[38;5;124mcode\u001B[39m\u001B[38;5;124m'\u001B[39m]\u001B[38;5;241m.\u001B[39mastype(\u001B[38;5;28mstr\u001B[39m)\u001B[38;5;241m.\u001B[39mstr\u001B[38;5;241m.\u001B[39mlen()\u001B[38;5;241m.\u001B[39meq(\u001B[38;5;241m13\u001B[39m)\u001B[38;5;241m.\u001B[39mall(), \u001B[38;5;124m\"\u001B[39m\u001B[38;5;124mCodes produits de longueur incohérente\u001B[39m\u001B[38;5;124m\"\u001B[39m\n",
      "\u001B[1;31mAssertionError\u001B[0m: Codes produits de longueur incohérente"
     ]
    }
   ],
   "source": [
    "assert df['code'].astype(str).str.len().eq(13).all(), \"Codes produits de longueur incohérente\""
   ],
   "metadata": {
    "collapsed": false,
    "ExecuteTime": {
     "end_time": "2023-11-20T14:29:03.541964200Z",
     "start_time": "2023-11-20T14:29:03.482863Z"
    }
   },
   "id": "f79fcc7022f4837e"
  },
  {
   "cell_type": "markdown",
   "source": [
    "# 5 Imputation des valeurs manquantes"
   ],
   "metadata": {
    "collapsed": false
   },
   "id": "dd85ecb3f76d5971"
  },
  {
   "cell_type": "markdown",
   "source": [
    "## 5.1 Imputation par la médiane"
   ],
   "metadata": {
    "collapsed": false
   },
   "id": "33368b2442a345de"
  },
  {
   "cell_type": "code",
   "execution_count": null,
   "outputs": [],
   "source": [
    "for col in df.select_dtypes(include=['number']).columns:\n",
    "    df[col].fillna(df[col].median(), inplace=True)"
   ],
   "metadata": {
    "collapsed": false
   },
   "id": "67b43011fe849c7a"
  },
  {
   "cell_type": "markdown",
   "source": [
    "## 5.2 Imputation par la moyenne"
   ],
   "metadata": {
    "collapsed": false
   },
   "id": "5f10b35bffe0bf41"
  },
  {
   "cell_type": "code",
   "execution_count": null,
   "outputs": [],
   "source": [
    "for col in df.select_dtypes(include=['number']).columns:\n",
    "    df[col].fillna(df[col].mean(), inplace=True)"
   ],
   "metadata": {
    "collapsed": false
   },
   "id": "c421d5211788f34"
  },
  {
   "cell_type": "markdown",
   "source": [
    "## 5.3 Imputation par KNN"
   ],
   "metadata": {
    "collapsed": false
   },
   "id": "4f77723626cb046d"
  },
  {
   "cell_type": "code",
   "execution_count": null,
   "outputs": [],
   "source": [
    "from sklearn.impute import KNNImputer\n",
    "\n",
    "imputer = KNNImputer(n_neighbors=5)\n",
    "df[df.select_dtypes(include=['number']).columns] = imputer.fit_transform(df.select_dtypes(include=['number']))"
   ],
   "metadata": {
    "collapsed": false,
    "is_executing": true,
    "ExecuteTime": {
     "start_time": "2023-11-20T16:49:03.962461500Z"
    }
   },
   "id": "cdea21405e2201a9"
  },
  {
   "cell_type": "code",
   "execution_count": 70,
   "outputs": [
    {
     "data": {
      "text/plain": "(52560, 15)"
     },
     "execution_count": 70,
     "metadata": {},
     "output_type": "execute_result"
    }
   ],
   "source": [
    "df.shape"
   ],
   "metadata": {
    "collapsed": false,
    "ExecuteTime": {
     "end_time": "2023-11-20T16:41:30.308970400Z",
     "start_time": "2023-11-20T16:41:30.264453600Z"
    }
   },
   "id": "1035a5fe65fc1757"
  },
  {
   "cell_type": "markdown",
   "source": [
    "# 6 Vérification post imputation"
   ],
   "metadata": {
    "collapsed": false
   },
   "id": "7e59e70b9f281c15"
  },
  {
   "cell_type": "markdown",
   "source": [
    "## 6.1 Re Vérification des statistiques descriptives"
   ],
   "metadata": {
    "collapsed": false
   },
   "id": "3227c68c1c7b3386"
  },
  {
   "cell_type": "code",
   "execution_count": 62,
   "outputs": [
    {
     "name": "stdout",
     "output_type": "stream",
     "text": [
      "        additives_n   energy_100g      fat_100g  saturated-fat_100g  \\\n",
      "count  52560.000000  52560.000000  52560.000000        52560.000000   \n",
      "mean       0.256993      0.329842      0.252078            0.312220   \n",
      "std        0.239853      0.203982      0.213227            0.241216   \n",
      "min        0.000000      0.000000      0.000000            0.000000   \n",
      "25%        0.060000      0.141504      0.070584            0.103135   \n",
      "50%        0.200000      0.334989      0.207600            0.276602   \n",
      "75%        0.400000      0.466992      0.358435            0.512554   \n",
      "max        1.000000      1.000000      1.000000            1.000000   \n",
      "\n",
      "       carbohydrates_100g   sugars_100g  proteins_100g     salt_100g  \\\n",
      "count        52560.000000  52560.000000   52560.000000  52560.000000   \n",
      "mean             0.263595      0.256090       0.326435      0.289222   \n",
      "std              0.193669      0.243347       0.225351      0.213885   \n",
      "min              0.000000      0.000000       0.000000      0.000000   \n",
      "25%              0.085649      0.053013       0.153213      0.119301   \n",
      "50%              0.260744      0.178853       0.291564      0.265003   \n",
      "75%              0.422835      0.381863       0.444019      0.418683   \n",
      "max              1.000000      1.000000       1.000000      1.000000   \n",
      "\n",
      "        sodium_100g  \n",
      "count  52560.000000  \n",
      "mean       0.289599  \n",
      "std        0.214070  \n",
      "min        0.000000  \n",
      "25%        0.119273  \n",
      "50%        0.265019  \n",
      "75%        0.418585  \n",
      "max        1.000000  \n"
     ]
    }
   ],
   "source": [
    "print(df.describe())"
   ],
   "metadata": {
    "collapsed": false,
    "ExecuteTime": {
     "end_time": "2023-11-20T14:41:02.267717900Z",
     "start_time": "2023-11-20T14:41:02.209028300Z"
    }
   },
   "id": "f0c2302bfac92d6e"
  },
  {
   "cell_type": "markdown",
   "source": [
    "## 6.2 Vérification de la distribution des données imputées"
   ],
   "metadata": {
    "collapsed": false
   },
   "id": "c891b4372f03aee7"
  },
  {
   "cell_type": "code",
   "execution_count": 63,
   "outputs": [
    {
     "data": {
      "text/plain": "<Figure size 640x480 with 1 Axes>",
      "image/png": "[encoded data removed]"
     },
     "metadata": {},
     "output_type": "display_data"
    },
    {
     "data": {
      "text/plain": "<Figure size 640x480 with 1 Axes>",
      "image/png": "[encoded data removed]"
     },
     "metadata": {},
     "output_type": "display_data"
    },
    {
     "data": {
      "text/plain": "<Figure size 640x480 with 1 Axes>",
      "image/png": "[encoded data removed]"
     },
     "metadata": {},
     "output_type": "display_data"
    },
    {
     "data": {
      "text/plain": "<Figure size 640x480 with 1 Axes>",
      "image/png": "[encoded data removed]"
     },
     "metadata": {},
     "output_type": "display_data"
    },
    {
     "data": {
      "text/plain": "<Figure size 640x480 with 1 Axes>",
      "image/png": "[encoded data removed]"
     },
     "metadata": {},
     "output_type": "display_data"
    },
    {
     "data": {
      "text/plain": "<Figure size 640x480 with 1 Axes>",
      "image/png": "[encoded data removed]"
     },
     "metadata": {},
     "output_type": "display_data"
    },
    {
     "data": {
      "text/plain": "<Figure size 640x480 with 1 Axes>",
      "image/png": "[encoded data removed]"
     },
     "metadata": {},
     "output_type": "display_data"
    },
    {
     "data": {
      "text/plain": "<Figure size 640x480 with 1 Axes>",
      "image/png": "[encoded data removed]"
     },
     "metadata": {},
     "output_type": "display_data"
    },
    {
     "data": {
      "text/plain": "<Figure size 640x480 with 1 Axes>",
      "image/png": "[encoded data removed]"
     },
     "metadata": {},
     "output_type": "display_data"
    }
   ],
   "source": [
    "for col in df.select_dtypes(include=['number']).columns:\n",
    "    sns.histplot(df[col], kde=True)\n",
    "    plt.title(f\"Distribution après imputation pour {col}\")\n",
    "    plt.show()"
   ],
   "metadata": {
    "collapsed": false,
    "ExecuteTime": {
     "end_time": "2023-11-20T14:41:06.579429800Z",
     "start_time": "2023-11-20T14:41:02.239680500Z"
    }
   },
   "id": "2e7a93da79cfb5a9"
  },
  {
   "cell_type": "markdown",
   "source": [
    "# 7 Analyse exploratoire des données (AED)"
   ],
   "metadata": {
    "collapsed": false
   },
   "id": "76910e2b12972a80"
  },
  {
   "cell_type": "markdown",
   "source": [
    "## 7.1 Analyse Univariée"
   ],
   "metadata": {
    "collapsed": false
   },
   "id": "98af65012945d1b9"
  },
  {
   "cell_type": "markdown",
   "source": [
    "## 7.2 Analyse Bivariée / Multivariée"
   ],
   "metadata": {
    "collapsed": false
   },
   "id": "c704da6901e1868f"
  },
  {
   "cell_type": "markdown",
   "source": [
    "## 7.3 Analyse des tendances et des modèles"
   ],
   "metadata": {
    "collapsed": false
   },
   "id": "7bf147966b211001"
  },
  {
   "cell_type": "markdown",
   "source": [
    "# 8 Visualisation des données"
   ],
   "metadata": {
    "collapsed": false
   },
   "id": "a12782a0c50fc7a1"
  },
  {
   "cell_type": "markdown",
   "source": [
    "## 8.1 Visualisations des distributions et des relations"
   ],
   "metadata": {
    "collapsed": false
   },
   "id": "9341a3467ec7ad03"
  },
  {
   "cell_type": "markdown",
   "source": [
    "## 8.2 Visualisation avancées"
   ],
   "metadata": {
    "collapsed": false
   },
   "id": "6a0510f1abd996e2"
  },
  {
   "cell_type": "markdown",
   "source": [
    "# Exportation des données nettoyées"
   ],
   "metadata": {
    "collapsed": false
   },
   "id": "2519dda06b3b6299"
  },
  {
   "cell_type": "code",
   "execution_count": 67,
   "outputs": [],
   "source": [
    "from datetime import datetime\n",
    "\n",
    "now = datetime.now()\n",
    "formatted_date = now.strftime(\"%Y%m%d_%H%M%S\")\n",
    "\n",
    "df.to_csv('./exports/cleaned_data'+formatted_date+'.csv', index=False)"
   ],
   "metadata": {
    "collapsed": false,
    "ExecuteTime": {
     "end_time": "2023-11-20T14:54:31.677678Z",
     "start_time": "2023-11-20T14:54:30.937243200Z"
    }
   },
   "id": "b66ee27f0808eb6"
  }
 ],
 "metadata": {
  "kernelspec": {
   "display_name": "Python 3 (ipykernel)",
   "language": "python",
   "name": "python3"
  },
  "language_info": {
   "codemirror_mode": {
    "name": "ipython",
    "version": 3
   },
   "file_extension": ".py",
   "mimetype": "text/x-python",
   "name": "python",
   "nbconvert_exporter": "python",
   "pygments_lexer": "ipython3",
   "version": "3.10.9"
  }
 },
 "nbformat": 4,
 "nbformat_minor": 5
}
