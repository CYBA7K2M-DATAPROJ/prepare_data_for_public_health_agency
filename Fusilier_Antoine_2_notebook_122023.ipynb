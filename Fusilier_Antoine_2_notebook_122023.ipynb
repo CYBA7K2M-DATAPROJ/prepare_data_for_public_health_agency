{
 "cells": [
  {
   "cell_type": "markdown",
   "source": [
    "# 7 Analyse Exploratoire des Données (AED)"
   ],
   "metadata": {
    "collapsed": false
   },
   "id": "266d3277d9d6b37b"
  },
  {
   "cell_type": "markdown",
   "source": [
    "## 7.1 Analyse Univariée"
   ],
   "metadata": {
    "collapsed": false
   },
   "id": "c0d4ad69ba679e99"
  },
  {
   "cell_type": "code",
   "execution_count": null,
   "id": "initial_id",
   "metadata": {
    "collapsed": true
   },
   "outputs": [],
   "source": []
  }
 ],
 "metadata": {
  "kernelspec": {
   "display_name": "Python 3",
   "language": "python",
   "name": "python3"
  },
  "language_info": {
   "codemirror_mode": {
    "name": "ipython",
    "version": 2
   },
   "file_extension": ".py",
   "mimetype": "text/x-python",
   "name": "python",
   "nbconvert_exporter": "python",
   "pygments_lexer": "ipython2",
   "version": "2.7.6"
  }
 },
 "nbformat": 4,
 "nbformat_minor": 5
}
